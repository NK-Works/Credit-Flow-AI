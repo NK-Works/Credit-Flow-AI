{
 "cells": [
  {
   "cell_type": "markdown",
   "id": "4e1e2fcc",
   "metadata": {
    "id": "4e1e2fcc",
    "papermill": {
     "duration": 0.029083,
     "end_time": "2023-01-31T14:11:23.008968",
     "exception": false,
     "start_time": "2023-01-31T14:11:22.979885",
     "status": "completed"
    },
    "tags": []
   },
   "source": [
    "# Loan Defaulter Prediction"
   ]
  },
  {
   "cell_type": "code",
   "execution_count": 1,
   "id": "25ee1df2",
   "metadata": {
    "_kg_hide-input": true,
    "_kg_hide-output": true,
    "colab": {
     "base_uri": "https://localhost:8080/"
    },
    "execution": {
     "iopub.execute_input": "2023-01-31T14:11:23.066230Z",
     "iopub.status.busy": "2023-01-31T14:11:23.065356Z",
     "iopub.status.idle": "2023-01-31T14:11:35.106519Z",
     "shell.execute_reply": "2023-01-31T14:11:35.105319Z"
    },
    "executionInfo": {
     "elapsed": 13477,
     "status": "ok",
     "timestamp": 1735819588446,
     "user": {
      "displayName": "NK",
      "userId": "17274431766567944403"
     },
     "user_tz": -330
    },
    "id": "25ee1df2",
    "outputId": "f8922570-f20b-4289-c562-60b5becbf36a",
    "papermill": {
     "duration": 12.072611,
     "end_time": "2023-01-31T14:11:35.109296",
     "exception": false,
     "start_time": "2023-01-31T14:11:23.036685",
     "status": "completed"
    },
    "tags": []
   },
   "outputs": [
    {
     "name": "stdout",
     "output_type": "stream",
     "text": [
      "\u001b[?25l   \u001b[90m━━━━━━━━━━━━━━━━━━━━━━━━━━━━━━━━━━━━━━━━\u001b[0m \u001b[32m0.0/161.9 kB\u001b[0m \u001b[31m?\u001b[0m eta \u001b[36m-:--:--\u001b[0m\r\u001b[2K   \u001b[91m━━━━━━━━━━━━━━━━━━━━━━━━━━━━━━━━━━━━━\u001b[0m\u001b[91m╸\u001b[0m\u001b[90m━━\u001b[0m \u001b[32m153.6/161.9 kB\u001b[0m \u001b[31m4.4 MB/s\u001b[0m eta \u001b[36m0:00:01\u001b[0m\r\u001b[2K   \u001b[90m━━━━━━━━━━━━━━━━━━━━━━━━━━━━━━━━━━━━━━━━\u001b[0m \u001b[32m161.9/161.9 kB\u001b[0m \u001b[31m3.0 MB/s\u001b[0m eta \u001b[36m0:00:00\u001b[0m\n",
      "\u001b[?25h"
     ]
    }
   ],
   "source": [
    "!pip install -q hvplot"
   ]
  },
  {
   "cell_type": "code",
   "execution_count": 89,
   "id": "9cb24c87",
   "metadata": {
    "_kg_hide-input": true,
    "colab": {
     "base_uri": "https://localhost:8080/",
     "height": 34
    },
    "execution": {
     "iopub.execute_input": "2023-01-31T14:11:35.164738Z",
     "iopub.status.busy": "2023-01-31T14:11:35.163899Z",
     "iopub.status.idle": "2023-01-31T14:11:44.332161Z",
     "shell.execute_reply": "2023-01-31T14:11:44.331116Z"
    },
    "executionInfo": {
     "elapsed": 4300,
     "status": "ok",
     "timestamp": 1735823283658,
     "user": {
      "displayName": "NK",
      "userId": "17274431766567944403"
     },
     "user_tz": -330
    },
    "id": "9cb24c87",
    "outputId": "10a79d05-43b7-4800-d21d-0bfe9c9f3fdd",
    "papermill": {
     "duration": 9.198485,
     "end_time": "2023-01-31T14:11:44.334641",
     "exception": false,
     "start_time": "2023-01-31T14:11:35.136156",
     "status": "completed"
    },
    "tags": []
   },
   "outputs": [
    {
     "data": {
      "text/html": [
       "<script type=\"esms-options\">{\"shimMode\": true}</script><style>*[data-root-id],\n",
       "*[data-root-id] > * {\n",
       "  box-sizing: border-box;\n",
       "  font-family: var(--jp-ui-font-family);\n",
       "  font-size: var(--jp-ui-font-size1);\n",
       "  color: var(--vscode-editor-foreground, var(--jp-ui-font-color1));\n",
       "}\n",
       "\n",
       "/* Override VSCode background color */\n",
       ".cell-output-ipywidget-background:has(\n",
       "    > .cell-output-ipywidget-background > .lm-Widget > *[data-root-id]\n",
       "  ),\n",
       ".cell-output-ipywidget-background:has(> .lm-Widget > *[data-root-id]) {\n",
       "  background-color: transparent !important;\n",
       "}\n",
       "</style>"
      ]
     },
     "metadata": {},
     "output_type": "display_data"
    },
    {
     "data": {
      "application/javascript": "(function(root) {\n  function now() {\n    return new Date();\n  }\n\n  const force = true;\n  const py_version = '3.6.2'.replace('rc', '-rc.').replace('.dev', '-dev.');\n  const reloading = false;\n  const Bokeh = root.Bokeh;\n\n  // Set a timeout for this load but only if we are not already initializing\n  if (typeof (root._bokeh_timeout) === \"undefined\" || (force || !root._bokeh_is_initializing)) {\n    root._bokeh_timeout = Date.now() + 5000;\n    root._bokeh_failed_load = false;\n  }\n\n  function run_callbacks() {\n    try {\n      root._bokeh_onload_callbacks.forEach(function(callback) {\n        if (callback != null)\n          callback();\n      });\n    } finally {\n      delete root._bokeh_onload_callbacks;\n    }\n    console.debug(\"Bokeh: all callbacks have finished\");\n  }\n\n  function load_libs(css_urls, js_urls, js_modules, js_exports, callback) {\n    if (css_urls == null) css_urls = [];\n    if (js_urls == null) js_urls = [];\n    if (js_modules == null) js_modules = [];\n    if (js_exports == null) js_exports = {};\n\n    root._bokeh_onload_callbacks.push(callback);\n\n    if (root._bokeh_is_loading > 0) {\n      // Don't load bokeh if it is still initializing\n      console.debug(\"Bokeh: BokehJS is being loaded, scheduling callback at\", now());\n      return null;\n    } else if (js_urls.length === 0 && js_modules.length === 0 && Object.keys(js_exports).length === 0) {\n      // There is nothing to load\n      run_callbacks();\n      return null;\n    }\n\n    function on_load() {\n      root._bokeh_is_loading--;\n      if (root._bokeh_is_loading === 0) {\n        console.debug(\"Bokeh: all BokehJS libraries/stylesheets loaded\");\n        run_callbacks()\n      }\n    }\n    window._bokeh_on_load = on_load\n\n    function on_error(e) {\n      const src_el = e.srcElement\n      console.error(\"failed to load \" + (src_el.href || src_el.src));\n    }\n\n    const skip = [];\n    if (window.requirejs) {\n      window.requirejs.config({'packages': {}, 'paths': {}, 'shim': {}});\n      root._bokeh_is_loading = css_urls.length + 0;\n    } else {\n      root._bokeh_is_loading = css_urls.length + js_urls.length + js_modules.length + Object.keys(js_exports).length;\n    }\n\n    const existing_stylesheets = []\n    const links = document.getElementsByTagName('link')\n    for (let i = 0; i < links.length; i++) {\n      const link = links[i]\n      if (link.href != null) {\n        existing_stylesheets.push(link.href)\n      }\n    }\n    for (let i = 0; i < css_urls.length; i++) {\n      const url = css_urls[i];\n      const escaped = encodeURI(url)\n      if (existing_stylesheets.indexOf(escaped) !== -1) {\n        on_load()\n        continue;\n      }\n      const element = document.createElement(\"link\");\n      element.onload = on_load;\n      element.onerror = on_error;\n      element.rel = \"stylesheet\";\n      element.type = \"text/css\";\n      element.href = url;\n      console.debug(\"Bokeh: injecting link tag for BokehJS stylesheet: \", url);\n      document.body.appendChild(element);\n    }    var existing_scripts = []\n    const scripts = document.getElementsByTagName('script')\n    for (let i = 0; i < scripts.length; i++) {\n      var script = scripts[i]\n      if (script.src != null) {\n        existing_scripts.push(script.src)\n      }\n    }\n    for (let i = 0; i < js_urls.length; i++) {\n      const url = js_urls[i];\n      const escaped = encodeURI(url)\n      if (skip.indexOf(escaped) !== -1 || existing_scripts.indexOf(escaped) !== -1) {\n        if (!window.requirejs) {\n          on_load();\n        }\n        continue;\n      }\n      const element = document.createElement('script');\n      element.onload = on_load;\n      element.onerror = on_error;\n      element.async = false;\n      element.src = url;\n      console.debug(\"Bokeh: injecting script tag for BokehJS library: \", url);\n      document.head.appendChild(element);\n    }\n    for (let i = 0; i < js_modules.length; i++) {\n      const url = js_modules[i];\n      const escaped = encodeURI(url)\n      if (skip.indexOf(escaped) !== -1 || existing_scripts.indexOf(escaped) !== -1) {\n        if (!window.requirejs) {\n          on_load();\n        }\n        continue;\n      }\n      var element = document.createElement('script');\n      element.onload = on_load;\n      element.onerror = on_error;\n      element.async = false;\n      element.src = url;\n      element.type = \"module\";\n      console.debug(\"Bokeh: injecting script tag for BokehJS library: \", url);\n      document.head.appendChild(element);\n    }\n    for (const name in js_exports) {\n      const url = js_exports[name];\n      const escaped = encodeURI(url)\n      if (skip.indexOf(escaped) >= 0 || root[name] != null) {\n        if (!window.requirejs) {\n          on_load();\n        }\n        continue;\n      }\n      var element = document.createElement('script');\n      element.onerror = on_error;\n      element.async = false;\n      element.type = \"module\";\n      console.debug(\"Bokeh: injecting script tag for BokehJS library: \", url);\n      element.textContent = `\n      import ${name} from \"${url}\"\n      window.${name} = ${name}\n      window._bokeh_on_load()\n      `\n      document.head.appendChild(element);\n    }\n    if (!js_urls.length && !js_modules.length) {\n      on_load()\n    }\n  };\n\n  function inject_raw_css(css) {\n    const element = document.createElement(\"style\");\n    element.appendChild(document.createTextNode(css));\n    document.body.appendChild(element);\n  }\n\n  const js_urls = [\"https://cdn.holoviz.org/panel/1.5.4/dist/bundled/reactiveesm/es-module-shims@^1.10.0/dist/es-module-shims.min.js\", \"https://cdn.bokeh.org/bokeh/release/bokeh-3.6.2.min.js\", \"https://cdn.bokeh.org/bokeh/release/bokeh-gl-3.6.2.min.js\", \"https://cdn.bokeh.org/bokeh/release/bokeh-widgets-3.6.2.min.js\", \"https://cdn.bokeh.org/bokeh/release/bokeh-tables-3.6.2.min.js\", \"https://cdn.holoviz.org/panel/1.5.4/dist/panel.min.js\"];\n  const js_modules = [];\n  const js_exports = {};\n  const css_urls = [];\n  const inline_js = [    function(Bokeh) {\n      Bokeh.set_log_level(\"info\");\n    },\nfunction(Bokeh) {} // ensure no trailing comma for IE\n  ];\n\n  function run_inline_js() {\n    if ((root.Bokeh !== undefined) || (force === true)) {\n      for (let i = 0; i < inline_js.length; i++) {\n        try {\n          inline_js[i].call(root, root.Bokeh);\n        } catch(e) {\n          if (!reloading) {\n            throw e;\n          }\n        }\n      }\n      // Cache old bokeh versions\n      if (Bokeh != undefined && !reloading) {\n        var NewBokeh = root.Bokeh;\n        if (Bokeh.versions === undefined) {\n          Bokeh.versions = new Map();\n        }\n        if (NewBokeh.version !== Bokeh.version) {\n          Bokeh.versions.set(NewBokeh.version, NewBokeh)\n        }\n        root.Bokeh = Bokeh;\n      }\n    } else if (Date.now() < root._bokeh_timeout) {\n      setTimeout(run_inline_js, 100);\n    } else if (!root._bokeh_failed_load) {\n      console.log(\"Bokeh: BokehJS failed to load within specified timeout.\");\n      root._bokeh_failed_load = true;\n    }\n    root._bokeh_is_initializing = false\n  }\n\n  function load_or_wait() {\n    // Implement a backoff loop that tries to ensure we do not load multiple\n    // versions of Bokeh and its dependencies at the same time.\n    // In recent versions we use the root._bokeh_is_initializing flag\n    // to determine whether there is an ongoing attempt to initialize\n    // bokeh, however for backward compatibility we also try to ensure\n    // that we do not start loading a newer (Panel>=1.0 and Bokeh>3) version\n    // before older versions are fully initialized.\n    if (root._bokeh_is_initializing && Date.now() > root._bokeh_timeout) {\n      // If the timeout and bokeh was not successfully loaded we reset\n      // everything and try loading again\n      root._bokeh_timeout = Date.now() + 5000;\n      root._bokeh_is_initializing = false;\n      root._bokeh_onload_callbacks = undefined;\n      root._bokeh_is_loading = 0\n      console.log(\"Bokeh: BokehJS was loaded multiple times but one version failed to initialize.\");\n      load_or_wait();\n    } else if (root._bokeh_is_initializing || (typeof root._bokeh_is_initializing === \"undefined\" && root._bokeh_onload_callbacks !== undefined)) {\n      setTimeout(load_or_wait, 100);\n    } else {\n      root._bokeh_is_initializing = true\n      root._bokeh_onload_callbacks = []\n      const bokeh_loaded = root.Bokeh != null && (root.Bokeh.version === py_version || (root.Bokeh.versions !== undefined && root.Bokeh.versions.has(py_version)));\n      if (!reloading && !bokeh_loaded) {\n        if (root.Bokeh) {\n          root.Bokeh = undefined;\n        }\n        console.debug(\"Bokeh: BokehJS not loaded, scheduling load and callback at\", now());\n      }\n      load_libs(css_urls, js_urls, js_modules, js_exports, function() {\n        console.debug(\"Bokeh: BokehJS plotting callback run at\", now());\n        run_inline_js();\n      });\n    }\n  }\n  // Give older versions of the autoload script a head-start to ensure\n  // they initialize before we start loading newer version.\n  setTimeout(load_or_wait, 100)\n}(window));",
      "application/vnd.holoviews_load.v0+json": ""
     },
     "metadata": {},
     "output_type": "display_data"
    },
    {
     "data": {
      "application/javascript": "\nif ((window.PyViz === undefined) || (window.PyViz instanceof HTMLElement)) {\n  window.PyViz = {comms: {}, comm_status:{}, kernels:{}, receivers: {}, plot_index: []}\n}\n\n\n    function JupyterCommManager() {\n    }\n\n    JupyterCommManager.prototype.register_target = function(plot_id, comm_id, msg_handler) {\n      if (window.comm_manager || ((window.Jupyter !== undefined) && (Jupyter.notebook.kernel != null))) {\n        var comm_manager = window.comm_manager || Jupyter.notebook.kernel.comm_manager;\n        comm_manager.register_target(comm_id, function(comm) {\n          comm.on_msg(msg_handler);\n        });\n      } else if ((plot_id in window.PyViz.kernels) && (window.PyViz.kernels[plot_id])) {\n        window.PyViz.kernels[plot_id].registerCommTarget(comm_id, function(comm) {\n          comm.onMsg = msg_handler;\n        });\n      } else if (typeof google != 'undefined' && google.colab.kernel != null) {\n        google.colab.kernel.comms.registerTarget(comm_id, (comm) => {\n          var messages = comm.messages[Symbol.asyncIterator]();\n          function processIteratorResult(result) {\n            var message = result.value;\n            console.log(message)\n            var content = {data: message.data, comm_id};\n            var buffers = []\n            for (var buffer of message.buffers || []) {\n              buffers.push(new DataView(buffer))\n            }\n            var metadata = message.metadata || {};\n            var msg = {content, buffers, metadata}\n            msg_handler(msg);\n            return messages.next().then(processIteratorResult);\n          }\n          return messages.next().then(processIteratorResult);\n        })\n      }\n    }\n\n    JupyterCommManager.prototype.get_client_comm = function(plot_id, comm_id, msg_handler) {\n      if (comm_id in window.PyViz.comms) {\n        return window.PyViz.comms[comm_id];\n      } else if (window.comm_manager || ((window.Jupyter !== undefined) && (Jupyter.notebook.kernel != null))) {\n        var comm_manager = window.comm_manager || Jupyter.notebook.kernel.comm_manager;\n        var comm = comm_manager.new_comm(comm_id, {}, {}, {}, comm_id);\n        if (msg_handler) {\n          comm.on_msg(msg_handler);\n        }\n      } else if ((plot_id in window.PyViz.kernels) && (window.PyViz.kernels[plot_id])) {\n        var comm = window.PyViz.kernels[plot_id].connectToComm(comm_id);\n        comm.open();\n        if (msg_handler) {\n          comm.onMsg = msg_handler;\n        }\n      } else if (typeof google != 'undefined' && google.colab.kernel != null) {\n        var comm_promise = google.colab.kernel.comms.open(comm_id)\n        comm_promise.then((comm) => {\n          window.PyViz.comms[comm_id] = comm;\n          if (msg_handler) {\n            var messages = comm.messages[Symbol.asyncIterator]();\n            function processIteratorResult(result) {\n              var message = result.value;\n              var content = {data: message.data};\n              var metadata = message.metadata || {comm_id};\n              var msg = {content, metadata}\n              msg_handler(msg);\n              return messages.next().then(processIteratorResult);\n            }\n            return messages.next().then(processIteratorResult);\n          }\n        }) \n        var sendClosure = (data, metadata, buffers, disposeOnDone) => {\n          return comm_promise.then((comm) => {\n            comm.send(data, metadata, buffers, disposeOnDone);\n          });\n        };\n        var comm = {\n          send: sendClosure\n        };\n      }\n      window.PyViz.comms[comm_id] = comm;\n      return comm;\n    }\n    window.PyViz.comm_manager = new JupyterCommManager();\n    \n\n\nvar JS_MIME_TYPE = 'application/javascript';\nvar HTML_MIME_TYPE = 'text/html';\nvar EXEC_MIME_TYPE = 'application/vnd.holoviews_exec.v0+json';\nvar CLASS_NAME = 'output';\n\n/**\n * Render data to the DOM node\n */\nfunction render(props, node) {\n  var div = document.createElement(\"div\");\n  var script = document.createElement(\"script\");\n  node.appendChild(div);\n  node.appendChild(script);\n}\n\n/**\n * Handle when a new output is added\n */\nfunction handle_add_output(event, handle) {\n  var output_area = handle.output_area;\n  var output = handle.output;\n  if ((output.data == undefined) || (!output.data.hasOwnProperty(EXEC_MIME_TYPE))) {\n    return\n  }\n  var id = output.metadata[EXEC_MIME_TYPE][\"id\"];\n  var toinsert = output_area.element.find(\".\" + CLASS_NAME.split(' ')[0]);\n  if (id !== undefined) {\n    var nchildren = toinsert.length;\n    var html_node = toinsert[nchildren-1].children[0];\n    html_node.innerHTML = output.data[HTML_MIME_TYPE];\n    var scripts = [];\n    var nodelist = html_node.querySelectorAll(\"script\");\n    for (var i in nodelist) {\n      if (nodelist.hasOwnProperty(i)) {\n        scripts.push(nodelist[i])\n      }\n    }\n\n    scripts.forEach( function (oldScript) {\n      var newScript = document.createElement(\"script\");\n      var attrs = [];\n      var nodemap = oldScript.attributes;\n      for (var j in nodemap) {\n        if (nodemap.hasOwnProperty(j)) {\n          attrs.push(nodemap[j])\n        }\n      }\n      attrs.forEach(function(attr) { newScript.setAttribute(attr.name, attr.value) });\n      newScript.appendChild(document.createTextNode(oldScript.innerHTML));\n      oldScript.parentNode.replaceChild(newScript, oldScript);\n    });\n    if (JS_MIME_TYPE in output.data) {\n      toinsert[nchildren-1].children[1].textContent = output.data[JS_MIME_TYPE];\n    }\n    output_area._hv_plot_id = id;\n    if ((window.Bokeh !== undefined) && (id in Bokeh.index)) {\n      window.PyViz.plot_index[id] = Bokeh.index[id];\n    } else {\n      window.PyViz.plot_index[id] = null;\n    }\n  } else if (output.metadata[EXEC_MIME_TYPE][\"server_id\"] !== undefined) {\n    var bk_div = document.createElement(\"div\");\n    bk_div.innerHTML = output.data[HTML_MIME_TYPE];\n    var script_attrs = bk_div.children[0].attributes;\n    for (var i = 0; i < script_attrs.length; i++) {\n      toinsert[toinsert.length - 1].childNodes[1].setAttribute(script_attrs[i].name, script_attrs[i].value);\n    }\n    // store reference to server id on output_area\n    output_area._bokeh_server_id = output.metadata[EXEC_MIME_TYPE][\"server_id\"];\n  }\n}\n\n/**\n * Handle when an output is cleared or removed\n */\nfunction handle_clear_output(event, handle) {\n  var id = handle.cell.output_area._hv_plot_id;\n  var server_id = handle.cell.output_area._bokeh_server_id;\n  if (((id === undefined) || !(id in PyViz.plot_index)) && (server_id !== undefined)) { return; }\n  var comm = window.PyViz.comm_manager.get_client_comm(\"hv-extension-comm\", \"hv-extension-comm\", function () {});\n  if (server_id !== null) {\n    comm.send({event_type: 'server_delete', 'id': server_id});\n    return;\n  } else if (comm !== null) {\n    comm.send({event_type: 'delete', 'id': id});\n  }\n  delete PyViz.plot_index[id];\n  if ((window.Bokeh !== undefined) & (id in window.Bokeh.index)) {\n    var doc = window.Bokeh.index[id].model.document\n    doc.clear();\n    const i = window.Bokeh.documents.indexOf(doc);\n    if (i > -1) {\n      window.Bokeh.documents.splice(i, 1);\n    }\n  }\n}\n\n/**\n * Handle kernel restart event\n */\nfunction handle_kernel_cleanup(event, handle) {\n  delete PyViz.comms[\"hv-extension-comm\"];\n  window.PyViz.plot_index = {}\n}\n\n/**\n * Handle update_display_data messages\n */\nfunction handle_update_output(event, handle) {\n  handle_clear_output(event, {cell: {output_area: handle.output_area}})\n  handle_add_output(event, handle)\n}\n\nfunction register_renderer(events, OutputArea) {\n  function append_mime(data, metadata, element) {\n    // create a DOM node to render to\n    var toinsert = this.create_output_subarea(\n    metadata,\n    CLASS_NAME,\n    EXEC_MIME_TYPE\n    );\n    this.keyboard_manager.register_events(toinsert);\n    // Render to node\n    var props = {data: data, metadata: metadata[EXEC_MIME_TYPE]};\n    render(props, toinsert[0]);\n    element.append(toinsert);\n    return toinsert\n  }\n\n  events.on('output_added.OutputArea', handle_add_output);\n  events.on('output_updated.OutputArea', handle_update_output);\n  events.on('clear_output.CodeCell', handle_clear_output);\n  events.on('delete.Cell', handle_clear_output);\n  events.on('kernel_ready.Kernel', handle_kernel_cleanup);\n\n  OutputArea.prototype.register_mime_type(EXEC_MIME_TYPE, append_mime, {\n    safe: true,\n    index: 0\n  });\n}\n\nif (window.Jupyter !== undefined) {\n  try {\n    var events = require('base/js/events');\n    var OutputArea = require('notebook/js/outputarea').OutputArea;\n    if (OutputArea.prototype.mime_types().indexOf(EXEC_MIME_TYPE) == -1) {\n      register_renderer(events, OutputArea);\n    }\n  } catch(err) {\n  }\n}\n",
      "application/vnd.holoviews_load.v0+json": ""
     },
     "metadata": {},
     "output_type": "display_data"
    },
    {
     "data": {
      "application/vnd.holoviews_exec.v0+json": "",
      "text/html": [
       "<div id='94769797-784f-4e3b-ad60-e8a15c4024c2'>\n",
       "  <div id=\"aa7c7c1c-645e-498a-80d6-9538b1dd8276\" data-root-id=\"94769797-784f-4e3b-ad60-e8a15c4024c2\" style=\"display: contents;\"></div>\n",
       "</div>\n",
       "<script type=\"application/javascript\">(function(root) {\n",
       "  var docs_json = {\"d35810f4-0898-4bcb-afe1-20f9fbcb8ae3\":{\"version\":\"3.6.2\",\"title\":\"Bokeh Application\",\"roots\":[{\"type\":\"object\",\"name\":\"panel.models.browser.BrowserInfo\",\"id\":\"94769797-784f-4e3b-ad60-e8a15c4024c2\"},{\"type\":\"object\",\"name\":\"panel.models.comm_manager.CommManager\",\"id\":\"c869128d-3c95-4ecc-ba97-5d5363480ff6\",\"attributes\":{\"plot_id\":\"94769797-784f-4e3b-ad60-e8a15c4024c2\",\"comm_id\":\"897655d3e1a2495aab0e123f289730d8\",\"client_comm_id\":\"886cff69a345490997a73a718d9bb151\"}}],\"defs\":[{\"type\":\"model\",\"name\":\"ReactiveHTML1\"},{\"type\":\"model\",\"name\":\"FlexBox1\",\"properties\":[{\"name\":\"align_content\",\"kind\":\"Any\",\"default\":\"flex-start\"},{\"name\":\"align_items\",\"kind\":\"Any\",\"default\":\"flex-start\"},{\"name\":\"flex_direction\",\"kind\":\"Any\",\"default\":\"row\"},{\"name\":\"flex_wrap\",\"kind\":\"Any\",\"default\":\"wrap\"},{\"name\":\"gap\",\"kind\":\"Any\",\"default\":\"\"},{\"name\":\"justify_content\",\"kind\":\"Any\",\"default\":\"flex-start\"}]},{\"type\":\"model\",\"name\":\"FloatPanel1\",\"properties\":[{\"name\":\"config\",\"kind\":\"Any\",\"default\":{\"type\":\"map\"}},{\"name\":\"contained\",\"kind\":\"Any\",\"default\":true},{\"name\":\"position\",\"kind\":\"Any\",\"default\":\"right-top\"},{\"name\":\"offsetx\",\"kind\":\"Any\",\"default\":null},{\"name\":\"offsety\",\"kind\":\"Any\",\"default\":null},{\"name\":\"theme\",\"kind\":\"Any\",\"default\":\"primary\"},{\"name\":\"status\",\"kind\":\"Any\",\"default\":\"normalized\"}]},{\"type\":\"model\",\"name\":\"GridStack1\",\"properties\":[{\"name\":\"mode\",\"kind\":\"Any\",\"default\":\"warn\"},{\"name\":\"ncols\",\"kind\":\"Any\",\"default\":null},{\"name\":\"nrows\",\"kind\":\"Any\",\"default\":null},{\"name\":\"allow_resize\",\"kind\":\"Any\",\"default\":true},{\"name\":\"allow_drag\",\"kind\":\"Any\",\"default\":true},{\"name\":\"state\",\"kind\":\"Any\",\"default\":[]}]},{\"type\":\"model\",\"name\":\"drag1\",\"properties\":[{\"name\":\"slider_width\",\"kind\":\"Any\",\"default\":5},{\"name\":\"slider_color\",\"kind\":\"Any\",\"default\":\"black\"},{\"name\":\"value\",\"kind\":\"Any\",\"default\":50}]},{\"type\":\"model\",\"name\":\"click1\",\"properties\":[{\"name\":\"terminal_output\",\"kind\":\"Any\",\"default\":\"\"},{\"name\":\"debug_name\",\"kind\":\"Any\",\"default\":\"\"},{\"name\":\"clears\",\"kind\":\"Any\",\"default\":0}]},{\"type\":\"model\",\"name\":\"FastWrapper1\",\"properties\":[{\"name\":\"object\",\"kind\":\"Any\",\"default\":null},{\"name\":\"style\",\"kind\":\"Any\",\"default\":null}]},{\"type\":\"model\",\"name\":\"NotificationAreaBase1\",\"properties\":[{\"name\":\"js_events\",\"kind\":\"Any\",\"default\":{\"type\":\"map\"}},{\"name\":\"position\",\"kind\":\"Any\",\"default\":\"bottom-right\"},{\"name\":\"_clear\",\"kind\":\"Any\",\"default\":0}]},{\"type\":\"model\",\"name\":\"NotificationArea1\",\"properties\":[{\"name\":\"js_events\",\"kind\":\"Any\",\"default\":{\"type\":\"map\"}},{\"name\":\"notifications\",\"kind\":\"Any\",\"default\":[]},{\"name\":\"position\",\"kind\":\"Any\",\"default\":\"bottom-right\"},{\"name\":\"_clear\",\"kind\":\"Any\",\"default\":0},{\"name\":\"types\",\"kind\":\"Any\",\"default\":[{\"type\":\"map\",\"entries\":[[\"type\",\"warning\"],[\"background\",\"#ffc107\"],[\"icon\",{\"type\":\"map\",\"entries\":[[\"className\",\"fas fa-exclamation-triangle\"],[\"tagName\",\"i\"],[\"color\",\"white\"]]}]]},{\"type\":\"map\",\"entries\":[[\"type\",\"info\"],[\"background\",\"#007bff\"],[\"icon\",{\"type\":\"map\",\"entries\":[[\"className\",\"fas fa-info-circle\"],[\"tagName\",\"i\"],[\"color\",\"white\"]]}]]}]}]},{\"type\":\"model\",\"name\":\"Notification\",\"properties\":[{\"name\":\"background\",\"kind\":\"Any\",\"default\":null},{\"name\":\"duration\",\"kind\":\"Any\",\"default\":3000},{\"name\":\"icon\",\"kind\":\"Any\",\"default\":null},{\"name\":\"message\",\"kind\":\"Any\",\"default\":\"\"},{\"name\":\"notification_type\",\"kind\":\"Any\",\"default\":null},{\"name\":\"_destroyed\",\"kind\":\"Any\",\"default\":false}]},{\"type\":\"model\",\"name\":\"TemplateActions1\",\"properties\":[{\"name\":\"open_modal\",\"kind\":\"Any\",\"default\":0},{\"name\":\"close_modal\",\"kind\":\"Any\",\"default\":0}]},{\"type\":\"model\",\"name\":\"BootstrapTemplateActions1\",\"properties\":[{\"name\":\"open_modal\",\"kind\":\"Any\",\"default\":0},{\"name\":\"close_modal\",\"kind\":\"Any\",\"default\":0}]},{\"type\":\"model\",\"name\":\"TemplateEditor1\",\"properties\":[{\"name\":\"layout\",\"kind\":\"Any\",\"default\":[]}]},{\"type\":\"model\",\"name\":\"MaterialTemplateActions1\",\"properties\":[{\"name\":\"open_modal\",\"kind\":\"Any\",\"default\":0},{\"name\":\"close_modal\",\"kind\":\"Any\",\"default\":0}]},{\"type\":\"model\",\"name\":\"ReactiveESM1\",\"properties\":[{\"name\":\"esm_constants\",\"kind\":\"Any\",\"default\":{\"type\":\"map\"}}]},{\"type\":\"model\",\"name\":\"JSComponent1\",\"properties\":[{\"name\":\"esm_constants\",\"kind\":\"Any\",\"default\":{\"type\":\"map\"}}]},{\"type\":\"model\",\"name\":\"ReactComponent1\",\"properties\":[{\"name\":\"esm_constants\",\"kind\":\"Any\",\"default\":{\"type\":\"map\"}}]},{\"type\":\"model\",\"name\":\"AnyWidgetComponent1\",\"properties\":[{\"name\":\"esm_constants\",\"kind\":\"Any\",\"default\":{\"type\":\"map\"}}]},{\"type\":\"model\",\"name\":\"request_value1\",\"properties\":[{\"name\":\"fill\",\"kind\":\"Any\",\"default\":\"none\"},{\"name\":\"_synced\",\"kind\":\"Any\",\"default\":null},{\"name\":\"_request_sync\",\"kind\":\"Any\",\"default\":0}]}]}};\n",
       "  var render_items = [{\"docid\":\"d35810f4-0898-4bcb-afe1-20f9fbcb8ae3\",\"roots\":{\"94769797-784f-4e3b-ad60-e8a15c4024c2\":\"aa7c7c1c-645e-498a-80d6-9538b1dd8276\"},\"root_ids\":[\"94769797-784f-4e3b-ad60-e8a15c4024c2\"]}];\n",
       "  var docs = Object.values(docs_json)\n",
       "  if (!docs) {\n",
       "    return\n",
       "  }\n",
       "  const py_version = docs[0].version.replace('rc', '-rc.').replace('.dev', '-dev.')\n",
       "  async function embed_document(root) {\n",
       "    var Bokeh = get_bokeh(root)\n",
       "    await Bokeh.embed.embed_items_notebook(docs_json, render_items);\n",
       "    for (const render_item of render_items) {\n",
       "      for (const root_id of render_item.root_ids) {\n",
       "\tconst id_el = document.getElementById(root_id)\n",
       "\tif (id_el.children.length && id_el.children[0].hasAttribute('data-root-id')) {\n",
       "\t  const root_el = id_el.children[0]\n",
       "\t  root_el.id = root_el.id + '-rendered'\n",
       "\t  for (const child of root_el.children) {\n",
       "            // Ensure JupyterLab does not capture keyboard shortcuts\n",
       "            // see: https://jupyterlab.readthedocs.io/en/4.1.x/extension/notebook.html#keyboard-interaction-model\n",
       "\t    child.setAttribute('data-lm-suppress-shortcuts', 'true')\n",
       "\t  }\n",
       "\t}\n",
       "      }\n",
       "    }\n",
       "  }\n",
       "  function get_bokeh(root) {\n",
       "    if (root.Bokeh === undefined) {\n",
       "      return null\n",
       "    } else if (root.Bokeh.version !== py_version) {\n",
       "      if (root.Bokeh.versions === undefined || !root.Bokeh.versions.has(py_version)) {\n",
       "\treturn null\n",
       "      }\n",
       "      return root.Bokeh.versions.get(py_version);\n",
       "    } else if (root.Bokeh.version === py_version) {\n",
       "      return root.Bokeh\n",
       "    }\n",
       "    return null\n",
       "  }\n",
       "  function is_loaded(root) {\n",
       "    var Bokeh = get_bokeh(root)\n",
       "    return (Bokeh != null && Bokeh.Panel !== undefined)\n",
       "  }\n",
       "  if (is_loaded(root)) {\n",
       "    embed_document(root);\n",
       "  } else {\n",
       "    var attempts = 0;\n",
       "    var timer = setInterval(function(root) {\n",
       "      if (is_loaded(root)) {\n",
       "        clearInterval(timer);\n",
       "        embed_document(root);\n",
       "      } else if (document.readyState == \"complete\") {\n",
       "        attempts++;\n",
       "        if (attempts > 200) {\n",
       "          clearInterval(timer);\n",
       "\t  var Bokeh = get_bokeh(root)\n",
       "\t  if (Bokeh == null || Bokeh.Panel == null) {\n",
       "            console.warn(\"Panel: ERROR: Unable to run Panel code because Bokeh or Panel library is missing\");\n",
       "\t  } else {\n",
       "\t    console.warn(\"Panel: WARNING: Attempting to render but not all required libraries could be resolved.\")\n",
       "\t    embed_document(root)\n",
       "\t  }\n",
       "        }\n",
       "      }\n",
       "    }, 25, root)\n",
       "  }\n",
       "})(window);</script>"
      ]
     },
     "metadata": {
      "application/vnd.holoviews_exec.v0+json": {
       "id": "94769797-784f-4e3b-ad60-e8a15c4024c2"
      }
     },
     "output_type": "display_data"
    },
    {
     "name": "stdout",
     "output_type": "stream",
     "text": [
      "Drive already mounted at /content/drive; to attempt to forcibly remount, call drive.mount(\"/content/drive\", force_remount=True).\n"
     ]
    }
   ],
   "source": [
    "import pandas as pd\n",
    "import numpy as np\n",
    "import seaborn as sns\n",
    "from scipy import stats\n",
    "import matplotlib.pyplot as plt\n",
    "import hvplot.pandas\n",
    "\n",
    "from sklearn.model_selection import train_test_split, RandomizedSearchCV\n",
    "from sklearn.preprocessing import MinMaxScaler\n",
    "\n",
    "from sklearn.metrics import (\n",
    "    accuracy_score, confusion_matrix, classification_report,\n",
    "    roc_auc_score, roc_curve, auc,\n",
    "    # plot_confusion_matrix, plot_roc_curve\n",
    ")\n",
    "from sklearn.metrics import ConfusionMatrixDisplay, RocCurveDisplay\n",
    "\n",
    "\n",
    "import tensorflow as tf\n",
    "from tensorflow.keras.models import Sequential, Model\n",
    "from tensorflow.keras.layers import Dense, Dropout, BatchNormalization\n",
    "from tensorflow.keras.optimizers import Adam\n",
    "from tensorflow.keras.metrics import AUC\n",
    "\n",
    "pd.set_option('display.float', '{:.2f}'.format)\n",
    "pd.set_option('display.max_columns', 50)\n",
    "pd.set_option('display.max_rows', 50)\n",
    "\n",
    "from google.colab import drive\n",
    "drive.mount('/content/drive')"
   ]
  },
  {
   "cell_type": "code",
   "execution_count": 90,
   "id": "276d0ec7",
   "metadata": {
    "colab": {
     "base_uri": "https://localhost:8080/",
     "height": 399
    },
    "execution": {
     "iopub.execute_input": "2023-01-31T14:11:44.602805Z",
     "iopub.status.busy": "2023-01-31T14:11:44.602108Z",
     "iopub.status.idle": "2023-01-31T14:11:47.931616Z",
     "shell.execute_reply": "2023-01-31T14:11:47.930713Z"
    },
    "executionInfo": {
     "elapsed": 3891,
     "status": "ok",
     "timestamp": 1735823297892,
     "user": {
      "displayName": "NK",
      "userId": "17274431766567944403"
     },
     "user_tz": -330
    },
    "id": "276d0ec7",
    "outputId": "0c0dc753-0840-45ca-9fbb-04ae540f5cd5",
    "papermill": {
     "duration": 3.467387,
     "end_time": "2023-01-31T14:11:47.933929",
     "exception": false,
     "start_time": "2023-01-31T14:11:44.466542",
     "status": "completed"
    },
    "tags": []
   },
   "outputs": [
    {
     "data": {
      "application/vnd.google.colaboratory.intrinsic+json": {
       "type": "dataframe",
       "variable_name": "data"
      },
      "text/html": [
       "\n",
       "  <div id=\"df-4b45e10e-d9a3-45c2-a486-25298c5f1922\" class=\"colab-df-container\">\n",
       "    <div>\n",
       "<style scoped>\n",
       "    .dataframe tbody tr th:only-of-type {\n",
       "        vertical-align: middle;\n",
       "    }\n",
       "\n",
       "    .dataframe tbody tr th {\n",
       "        vertical-align: top;\n",
       "    }\n",
       "\n",
       "    .dataframe thead th {\n",
       "        text-align: right;\n",
       "    }\n",
       "</style>\n",
       "<table border=\"1\" class=\"dataframe\">\n",
       "  <thead>\n",
       "    <tr style=\"text-align: right;\">\n",
       "      <th></th>\n",
       "      <th>loan_amnt</th>\n",
       "      <th>term</th>\n",
       "      <th>int_rate</th>\n",
       "      <th>installment</th>\n",
       "      <th>grade</th>\n",
       "      <th>sub_grade</th>\n",
       "      <th>emp_title</th>\n",
       "      <th>emp_length</th>\n",
       "      <th>home_ownership</th>\n",
       "      <th>annual_inc</th>\n",
       "      <th>verification_status</th>\n",
       "      <th>issue_d</th>\n",
       "      <th>loan_status</th>\n",
       "      <th>purpose</th>\n",
       "      <th>title</th>\n",
       "      <th>dti</th>\n",
       "      <th>earliest_cr_line</th>\n",
       "      <th>open_acc</th>\n",
       "      <th>pub_rec</th>\n",
       "      <th>revol_bal</th>\n",
       "      <th>revol_util</th>\n",
       "      <th>total_acc</th>\n",
       "      <th>initial_list_status</th>\n",
       "      <th>application_type</th>\n",
       "      <th>mort_acc</th>\n",
       "      <th>pub_rec_bankruptcies</th>\n",
       "      <th>address</th>\n",
       "    </tr>\n",
       "  </thead>\n",
       "  <tbody>\n",
       "    <tr>\n",
       "      <th>0</th>\n",
       "      <td>10000.00</td>\n",
       "      <td>36 months</td>\n",
       "      <td>11.44</td>\n",
       "      <td>329.48</td>\n",
       "      <td>B</td>\n",
       "      <td>B4</td>\n",
       "      <td>Marketing</td>\n",
       "      <td>10+ years</td>\n",
       "      <td>RENT</td>\n",
       "      <td>117000.00</td>\n",
       "      <td>Not Verified</td>\n",
       "      <td>Jan-2015</td>\n",
       "      <td>Fully Paid</td>\n",
       "      <td>vacation</td>\n",
       "      <td>Vacation</td>\n",
       "      <td>26.24</td>\n",
       "      <td>Jun-1990</td>\n",
       "      <td>16.00</td>\n",
       "      <td>0.00</td>\n",
       "      <td>36369.00</td>\n",
       "      <td>41.80</td>\n",
       "      <td>25.00</td>\n",
       "      <td>w</td>\n",
       "      <td>INDIVIDUAL</td>\n",
       "      <td>0.00</td>\n",
       "      <td>0.00</td>\n",
       "      <td>0174 Michelle Gateway\\r\\nMendozaberg, OK 22690</td>\n",
       "    </tr>\n",
       "    <tr>\n",
       "      <th>1</th>\n",
       "      <td>8000.00</td>\n",
       "      <td>36 months</td>\n",
       "      <td>11.99</td>\n",
       "      <td>265.68</td>\n",
       "      <td>B</td>\n",
       "      <td>B5</td>\n",
       "      <td>Credit analyst</td>\n",
       "      <td>4 years</td>\n",
       "      <td>MORTGAGE</td>\n",
       "      <td>65000.00</td>\n",
       "      <td>Not Verified</td>\n",
       "      <td>Jan-2015</td>\n",
       "      <td>Fully Paid</td>\n",
       "      <td>debt_consolidation</td>\n",
       "      <td>Debt consolidation</td>\n",
       "      <td>22.05</td>\n",
       "      <td>Jul-2004</td>\n",
       "      <td>17.00</td>\n",
       "      <td>0.00</td>\n",
       "      <td>20131.00</td>\n",
       "      <td>53.30</td>\n",
       "      <td>27.00</td>\n",
       "      <td>f</td>\n",
       "      <td>INDIVIDUAL</td>\n",
       "      <td>3.00</td>\n",
       "      <td>0.00</td>\n",
       "      <td>1076 Carney Fort Apt. 347\\r\\nLoganmouth, SD 05113</td>\n",
       "    </tr>\n",
       "    <tr>\n",
       "      <th>2</th>\n",
       "      <td>15600.00</td>\n",
       "      <td>36 months</td>\n",
       "      <td>10.49</td>\n",
       "      <td>506.97</td>\n",
       "      <td>B</td>\n",
       "      <td>B3</td>\n",
       "      <td>Statistician</td>\n",
       "      <td>&lt; 1 year</td>\n",
       "      <td>RENT</td>\n",
       "      <td>43057.00</td>\n",
       "      <td>Source Verified</td>\n",
       "      <td>Jan-2015</td>\n",
       "      <td>Fully Paid</td>\n",
       "      <td>credit_card</td>\n",
       "      <td>Credit card refinancing</td>\n",
       "      <td>12.79</td>\n",
       "      <td>Aug-2007</td>\n",
       "      <td>13.00</td>\n",
       "      <td>0.00</td>\n",
       "      <td>11987.00</td>\n",
       "      <td>92.20</td>\n",
       "      <td>26.00</td>\n",
       "      <td>f</td>\n",
       "      <td>INDIVIDUAL</td>\n",
       "      <td>0.00</td>\n",
       "      <td>0.00</td>\n",
       "      <td>87025 Mark Dale Apt. 269\\r\\nNew Sabrina, WV 05113</td>\n",
       "    </tr>\n",
       "    <tr>\n",
       "      <th>3</th>\n",
       "      <td>7200.00</td>\n",
       "      <td>36 months</td>\n",
       "      <td>6.49</td>\n",
       "      <td>220.65</td>\n",
       "      <td>A</td>\n",
       "      <td>A2</td>\n",
       "      <td>Client Advocate</td>\n",
       "      <td>6 years</td>\n",
       "      <td>RENT</td>\n",
       "      <td>54000.00</td>\n",
       "      <td>Not Verified</td>\n",
       "      <td>Nov-2014</td>\n",
       "      <td>Fully Paid</td>\n",
       "      <td>credit_card</td>\n",
       "      <td>Credit card refinancing</td>\n",
       "      <td>2.60</td>\n",
       "      <td>Sep-2006</td>\n",
       "      <td>6.00</td>\n",
       "      <td>0.00</td>\n",
       "      <td>5472.00</td>\n",
       "      <td>21.50</td>\n",
       "      <td>13.00</td>\n",
       "      <td>f</td>\n",
       "      <td>INDIVIDUAL</td>\n",
       "      <td>0.00</td>\n",
       "      <td>0.00</td>\n",
       "      <td>823 Reid Ford\\r\\nDelacruzside, MA 00813</td>\n",
       "    </tr>\n",
       "    <tr>\n",
       "      <th>4</th>\n",
       "      <td>24375.00</td>\n",
       "      <td>60 months</td>\n",
       "      <td>17.27</td>\n",
       "      <td>609.33</td>\n",
       "      <td>C</td>\n",
       "      <td>C5</td>\n",
       "      <td>Destiny Management Inc.</td>\n",
       "      <td>9 years</td>\n",
       "      <td>MORTGAGE</td>\n",
       "      <td>55000.00</td>\n",
       "      <td>Verified</td>\n",
       "      <td>Apr-2013</td>\n",
       "      <td>Charged Off</td>\n",
       "      <td>credit_card</td>\n",
       "      <td>Credit Card Refinance</td>\n",
       "      <td>33.95</td>\n",
       "      <td>Mar-1999</td>\n",
       "      <td>13.00</td>\n",
       "      <td>0.00</td>\n",
       "      <td>24584.00</td>\n",
       "      <td>69.80</td>\n",
       "      <td>43.00</td>\n",
       "      <td>f</td>\n",
       "      <td>INDIVIDUAL</td>\n",
       "      <td>1.00</td>\n",
       "      <td>0.00</td>\n",
       "      <td>679 Luna Roads\\r\\nGreggshire, VA 11650</td>\n",
       "    </tr>\n",
       "  </tbody>\n",
       "</table>\n",
       "</div>\n",
       "    <div class=\"colab-df-buttons\">\n",
       "\n",
       "  <div class=\"colab-df-container\">\n",
       "    <button class=\"colab-df-convert\" onclick=\"convertToInteractive('df-4b45e10e-d9a3-45c2-a486-25298c5f1922')\"\n",
       "            title=\"Convert this dataframe to an interactive table.\"\n",
       "            style=\"display:none;\">\n",
       "\n",
       "  <svg xmlns=\"http://www.w3.org/2000/svg\" height=\"24px\" viewBox=\"0 -960 960 960\">\n",
       "    <path d=\"M120-120v-720h720v720H120Zm60-500h600v-160H180v160Zm220 220h160v-160H400v160Zm0 220h160v-160H400v160ZM180-400h160v-160H180v160Zm440 0h160v-160H620v160ZM180-180h160v-160H180v160Zm440 0h160v-160H620v160Z\"/>\n",
       "  </svg>\n",
       "    </button>\n",
       "\n",
       "  <style>\n",
       "    .colab-df-container {\n",
       "      display:flex;\n",
       "      gap: 12px;\n",
       "    }\n",
       "\n",
       "    .colab-df-convert {\n",
       "      background-color: #E8F0FE;\n",
       "      border: none;\n",
       "      border-radius: 50%;\n",
       "      cursor: pointer;\n",
       "      display: none;\n",
       "      fill: #1967D2;\n",
       "      height: 32px;\n",
       "      padding: 0 0 0 0;\n",
       "      width: 32px;\n",
       "    }\n",
       "\n",
       "    .colab-df-convert:hover {\n",
       "      background-color: #E2EBFA;\n",
       "      box-shadow: 0px 1px 2px rgba(60, 64, 67, 0.3), 0px 1px 3px 1px rgba(60, 64, 67, 0.15);\n",
       "      fill: #174EA6;\n",
       "    }\n",
       "\n",
       "    .colab-df-buttons div {\n",
       "      margin-bottom: 4px;\n",
       "    }\n",
       "\n",
       "    [theme=dark] .colab-df-convert {\n",
       "      background-color: #3B4455;\n",
       "      fill: #D2E3FC;\n",
       "    }\n",
       "\n",
       "    [theme=dark] .colab-df-convert:hover {\n",
       "      background-color: #434B5C;\n",
       "      box-shadow: 0px 1px 3px 1px rgba(0, 0, 0, 0.15);\n",
       "      filter: drop-shadow(0px 1px 2px rgba(0, 0, 0, 0.3));\n",
       "      fill: #FFFFFF;\n",
       "    }\n",
       "  </style>\n",
       "\n",
       "    <script>\n",
       "      const buttonEl =\n",
       "        document.querySelector('#df-4b45e10e-d9a3-45c2-a486-25298c5f1922 button.colab-df-convert');\n",
       "      buttonEl.style.display =\n",
       "        google.colab.kernel.accessAllowed ? 'block' : 'none';\n",
       "\n",
       "      async function convertToInteractive(key) {\n",
       "        const element = document.querySelector('#df-4b45e10e-d9a3-45c2-a486-25298c5f1922');\n",
       "        const dataTable =\n",
       "          await google.colab.kernel.invokeFunction('convertToInteractive',\n",
       "                                                    [key], {});\n",
       "        if (!dataTable) return;\n",
       "\n",
       "        const docLinkHtml = 'Like what you see? Visit the ' +\n",
       "          '<a target=\"_blank\" href=https://colab.research.google.com/notebooks/data_table.ipynb>data table notebook</a>'\n",
       "          + ' to learn more about interactive tables.';\n",
       "        element.innerHTML = '';\n",
       "        dataTable['output_type'] = 'display_data';\n",
       "        await google.colab.output.renderOutput(dataTable, element);\n",
       "        const docLink = document.createElement('div');\n",
       "        docLink.innerHTML = docLinkHtml;\n",
       "        element.appendChild(docLink);\n",
       "      }\n",
       "    </script>\n",
       "  </div>\n",
       "\n",
       "\n",
       "<div id=\"df-c1d7f27a-180e-4d78-9f91-2bf89c35fb22\">\n",
       "  <button class=\"colab-df-quickchart\" onclick=\"quickchart('df-c1d7f27a-180e-4d78-9f91-2bf89c35fb22')\"\n",
       "            title=\"Suggest charts\"\n",
       "            style=\"display:none;\">\n",
       "\n",
       "<svg xmlns=\"http://www.w3.org/2000/svg\" height=\"24px\"viewBox=\"0 0 24 24\"\n",
       "     width=\"24px\">\n",
       "    <g>\n",
       "        <path d=\"M19 3H5c-1.1 0-2 .9-2 2v14c0 1.1.9 2 2 2h14c1.1 0 2-.9 2-2V5c0-1.1-.9-2-2-2zM9 17H7v-7h2v7zm4 0h-2V7h2v10zm4 0h-2v-4h2v4z\"/>\n",
       "    </g>\n",
       "</svg>\n",
       "  </button>\n",
       "\n",
       "<style>\n",
       "  .colab-df-quickchart {\n",
       "      --bg-color: #E8F0FE;\n",
       "      --fill-color: #1967D2;\n",
       "      --hover-bg-color: #E2EBFA;\n",
       "      --hover-fill-color: #174EA6;\n",
       "      --disabled-fill-color: #AAA;\n",
       "      --disabled-bg-color: #DDD;\n",
       "  }\n",
       "\n",
       "  [theme=dark] .colab-df-quickchart {\n",
       "      --bg-color: #3B4455;\n",
       "      --fill-color: #D2E3FC;\n",
       "      --hover-bg-color: #434B5C;\n",
       "      --hover-fill-color: #FFFFFF;\n",
       "      --disabled-bg-color: #3B4455;\n",
       "      --disabled-fill-color: #666;\n",
       "  }\n",
       "\n",
       "  .colab-df-quickchart {\n",
       "    background-color: var(--bg-color);\n",
       "    border: none;\n",
       "    border-radius: 50%;\n",
       "    cursor: pointer;\n",
       "    display: none;\n",
       "    fill: var(--fill-color);\n",
       "    height: 32px;\n",
       "    padding: 0;\n",
       "    width: 32px;\n",
       "  }\n",
       "\n",
       "  .colab-df-quickchart:hover {\n",
       "    background-color: var(--hover-bg-color);\n",
       "    box-shadow: 0 1px 2px rgba(60, 64, 67, 0.3), 0 1px 3px 1px rgba(60, 64, 67, 0.15);\n",
       "    fill: var(--button-hover-fill-color);\n",
       "  }\n",
       "\n",
       "  .colab-df-quickchart-complete:disabled,\n",
       "  .colab-df-quickchart-complete:disabled:hover {\n",
       "    background-color: var(--disabled-bg-color);\n",
       "    fill: var(--disabled-fill-color);\n",
       "    box-shadow: none;\n",
       "  }\n",
       "\n",
       "  .colab-df-spinner {\n",
       "    border: 2px solid var(--fill-color);\n",
       "    border-color: transparent;\n",
       "    border-bottom-color: var(--fill-color);\n",
       "    animation:\n",
       "      spin 1s steps(1) infinite;\n",
       "  }\n",
       "\n",
       "  @keyframes spin {\n",
       "    0% {\n",
       "      border-color: transparent;\n",
       "      border-bottom-color: var(--fill-color);\n",
       "      border-left-color: var(--fill-color);\n",
       "    }\n",
       "    20% {\n",
       "      border-color: transparent;\n",
       "      border-left-color: var(--fill-color);\n",
       "      border-top-color: var(--fill-color);\n",
       "    }\n",
       "    30% {\n",
       "      border-color: transparent;\n",
       "      border-left-color: var(--fill-color);\n",
       "      border-top-color: var(--fill-color);\n",
       "      border-right-color: var(--fill-color);\n",
       "    }\n",
       "    40% {\n",
       "      border-color: transparent;\n",
       "      border-right-color: var(--fill-color);\n",
       "      border-top-color: var(--fill-color);\n",
       "    }\n",
       "    60% {\n",
       "      border-color: transparent;\n",
       "      border-right-color: var(--fill-color);\n",
       "    }\n",
       "    80% {\n",
       "      border-color: transparent;\n",
       "      border-right-color: var(--fill-color);\n",
       "      border-bottom-color: var(--fill-color);\n",
       "    }\n",
       "    90% {\n",
       "      border-color: transparent;\n",
       "      border-bottom-color: var(--fill-color);\n",
       "    }\n",
       "  }\n",
       "</style>\n",
       "\n",
       "  <script>\n",
       "    async function quickchart(key) {\n",
       "      const quickchartButtonEl =\n",
       "        document.querySelector('#' + key + ' button');\n",
       "      quickchartButtonEl.disabled = true;  // To prevent multiple clicks.\n",
       "      quickchartButtonEl.classList.add('colab-df-spinner');\n",
       "      try {\n",
       "        const charts = await google.colab.kernel.invokeFunction(\n",
       "            'suggestCharts', [key], {});\n",
       "      } catch (error) {\n",
       "        console.error('Error during call to suggestCharts:', error);\n",
       "      }\n",
       "      quickchartButtonEl.classList.remove('colab-df-spinner');\n",
       "      quickchartButtonEl.classList.add('colab-df-quickchart-complete');\n",
       "    }\n",
       "    (() => {\n",
       "      let quickchartButtonEl =\n",
       "        document.querySelector('#df-c1d7f27a-180e-4d78-9f91-2bf89c35fb22 button');\n",
       "      quickchartButtonEl.style.display =\n",
       "        google.colab.kernel.accessAllowed ? 'block' : 'none';\n",
       "    })();\n",
       "  </script>\n",
       "</div>\n",
       "\n",
       "    </div>\n",
       "  </div>\n"
      ],
      "text/plain": [
       "   loan_amnt        term  int_rate  installment grade sub_grade  \\\n",
       "0   10000.00   36 months     11.44       329.48     B        B4   \n",
       "1    8000.00   36 months     11.99       265.68     B        B5   \n",
       "2   15600.00   36 months     10.49       506.97     B        B3   \n",
       "3    7200.00   36 months      6.49       220.65     A        A2   \n",
       "4   24375.00   60 months     17.27       609.33     C        C5   \n",
       "\n",
       "                 emp_title emp_length home_ownership  annual_inc  \\\n",
       "0                Marketing  10+ years           RENT   117000.00   \n",
       "1          Credit analyst     4 years       MORTGAGE    65000.00   \n",
       "2             Statistician   < 1 year           RENT    43057.00   \n",
       "3          Client Advocate    6 years           RENT    54000.00   \n",
       "4  Destiny Management Inc.    9 years       MORTGAGE    55000.00   \n",
       "\n",
       "  verification_status   issue_d  loan_status             purpose  \\\n",
       "0        Not Verified  Jan-2015   Fully Paid            vacation   \n",
       "1        Not Verified  Jan-2015   Fully Paid  debt_consolidation   \n",
       "2     Source Verified  Jan-2015   Fully Paid         credit_card   \n",
       "3        Not Verified  Nov-2014   Fully Paid         credit_card   \n",
       "4            Verified  Apr-2013  Charged Off         credit_card   \n",
       "\n",
       "                     title   dti earliest_cr_line  open_acc  pub_rec  \\\n",
       "0                 Vacation 26.24         Jun-1990     16.00     0.00   \n",
       "1       Debt consolidation 22.05         Jul-2004     17.00     0.00   \n",
       "2  Credit card refinancing 12.79         Aug-2007     13.00     0.00   \n",
       "3  Credit card refinancing  2.60         Sep-2006      6.00     0.00   \n",
       "4    Credit Card Refinance 33.95         Mar-1999     13.00     0.00   \n",
       "\n",
       "   revol_bal  revol_util  total_acc initial_list_status application_type  \\\n",
       "0   36369.00       41.80      25.00                   w       INDIVIDUAL   \n",
       "1   20131.00       53.30      27.00                   f       INDIVIDUAL   \n",
       "2   11987.00       92.20      26.00                   f       INDIVIDUAL   \n",
       "3    5472.00       21.50      13.00                   f       INDIVIDUAL   \n",
       "4   24584.00       69.80      43.00                   f       INDIVIDUAL   \n",
       "\n",
       "   mort_acc  pub_rec_bankruptcies  \\\n",
       "0      0.00                  0.00   \n",
       "1      3.00                  0.00   \n",
       "2      0.00                  0.00   \n",
       "3      0.00                  0.00   \n",
       "4      1.00                  0.00   \n",
       "\n",
       "                                             address  \n",
       "0     0174 Michelle Gateway\\r\\nMendozaberg, OK 22690  \n",
       "1  1076 Carney Fort Apt. 347\\r\\nLoganmouth, SD 05113  \n",
       "2  87025 Mark Dale Apt. 269\\r\\nNew Sabrina, WV 05113  \n",
       "3            823 Reid Ford\\r\\nDelacruzside, MA 00813  \n",
       "4             679 Luna Roads\\r\\nGreggshire, VA 11650  "
      ]
     },
     "execution_count": 90,
     "metadata": {},
     "output_type": "execute_result"
    }
   ],
   "source": [
    "data = pd.read_csv('/content/drive/My Drive/Colab Notebooks/loan-data/loan-data.csv')\n",
    "data.head()"
   ]
  },
  {
   "cell_type": "code",
   "execution_count": 91,
   "id": "d0def3d9",
   "metadata": {
    "colab": {
     "base_uri": "https://localhost:8080/",
     "height": 300
    },
    "execution": {
     "iopub.execute_input": "2023-01-31T14:11:48.208667Z",
     "iopub.status.busy": "2023-01-31T14:11:48.208157Z",
     "iopub.status.idle": "2023-01-31T14:11:48.428818Z",
     "shell.execute_reply": "2023-01-31T14:11:48.427863Z"
    },
    "executionInfo": {
     "elapsed": 645,
     "status": "ok",
     "timestamp": 1735823302604,
     "user": {
      "displayName": "NK",
      "userId": "17274431766567944403"
     },
     "user_tz": -330
    },
    "id": "d0def3d9",
    "outputId": "ba4111d9-ff49-4ff6-a5be-1332a3a2e706",
    "papermill": {
     "duration": 0.360858,
     "end_time": "2023-01-31T14:11:48.431029",
     "exception": false,
     "start_time": "2023-01-31T14:11:48.070171",
     "status": "completed"
    },
    "tags": []
   },
   "outputs": [
    {
     "data": {
      "application/vnd.google.colaboratory.intrinsic+json": {
       "summary": "{\n  \"name\": \"data\",\n  \"rows\": 8,\n  \"fields\": [\n    {\n      \"column\": \"loan_amnt\",\n      \"properties\": {\n        \"dtype\": \"number\",\n        \"std\": 135325.93918604977,\n        \"min\": 500.0,\n        \"max\": 396030.0,\n        \"num_unique_values\": 8,\n        \"samples\": [\n          14113.888089286165,\n          12000.0,\n          396030.0\n        ],\n        \"semantic_type\": \"\",\n        \"description\": \"\"\n      }\n    },\n    {\n      \"column\": \"int_rate\",\n      \"properties\": {\n        \"dtype\": \"number\",\n        \"std\": 140012.96485144028,\n        \"min\": 4.472157381532854,\n        \"max\": 396030.0,\n        \"num_unique_values\": 8,\n        \"samples\": [\n          13.6394000454511,\n          13.33,\n          396030.0\n        ],\n        \"semantic_type\": \"\",\n        \"description\": \"\"\n      }\n    },\n    {\n      \"column\": \"installment\",\n      \"properties\": {\n        \"dtype\": \"number\",\n        \"std\": 139845.47529700142,\n        \"min\": 16.08,\n        \"max\": 396030.0,\n        \"num_unique_values\": 8,\n        \"samples\": [\n          431.84969802792716,\n          375.43,\n          396030.0\n        ],\n        \"semantic_type\": \"\",\n        \"description\": \"\"\n      }\n    },\n    {\n      \"column\": \"annual_inc\",\n      \"properties\": {\n        \"dtype\": \"number\",\n        \"std\": 3043769.9082227983,\n        \"min\": 0.0,\n        \"max\": 8706582.0,\n        \"num_unique_values\": 8,\n        \"samples\": [\n          74203.17579771738,\n          64000.0,\n          396030.0\n        ],\n        \"semantic_type\": \"\",\n        \"description\": \"\"\n      }\n    },\n    {\n      \"column\": \"dti\",\n      \"properties\": {\n        \"dtype\": \"number\",\n        \"std\": 139552.09502751552,\n        \"min\": 0.0,\n        \"max\": 396030.0,\n        \"num_unique_values\": 8,\n        \"samples\": [\n          17.379513647955967,\n          16.91,\n          396030.0\n        ],\n        \"semantic_type\": \"\",\n        \"description\": \"\"\n      }\n    },\n    {\n      \"column\": \"open_acc\",\n      \"properties\": {\n        \"dtype\": \"number\",\n        \"std\": 140010.75955392266,\n        \"min\": 0.0,\n        \"max\": 396030.0,\n        \"num_unique_values\": 8,\n        \"samples\": [\n          11.31115319546499,\n          10.0,\n          396030.0\n        ],\n        \"semantic_type\": \"\",\n        \"description\": \"\"\n      }\n    },\n    {\n      \"column\": \"pub_rec\",\n      \"properties\": {\n        \"dtype\": \"number\",\n        \"std\": 140013.37304312378,\n        \"min\": 0.0,\n        \"max\": 396030.0,\n        \"num_unique_values\": 5,\n        \"samples\": [\n          0.17819104613286874,\n          86.0,\n          0.530670600472675\n        ],\n        \"semantic_type\": \"\",\n        \"description\": \"\"\n      }\n    },\n    {\n      \"column\": \"revol_bal\",\n      \"properties\": {\n        \"dtype\": \"number\",\n        \"std\": 607701.8324003755,\n        \"min\": 0.0,\n        \"max\": 1743266.0,\n        \"num_unique_values\": 8,\n        \"samples\": [\n          15844.539853041437,\n          11181.0,\n          396030.0\n        ],\n        \"semantic_type\": \"\",\n        \"description\": \"\"\n      }\n    },\n    {\n      \"column\": \"revol_util\",\n      \"properties\": {\n        \"dtype\": \"number\",\n        \"std\": 139863.2101518472,\n        \"min\": 0.0,\n        \"max\": 395754.0,\n        \"num_unique_values\": 8,\n        \"samples\": [\n          53.79174863677942,\n          54.8,\n          395754.0\n        ],\n        \"semantic_type\": \"\",\n        \"description\": \"\"\n      }\n    },\n    {\n      \"column\": \"total_acc\",\n      \"properties\": {\n        \"dtype\": \"number\",\n        \"std\": 140004.4584781143,\n        \"min\": 2.0,\n        \"max\": 396030.0,\n        \"num_unique_values\": 8,\n        \"samples\": [\n          25.41474383253794,\n          24.0,\n          396030.0\n        ],\n        \"semantic_type\": \"\",\n        \"description\": \"\"\n      }\n    },\n    {\n      \"column\": \"mort_acc\",\n      \"properties\": {\n        \"dtype\": \"number\",\n        \"std\": 126653.08000228765,\n        \"min\": 0.0,\n        \"max\": 358235.0,\n        \"num_unique_values\": 7,\n        \"samples\": [\n          358235.0,\n          1.8139908160844138,\n          3.0\n        ],\n        \"semantic_type\": \"\",\n        \"description\": \"\"\n      }\n    },\n    {\n      \"column\": \"pub_rec_bankruptcies\",\n      \"properties\": {\n        \"dtype\": \"number\",\n        \"std\": 139828.1700455425,\n        \"min\": 0.0,\n        \"max\": 395495.0,\n        \"num_unique_values\": 5,\n        \"samples\": [\n          0.12164755559488742,\n          8.0,\n          0.3561742766277696\n        ],\n        \"semantic_type\": \"\",\n        \"description\": \"\"\n      }\n    }\n  ]\n}",
       "type": "dataframe"
      },
      "text/html": [
       "\n",
       "  <div id=\"df-da732ac6-8682-4b55-a2f5-bba5d171a775\" class=\"colab-df-container\">\n",
       "    <div>\n",
       "<style scoped>\n",
       "    .dataframe tbody tr th:only-of-type {\n",
       "        vertical-align: middle;\n",
       "    }\n",
       "\n",
       "    .dataframe tbody tr th {\n",
       "        vertical-align: top;\n",
       "    }\n",
       "\n",
       "    .dataframe thead th {\n",
       "        text-align: right;\n",
       "    }\n",
       "</style>\n",
       "<table border=\"1\" class=\"dataframe\">\n",
       "  <thead>\n",
       "    <tr style=\"text-align: right;\">\n",
       "      <th></th>\n",
       "      <th>loan_amnt</th>\n",
       "      <th>int_rate</th>\n",
       "      <th>installment</th>\n",
       "      <th>annual_inc</th>\n",
       "      <th>dti</th>\n",
       "      <th>open_acc</th>\n",
       "      <th>pub_rec</th>\n",
       "      <th>revol_bal</th>\n",
       "      <th>revol_util</th>\n",
       "      <th>total_acc</th>\n",
       "      <th>mort_acc</th>\n",
       "      <th>pub_rec_bankruptcies</th>\n",
       "    </tr>\n",
       "  </thead>\n",
       "  <tbody>\n",
       "    <tr>\n",
       "      <th>count</th>\n",
       "      <td>396030.00</td>\n",
       "      <td>396030.00</td>\n",
       "      <td>396030.00</td>\n",
       "      <td>396030.00</td>\n",
       "      <td>396030.00</td>\n",
       "      <td>396030.00</td>\n",
       "      <td>396030.00</td>\n",
       "      <td>396030.00</td>\n",
       "      <td>395754.00</td>\n",
       "      <td>396030.00</td>\n",
       "      <td>358235.00</td>\n",
       "      <td>395495.00</td>\n",
       "    </tr>\n",
       "    <tr>\n",
       "      <th>mean</th>\n",
       "      <td>14113.89</td>\n",
       "      <td>13.64</td>\n",
       "      <td>431.85</td>\n",
       "      <td>74203.18</td>\n",
       "      <td>17.38</td>\n",
       "      <td>11.31</td>\n",
       "      <td>0.18</td>\n",
       "      <td>15844.54</td>\n",
       "      <td>53.79</td>\n",
       "      <td>25.41</td>\n",
       "      <td>1.81</td>\n",
       "      <td>0.12</td>\n",
       "    </tr>\n",
       "    <tr>\n",
       "      <th>std</th>\n",
       "      <td>8357.44</td>\n",
       "      <td>4.47</td>\n",
       "      <td>250.73</td>\n",
       "      <td>61637.62</td>\n",
       "      <td>18.02</td>\n",
       "      <td>5.14</td>\n",
       "      <td>0.53</td>\n",
       "      <td>20591.84</td>\n",
       "      <td>24.45</td>\n",
       "      <td>11.89</td>\n",
       "      <td>2.15</td>\n",
       "      <td>0.36</td>\n",
       "    </tr>\n",
       "    <tr>\n",
       "      <th>min</th>\n",
       "      <td>500.00</td>\n",
       "      <td>5.32</td>\n",
       "      <td>16.08</td>\n",
       "      <td>0.00</td>\n",
       "      <td>0.00</td>\n",
       "      <td>0.00</td>\n",
       "      <td>0.00</td>\n",
       "      <td>0.00</td>\n",
       "      <td>0.00</td>\n",
       "      <td>2.00</td>\n",
       "      <td>0.00</td>\n",
       "      <td>0.00</td>\n",
       "    </tr>\n",
       "    <tr>\n",
       "      <th>25%</th>\n",
       "      <td>8000.00</td>\n",
       "      <td>10.49</td>\n",
       "      <td>250.33</td>\n",
       "      <td>45000.00</td>\n",
       "      <td>11.28</td>\n",
       "      <td>8.00</td>\n",
       "      <td>0.00</td>\n",
       "      <td>6025.00</td>\n",
       "      <td>35.80</td>\n",
       "      <td>17.00</td>\n",
       "      <td>0.00</td>\n",
       "      <td>0.00</td>\n",
       "    </tr>\n",
       "    <tr>\n",
       "      <th>50%</th>\n",
       "      <td>12000.00</td>\n",
       "      <td>13.33</td>\n",
       "      <td>375.43</td>\n",
       "      <td>64000.00</td>\n",
       "      <td>16.91</td>\n",
       "      <td>10.00</td>\n",
       "      <td>0.00</td>\n",
       "      <td>11181.00</td>\n",
       "      <td>54.80</td>\n",
       "      <td>24.00</td>\n",
       "      <td>1.00</td>\n",
       "      <td>0.00</td>\n",
       "    </tr>\n",
       "    <tr>\n",
       "      <th>75%</th>\n",
       "      <td>20000.00</td>\n",
       "      <td>16.49</td>\n",
       "      <td>567.30</td>\n",
       "      <td>90000.00</td>\n",
       "      <td>22.98</td>\n",
       "      <td>14.00</td>\n",
       "      <td>0.00</td>\n",
       "      <td>19620.00</td>\n",
       "      <td>72.90</td>\n",
       "      <td>32.00</td>\n",
       "      <td>3.00</td>\n",
       "      <td>0.00</td>\n",
       "    </tr>\n",
       "    <tr>\n",
       "      <th>max</th>\n",
       "      <td>40000.00</td>\n",
       "      <td>30.99</td>\n",
       "      <td>1533.81</td>\n",
       "      <td>8706582.00</td>\n",
       "      <td>9999.00</td>\n",
       "      <td>90.00</td>\n",
       "      <td>86.00</td>\n",
       "      <td>1743266.00</td>\n",
       "      <td>892.30</td>\n",
       "      <td>151.00</td>\n",
       "      <td>34.00</td>\n",
       "      <td>8.00</td>\n",
       "    </tr>\n",
       "  </tbody>\n",
       "</table>\n",
       "</div>\n",
       "    <div class=\"colab-df-buttons\">\n",
       "\n",
       "  <div class=\"colab-df-container\">\n",
       "    <button class=\"colab-df-convert\" onclick=\"convertToInteractive('df-da732ac6-8682-4b55-a2f5-bba5d171a775')\"\n",
       "            title=\"Convert this dataframe to an interactive table.\"\n",
       "            style=\"display:none;\">\n",
       "\n",
       "  <svg xmlns=\"http://www.w3.org/2000/svg\" height=\"24px\" viewBox=\"0 -960 960 960\">\n",
       "    <path d=\"M120-120v-720h720v720H120Zm60-500h600v-160H180v160Zm220 220h160v-160H400v160Zm0 220h160v-160H400v160ZM180-400h160v-160H180v160Zm440 0h160v-160H620v160ZM180-180h160v-160H180v160Zm440 0h160v-160H620v160Z\"/>\n",
       "  </svg>\n",
       "    </button>\n",
       "\n",
       "  <style>\n",
       "    .colab-df-container {\n",
       "      display:flex;\n",
       "      gap: 12px;\n",
       "    }\n",
       "\n",
       "    .colab-df-convert {\n",
       "      background-color: #E8F0FE;\n",
       "      border: none;\n",
       "      border-radius: 50%;\n",
       "      cursor: pointer;\n",
       "      display: none;\n",
       "      fill: #1967D2;\n",
       "      height: 32px;\n",
       "      padding: 0 0 0 0;\n",
       "      width: 32px;\n",
       "    }\n",
       "\n",
       "    .colab-df-convert:hover {\n",
       "      background-color: #E2EBFA;\n",
       "      box-shadow: 0px 1px 2px rgba(60, 64, 67, 0.3), 0px 1px 3px 1px rgba(60, 64, 67, 0.15);\n",
       "      fill: #174EA6;\n",
       "    }\n",
       "\n",
       "    .colab-df-buttons div {\n",
       "      margin-bottom: 4px;\n",
       "    }\n",
       "\n",
       "    [theme=dark] .colab-df-convert {\n",
       "      background-color: #3B4455;\n",
       "      fill: #D2E3FC;\n",
       "    }\n",
       "\n",
       "    [theme=dark] .colab-df-convert:hover {\n",
       "      background-color: #434B5C;\n",
       "      box-shadow: 0px 1px 3px 1px rgba(0, 0, 0, 0.15);\n",
       "      filter: drop-shadow(0px 1px 2px rgba(0, 0, 0, 0.3));\n",
       "      fill: #FFFFFF;\n",
       "    }\n",
       "  </style>\n",
       "\n",
       "    <script>\n",
       "      const buttonEl =\n",
       "        document.querySelector('#df-da732ac6-8682-4b55-a2f5-bba5d171a775 button.colab-df-convert');\n",
       "      buttonEl.style.display =\n",
       "        google.colab.kernel.accessAllowed ? 'block' : 'none';\n",
       "\n",
       "      async function convertToInteractive(key) {\n",
       "        const element = document.querySelector('#df-da732ac6-8682-4b55-a2f5-bba5d171a775');\n",
       "        const dataTable =\n",
       "          await google.colab.kernel.invokeFunction('convertToInteractive',\n",
       "                                                    [key], {});\n",
       "        if (!dataTable) return;\n",
       "\n",
       "        const docLinkHtml = 'Like what you see? Visit the ' +\n",
       "          '<a target=\"_blank\" href=https://colab.research.google.com/notebooks/data_table.ipynb>data table notebook</a>'\n",
       "          + ' to learn more about interactive tables.';\n",
       "        element.innerHTML = '';\n",
       "        dataTable['output_type'] = 'display_data';\n",
       "        await google.colab.output.renderOutput(dataTable, element);\n",
       "        const docLink = document.createElement('div');\n",
       "        docLink.innerHTML = docLinkHtml;\n",
       "        element.appendChild(docLink);\n",
       "      }\n",
       "    </script>\n",
       "  </div>\n",
       "\n",
       "\n",
       "<div id=\"df-ea9143d3-a169-4f7f-8fe1-38a73cbf1101\">\n",
       "  <button class=\"colab-df-quickchart\" onclick=\"quickchart('df-ea9143d3-a169-4f7f-8fe1-38a73cbf1101')\"\n",
       "            title=\"Suggest charts\"\n",
       "            style=\"display:none;\">\n",
       "\n",
       "<svg xmlns=\"http://www.w3.org/2000/svg\" height=\"24px\"viewBox=\"0 0 24 24\"\n",
       "     width=\"24px\">\n",
       "    <g>\n",
       "        <path d=\"M19 3H5c-1.1 0-2 .9-2 2v14c0 1.1.9 2 2 2h14c1.1 0 2-.9 2-2V5c0-1.1-.9-2-2-2zM9 17H7v-7h2v7zm4 0h-2V7h2v10zm4 0h-2v-4h2v4z\"/>\n",
       "    </g>\n",
       "</svg>\n",
       "  </button>\n",
       "\n",
       "<style>\n",
       "  .colab-df-quickchart {\n",
       "      --bg-color: #E8F0FE;\n",
       "      --fill-color: #1967D2;\n",
       "      --hover-bg-color: #E2EBFA;\n",
       "      --hover-fill-color: #174EA6;\n",
       "      --disabled-fill-color: #AAA;\n",
       "      --disabled-bg-color: #DDD;\n",
       "  }\n",
       "\n",
       "  [theme=dark] .colab-df-quickchart {\n",
       "      --bg-color: #3B4455;\n",
       "      --fill-color: #D2E3FC;\n",
       "      --hover-bg-color: #434B5C;\n",
       "      --hover-fill-color: #FFFFFF;\n",
       "      --disabled-bg-color: #3B4455;\n",
       "      --disabled-fill-color: #666;\n",
       "  }\n",
       "\n",
       "  .colab-df-quickchart {\n",
       "    background-color: var(--bg-color);\n",
       "    border: none;\n",
       "    border-radius: 50%;\n",
       "    cursor: pointer;\n",
       "    display: none;\n",
       "    fill: var(--fill-color);\n",
       "    height: 32px;\n",
       "    padding: 0;\n",
       "    width: 32px;\n",
       "  }\n",
       "\n",
       "  .colab-df-quickchart:hover {\n",
       "    background-color: var(--hover-bg-color);\n",
       "    box-shadow: 0 1px 2px rgba(60, 64, 67, 0.3), 0 1px 3px 1px rgba(60, 64, 67, 0.15);\n",
       "    fill: var(--button-hover-fill-color);\n",
       "  }\n",
       "\n",
       "  .colab-df-quickchart-complete:disabled,\n",
       "  .colab-df-quickchart-complete:disabled:hover {\n",
       "    background-color: var(--disabled-bg-color);\n",
       "    fill: var(--disabled-fill-color);\n",
       "    box-shadow: none;\n",
       "  }\n",
       "\n",
       "  .colab-df-spinner {\n",
       "    border: 2px solid var(--fill-color);\n",
       "    border-color: transparent;\n",
       "    border-bottom-color: var(--fill-color);\n",
       "    animation:\n",
       "      spin 1s steps(1) infinite;\n",
       "  }\n",
       "\n",
       "  @keyframes spin {\n",
       "    0% {\n",
       "      border-color: transparent;\n",
       "      border-bottom-color: var(--fill-color);\n",
       "      border-left-color: var(--fill-color);\n",
       "    }\n",
       "    20% {\n",
       "      border-color: transparent;\n",
       "      border-left-color: var(--fill-color);\n",
       "      border-top-color: var(--fill-color);\n",
       "    }\n",
       "    30% {\n",
       "      border-color: transparent;\n",
       "      border-left-color: var(--fill-color);\n",
       "      border-top-color: var(--fill-color);\n",
       "      border-right-color: var(--fill-color);\n",
       "    }\n",
       "    40% {\n",
       "      border-color: transparent;\n",
       "      border-right-color: var(--fill-color);\n",
       "      border-top-color: var(--fill-color);\n",
       "    }\n",
       "    60% {\n",
       "      border-color: transparent;\n",
       "      border-right-color: var(--fill-color);\n",
       "    }\n",
       "    80% {\n",
       "      border-color: transparent;\n",
       "      border-right-color: var(--fill-color);\n",
       "      border-bottom-color: var(--fill-color);\n",
       "    }\n",
       "    90% {\n",
       "      border-color: transparent;\n",
       "      border-bottom-color: var(--fill-color);\n",
       "    }\n",
       "  }\n",
       "</style>\n",
       "\n",
       "  <script>\n",
       "    async function quickchart(key) {\n",
       "      const quickchartButtonEl =\n",
       "        document.querySelector('#' + key + ' button');\n",
       "      quickchartButtonEl.disabled = true;  // To prevent multiple clicks.\n",
       "      quickchartButtonEl.classList.add('colab-df-spinner');\n",
       "      try {\n",
       "        const charts = await google.colab.kernel.invokeFunction(\n",
       "            'suggestCharts', [key], {});\n",
       "      } catch (error) {\n",
       "        console.error('Error during call to suggestCharts:', error);\n",
       "      }\n",
       "      quickchartButtonEl.classList.remove('colab-df-spinner');\n",
       "      quickchartButtonEl.classList.add('colab-df-quickchart-complete');\n",
       "    }\n",
       "    (() => {\n",
       "      let quickchartButtonEl =\n",
       "        document.querySelector('#df-ea9143d3-a169-4f7f-8fe1-38a73cbf1101 button');\n",
       "      quickchartButtonEl.style.display =\n",
       "        google.colab.kernel.accessAllowed ? 'block' : 'none';\n",
       "    })();\n",
       "  </script>\n",
       "</div>\n",
       "\n",
       "    </div>\n",
       "  </div>\n"
      ],
      "text/plain": [
       "       loan_amnt  int_rate  installment  annual_inc       dti  open_acc  \\\n",
       "count  396030.00 396030.00    396030.00   396030.00 396030.00 396030.00   \n",
       "mean    14113.89     13.64       431.85    74203.18     17.38     11.31   \n",
       "std      8357.44      4.47       250.73    61637.62     18.02      5.14   \n",
       "min       500.00      5.32        16.08        0.00      0.00      0.00   \n",
       "25%      8000.00     10.49       250.33    45000.00     11.28      8.00   \n",
       "50%     12000.00     13.33       375.43    64000.00     16.91     10.00   \n",
       "75%     20000.00     16.49       567.30    90000.00     22.98     14.00   \n",
       "max     40000.00     30.99      1533.81  8706582.00   9999.00     90.00   \n",
       "\n",
       "        pub_rec  revol_bal  revol_util  total_acc  mort_acc  \\\n",
       "count 396030.00  396030.00   395754.00  396030.00 358235.00   \n",
       "mean       0.18   15844.54       53.79      25.41      1.81   \n",
       "std        0.53   20591.84       24.45      11.89      2.15   \n",
       "min        0.00       0.00        0.00       2.00      0.00   \n",
       "25%        0.00    6025.00       35.80      17.00      0.00   \n",
       "50%        0.00   11181.00       54.80      24.00      1.00   \n",
       "75%        0.00   19620.00       72.90      32.00      3.00   \n",
       "max       86.00 1743266.00      892.30     151.00     34.00   \n",
       "\n",
       "       pub_rec_bankruptcies  \n",
       "count             395495.00  \n",
       "mean                   0.12  \n",
       "std                    0.36  \n",
       "min                    0.00  \n",
       "25%                    0.00  \n",
       "50%                    0.00  \n",
       "75%                    0.00  \n",
       "max                    8.00  "
      ]
     },
     "execution_count": 91,
     "metadata": {},
     "output_type": "execute_result"
    }
   ],
   "source": [
    "data.describe()"
   ]
  },
  {
   "cell_type": "markdown",
   "id": "0174e794",
   "metadata": {
    "id": "0174e794",
    "papermill": {
     "duration": 0.152855,
     "end_time": "2023-01-31T14:12:37.578196",
     "exception": false,
     "start_time": "2023-01-31T14:12:37.425341",
     "status": "completed"
    },
    "tags": []
   },
   "source": [
    "# Data PreProcessing"
   ]
  },
  {
   "cell_type": "code",
   "execution_count": 92,
   "id": "a3f7b968",
   "metadata": {
    "colab": {
     "base_uri": "https://localhost:8080/"
    },
    "execution": {
     "iopub.execute_input": "2023-01-31T14:12:37.891616Z",
     "iopub.status.busy": "2023-01-31T14:12:37.891224Z",
     "iopub.status.idle": "2023-01-31T14:12:37.896477Z",
     "shell.execute_reply": "2023-01-31T14:12:37.895493Z"
    },
    "executionInfo": {
     "elapsed": 779,
     "status": "ok",
     "timestamp": 1735823307993,
     "user": {
      "displayName": "NK",
      "userId": "17274431766567944403"
     },
     "user_tz": -330
    },
    "id": "a3f7b968",
    "outputId": "9c7b0f1b-8b03-4602-a217-594d0f61088f",
    "papermill": {
     "duration": 0.166246,
     "end_time": "2023-01-31T14:12:37.899194",
     "exception": false,
     "start_time": "2023-01-31T14:12:37.732948",
     "status": "completed"
    },
    "tags": []
   },
   "outputs": [
    {
     "name": "stdout",
     "output_type": "stream",
     "text": [
      "The Length of the data: (396030, 27)\n"
     ]
    }
   ],
   "source": [
    "# The length of the data\n",
    "print(f\"The Length of the data: {data.shape}\")"
   ]
  },
  {
   "cell_type": "code",
   "execution_count": 93,
   "id": "3a5120f0",
   "metadata": {
    "colab": {
     "base_uri": "https://localhost:8080/"
    },
    "execution": {
     "iopub.execute_input": "2023-01-31T14:12:38.208077Z",
     "iopub.status.busy": "2023-01-31T14:12:38.207044Z",
     "iopub.status.idle": "2023-01-31T14:12:38.418885Z",
     "shell.execute_reply": "2023-01-31T14:12:38.417592Z"
    },
    "executionInfo": {
     "elapsed": 1485,
     "status": "ok",
     "timestamp": 1735823319710,
     "user": {
      "displayName": "NK",
      "userId": "17274431766567944403"
     },
     "user_tz": -330
    },
    "id": "3a5120f0",
    "outputId": "23d7efb9-4799-4ff9-a721-dd1c9c1afc1b",
    "papermill": {
     "duration": 0.369849,
     "end_time": "2023-01-31T14:12:38.421013",
     "exception": false,
     "start_time": "2023-01-31T14:12:38.051164",
     "status": "completed"
    },
    "tags": []
   },
   "outputs": [
    {
     "name": "stdout",
     "output_type": "stream",
     "text": [
      "'emp_title': number of missing values '22927' ==> '5.789%'\n",
      "'emp_length': number of missing values '18301' ==> '4.621%'\n",
      "'title': number of missing values '1756' ==> '0.443%'\n",
      "'revol_util': number of missing values '276' ==> '0.070%'\n",
      "'mort_acc': number of missing values '37795' ==> '9.543%'\n",
      "'pub_rec_bankruptcies': number of missing values '535' ==> '0.135%'\n"
     ]
    }
   ],
   "source": [
    "# Missing values\n",
    "for column in data.columns:\n",
    "    if data[column].isna().sum() != 0:\n",
    "        missing = data[column].isna().sum()\n",
    "        portion = (missing / data.shape[0]) * 100\n",
    "        print(f\"'{column}': number of missing values '{missing}' ==> '{portion:.3f}%'\")"
   ]
  },
  {
   "cell_type": "markdown",
   "id": "fd4ed1ca",
   "metadata": {
    "id": "fd4ed1ca",
    "papermill": {
     "duration": 0.153546,
     "end_time": "2023-01-31T14:12:38.729424",
     "exception": false,
     "start_time": "2023-01-31T14:12:38.575878",
     "status": "completed"
    },
    "tags": []
   },
   "source": [
    "### `emp_title`"
   ]
  },
  {
   "cell_type": "code",
   "execution_count": 94,
   "id": "31fff0c5",
   "metadata": {
    "colab": {
     "base_uri": "https://localhost:8080/"
    },
    "execution": {
     "iopub.execute_input": "2023-01-31T14:12:39.041691Z",
     "iopub.status.busy": "2023-01-31T14:12:39.041315Z",
     "iopub.status.idle": "2023-01-31T14:12:39.107185Z",
     "shell.execute_reply": "2023-01-31T14:12:39.106047Z"
    },
    "executionInfo": {
     "elapsed": 534,
     "status": "ok",
     "timestamp": 1735823322804,
     "user": {
      "displayName": "NK",
      "userId": "17274431766567944403"
     },
     "user_tz": -330
    },
    "id": "31fff0c5",
    "outputId": "6c530e6d-5695-4abb-8423-5bfa5fd183b2",
    "papermill": {
     "duration": 0.225569,
     "end_time": "2023-01-31T14:12:39.109800",
     "exception": false,
     "start_time": "2023-01-31T14:12:38.884231",
     "status": "completed"
    },
    "tags": []
   },
   "outputs": [
    {
     "data": {
      "text/plain": [
       "173105"
      ]
     },
     "execution_count": 94,
     "metadata": {},
     "output_type": "execute_result"
    }
   ],
   "source": [
    "data.emp_title.nunique()"
   ]
  },
  {
   "cell_type": "markdown",
   "id": "74d3e2a5",
   "metadata": {
    "id": "74d3e2a5",
    "papermill": {
     "duration": 0.153798,
     "end_time": "2023-01-31T14:12:39.419636",
     "exception": false,
     "start_time": "2023-01-31T14:12:39.265838",
     "status": "completed"
    },
    "tags": []
   },
   "source": [
    "Realistically there are too many unique job titles to try to convert this to a dummy variable feature. Let's remove that emp_title column."
   ]
  },
  {
   "cell_type": "code",
   "execution_count": 95,
   "id": "4e69498c",
   "metadata": {
    "execution": {
     "iopub.execute_input": "2023-01-31T14:12:39.733271Z",
     "iopub.status.busy": "2023-01-31T14:12:39.732764Z",
     "iopub.status.idle": "2023-01-31T14:12:39.823678Z",
     "shell.execute_reply": "2023-01-31T14:12:39.822304Z"
    },
    "executionInfo": {
     "elapsed": 2,
     "status": "ok",
     "timestamp": 1735823323438,
     "user": {
      "displayName": "NK",
      "userId": "17274431766567944403"
     },
     "user_tz": -330
    },
    "id": "4e69498c",
    "papermill": {
     "duration": 0.253402,
     "end_time": "2023-01-31T14:12:39.826253",
     "exception": false,
     "start_time": "2023-01-31T14:12:39.572851",
     "status": "completed"
    },
    "tags": []
   },
   "outputs": [],
   "source": [
    "data.drop('emp_title', axis=1, inplace=True)"
   ]
  },
  {
   "cell_type": "markdown",
   "id": "4ac56861",
   "metadata": {
    "id": "4ac56861",
    "papermill": {
     "duration": 0.157447,
     "end_time": "2023-01-31T14:12:40.193207",
     "exception": false,
     "start_time": "2023-01-31T14:12:40.035760",
     "status": "completed"
    },
    "tags": []
   },
   "source": [
    "### `emp_length`"
   ]
  },
  {
   "cell_type": "code",
   "execution_count": 96,
   "id": "d1109872",
   "metadata": {
    "colab": {
     "base_uri": "https://localhost:8080/"
    },
    "execution": {
     "iopub.execute_input": "2023-01-31T14:12:40.511490Z",
     "iopub.status.busy": "2023-01-31T14:12:40.511130Z",
     "iopub.status.idle": "2023-01-31T14:12:40.536770Z",
     "shell.execute_reply": "2023-01-31T14:12:40.535787Z"
    },
    "executionInfo": {
     "elapsed": 4,
     "status": "ok",
     "timestamp": 1735823325546,
     "user": {
      "displayName": "NK",
      "userId": "17274431766567944403"
     },
     "user_tz": -330
    },
    "id": "d1109872",
    "outputId": "9000635a-4c09-4f5e-f529-ab99f99e9b6b",
    "papermill": {
     "duration": 0.18835,
     "end_time": "2023-01-31T14:12:40.538845",
     "exception": false,
     "start_time": "2023-01-31T14:12:40.350495",
     "status": "completed"
    },
    "tags": []
   },
   "outputs": [
    {
     "data": {
      "text/plain": [
       "array(['10+ years', '4 years', '< 1 year', '6 years', '9 years',\n",
       "       '2 years', '3 years', '8 years', '7 years', '5 years', '1 year',\n",
       "       nan], dtype=object)"
      ]
     },
     "execution_count": 96,
     "metadata": {},
     "output_type": "execute_result"
    }
   ],
   "source": [
    "data.emp_length.unique()"
   ]
  },
  {
   "cell_type": "code",
   "execution_count": 97,
   "id": "d7555668",
   "metadata": {
    "colab": {
     "base_uri": "https://localhost:8080/"
    },
    "execution": {
     "iopub.execute_input": "2023-01-31T14:12:40.853484Z",
     "iopub.status.busy": "2023-01-31T14:12:40.852478Z",
     "iopub.status.idle": "2023-01-31T14:12:41.357523Z",
     "shell.execute_reply": "2023-01-31T14:12:41.356169Z"
    },
    "executionInfo": {
     "elapsed": 4,
     "status": "ok",
     "timestamp": 1735823327442,
     "user": {
      "displayName": "NK",
      "userId": "17274431766567944403"
     },
     "user_tz": -330
    },
    "id": "d7555668",
    "outputId": "f1556939-83f3-4e04-eb0e-9aea8d3d789f",
    "papermill": {
     "duration": 0.666708,
     "end_time": "2023-01-31T14:12:41.359726",
     "exception": false,
     "start_time": "2023-01-31T14:12:40.693018",
     "status": "completed"
    },
    "tags": []
   },
   "outputs": [
    {
     "name": "stdout",
     "output_type": "stream",
     "text": [
      "10+ years years in this position:\n",
      "loan_status\n",
      "Fully Paid    0.82\n",
      "Charged Off   0.18\n",
      "Name: proportion, dtype: float64\n",
      "==========================================\n",
      "4 years years in this position:\n",
      "loan_status\n",
      "Fully Paid    0.81\n",
      "Charged Off   0.19\n",
      "Name: proportion, dtype: float64\n",
      "==========================================\n",
      "< 1 year years in this position:\n",
      "loan_status\n",
      "Fully Paid    0.79\n",
      "Charged Off   0.21\n",
      "Name: proportion, dtype: float64\n",
      "==========================================\n",
      "6 years years in this position:\n",
      "loan_status\n",
      "Fully Paid    0.81\n",
      "Charged Off   0.19\n",
      "Name: proportion, dtype: float64\n",
      "==========================================\n",
      "9 years years in this position:\n",
      "loan_status\n",
      "Fully Paid    0.80\n",
      "Charged Off   0.20\n",
      "Name: proportion, dtype: float64\n",
      "==========================================\n",
      "2 years years in this position:\n",
      "loan_status\n",
      "Fully Paid    0.81\n",
      "Charged Off   0.19\n",
      "Name: proportion, dtype: float64\n",
      "==========================================\n",
      "3 years years in this position:\n",
      "loan_status\n",
      "Fully Paid    0.80\n",
      "Charged Off   0.20\n",
      "Name: proportion, dtype: float64\n",
      "==========================================\n",
      "8 years years in this position:\n",
      "loan_status\n",
      "Fully Paid    0.80\n",
      "Charged Off   0.20\n",
      "Name: proportion, dtype: float64\n",
      "==========================================\n",
      "7 years years in this position:\n",
      "loan_status\n",
      "Fully Paid    0.81\n",
      "Charged Off   0.19\n",
      "Name: proportion, dtype: float64\n",
      "==========================================\n",
      "5 years years in this position:\n",
      "loan_status\n",
      "Fully Paid    0.81\n",
      "Charged Off   0.19\n",
      "Name: proportion, dtype: float64\n",
      "==========================================\n",
      "1 year years in this position:\n",
      "loan_status\n",
      "Fully Paid    0.80\n",
      "Charged Off   0.20\n",
      "Name: proportion, dtype: float64\n",
      "==========================================\n",
      "nan years in this position:\n",
      "Series([], Name: proportion, dtype: float64)\n",
      "==========================================\n"
     ]
    }
   ],
   "source": [
    "for year in data.emp_length.unique():\n",
    "    print(f\"{year} years in this position:\")\n",
    "    print(f\"{data[data.emp_length == year].loan_status.value_counts(normalize=True)}\")\n",
    "    print('==========================================')"
   ]
  },
  {
   "cell_type": "markdown",
   "id": "f1ad195b",
   "metadata": {
    "id": "f1ad195b",
    "papermill": {
     "duration": 0.241511,
     "end_time": "2023-01-31T14:12:41.814332",
     "exception": false,
     "start_time": "2023-01-31T14:12:41.572821",
     "status": "completed"
    },
    "tags": []
   },
   "source": [
    "Charge off rates are extremely similar across all employment lengths. So we are going to drop the `emp_length` column."
   ]
  },
  {
   "cell_type": "code",
   "execution_count": 98,
   "id": "08cd74d5",
   "metadata": {
    "execution": {
     "iopub.execute_input": "2023-01-31T14:12:42.216196Z",
     "iopub.status.busy": "2023-01-31T14:12:42.214985Z",
     "iopub.status.idle": "2023-01-31T14:12:42.301892Z",
     "shell.execute_reply": "2023-01-31T14:12:42.300870Z"
    },
    "executionInfo": {
     "elapsed": 521,
     "status": "ok",
     "timestamp": 1735823341815,
     "user": {
      "displayName": "NK",
      "userId": "17274431766567944403"
     },
     "user_tz": -330
    },
    "id": "08cd74d5",
    "papermill": {
     "duration": 0.253314,
     "end_time": "2023-01-31T14:12:42.304445",
     "exception": false,
     "start_time": "2023-01-31T14:12:42.051131",
     "status": "completed"
    },
    "tags": []
   },
   "outputs": [],
   "source": [
    "data.drop('emp_length', axis=1, inplace=True)"
   ]
  },
  {
   "cell_type": "markdown",
   "id": "9a03679c",
   "metadata": {
    "id": "9a03679c",
    "papermill": {
     "duration": 0.15497,
     "end_time": "2023-01-31T14:12:42.623502",
     "exception": false,
     "start_time": "2023-01-31T14:12:42.468532",
     "status": "completed"
    },
    "tags": []
   },
   "source": [
    "### `title`"
   ]
  },
  {
   "cell_type": "code",
   "execution_count": 99,
   "id": "3b66695f",
   "metadata": {
    "colab": {
     "base_uri": "https://localhost:8080/",
     "height": 272
    },
    "execution": {
     "iopub.execute_input": "2023-01-31T14:12:42.936415Z",
     "iopub.status.busy": "2023-01-31T14:12:42.936036Z",
     "iopub.status.idle": "2023-01-31T14:12:42.986007Z",
     "shell.execute_reply": "2023-01-31T14:12:42.984879Z"
    },
    "executionInfo": {
     "elapsed": 620,
     "status": "ok",
     "timestamp": 1735823344084,
     "user": {
      "displayName": "NK",
      "userId": "17274431766567944403"
     },
     "user_tz": -330
    },
    "id": "3b66695f",
    "outputId": "70ef077e-98a7-403f-962f-c5e7df59e7a8",
    "papermill": {
     "duration": 0.207784,
     "end_time": "2023-01-31T14:12:42.988632",
     "exception": false,
     "start_time": "2023-01-31T14:12:42.780848",
     "status": "completed"
    },
    "tags": []
   },
   "outputs": [
    {
     "data": {
      "text/html": [
       "<div>\n",
       "<style scoped>\n",
       "    .dataframe tbody tr th:only-of-type {\n",
       "        vertical-align: middle;\n",
       "    }\n",
       "\n",
       "    .dataframe tbody tr th {\n",
       "        vertical-align: top;\n",
       "    }\n",
       "\n",
       "    .dataframe thead th {\n",
       "        text-align: right;\n",
       "    }\n",
       "</style>\n",
       "<table border=\"1\" class=\"dataframe\">\n",
       "  <thead>\n",
       "    <tr style=\"text-align: right;\">\n",
       "      <th></th>\n",
       "      <th>count</th>\n",
       "    </tr>\n",
       "    <tr>\n",
       "      <th>title</th>\n",
       "      <th></th>\n",
       "    </tr>\n",
       "  </thead>\n",
       "  <tbody>\n",
       "    <tr>\n",
       "      <th>Debt consolidation</th>\n",
       "      <td>152472</td>\n",
       "    </tr>\n",
       "    <tr>\n",
       "      <th>Credit card refinancing</th>\n",
       "      <td>51487</td>\n",
       "    </tr>\n",
       "    <tr>\n",
       "      <th>Home improvement</th>\n",
       "      <td>15264</td>\n",
       "    </tr>\n",
       "    <tr>\n",
       "      <th>Other</th>\n",
       "      <td>12930</td>\n",
       "    </tr>\n",
       "    <tr>\n",
       "      <th>Debt Consolidation</th>\n",
       "      <td>11608</td>\n",
       "    </tr>\n",
       "  </tbody>\n",
       "</table>\n",
       "</div><br><label><b>dtype:</b> int64</label>"
      ],
      "text/plain": [
       "title\n",
       "Debt consolidation         152472\n",
       "Credit card refinancing     51487\n",
       "Home improvement            15264\n",
       "Other                       12930\n",
       "Debt Consolidation          11608\n",
       "Name: count, dtype: int64"
      ]
     },
     "execution_count": 99,
     "metadata": {},
     "output_type": "execute_result"
    }
   ],
   "source": [
    "data.title.value_counts().head()"
   ]
  },
  {
   "cell_type": "code",
   "execution_count": 100,
   "id": "9e41c72a",
   "metadata": {
    "colab": {
     "base_uri": "https://localhost:8080/",
     "height": 272
    },
    "execution": {
     "iopub.execute_input": "2023-01-31T14:12:43.299107Z",
     "iopub.status.busy": "2023-01-31T14:12:43.298021Z",
     "iopub.status.idle": "2023-01-31T14:12:43.325665Z",
     "shell.execute_reply": "2023-01-31T14:12:43.324658Z"
    },
    "executionInfo": {
     "elapsed": 586,
     "status": "ok",
     "timestamp": 1735823350024,
     "user": {
      "displayName": "NK",
      "userId": "17274431766567944403"
     },
     "user_tz": -330
    },
    "id": "9e41c72a",
    "outputId": "451ee466-5e08-4c73-a121-a1f95a34ecce",
    "papermill": {
     "duration": 0.184422,
     "end_time": "2023-01-31T14:12:43.327767",
     "exception": false,
     "start_time": "2023-01-31T14:12:43.143345",
     "status": "completed"
    },
    "tags": []
   },
   "outputs": [
    {
     "data": {
      "text/html": [
       "<div>\n",
       "<style scoped>\n",
       "    .dataframe tbody tr th:only-of-type {\n",
       "        vertical-align: middle;\n",
       "    }\n",
       "\n",
       "    .dataframe tbody tr th {\n",
       "        vertical-align: top;\n",
       "    }\n",
       "\n",
       "    .dataframe thead th {\n",
       "        text-align: right;\n",
       "    }\n",
       "</style>\n",
       "<table border=\"1\" class=\"dataframe\">\n",
       "  <thead>\n",
       "    <tr style=\"text-align: right;\">\n",
       "      <th></th>\n",
       "      <th>count</th>\n",
       "    </tr>\n",
       "    <tr>\n",
       "      <th>purpose</th>\n",
       "      <th></th>\n",
       "    </tr>\n",
       "  </thead>\n",
       "  <tbody>\n",
       "    <tr>\n",
       "      <th>debt_consolidation</th>\n",
       "      <td>234507</td>\n",
       "    </tr>\n",
       "    <tr>\n",
       "      <th>credit_card</th>\n",
       "      <td>83019</td>\n",
       "    </tr>\n",
       "    <tr>\n",
       "      <th>home_improvement</th>\n",
       "      <td>24030</td>\n",
       "    </tr>\n",
       "    <tr>\n",
       "      <th>other</th>\n",
       "      <td>21185</td>\n",
       "    </tr>\n",
       "    <tr>\n",
       "      <th>major_purchase</th>\n",
       "      <td>8790</td>\n",
       "    </tr>\n",
       "  </tbody>\n",
       "</table>\n",
       "</div><br><label><b>dtype:</b> int64</label>"
      ],
      "text/plain": [
       "purpose\n",
       "debt_consolidation    234507\n",
       "credit_card            83019\n",
       "home_improvement       24030\n",
       "other                  21185\n",
       "major_purchase          8790\n",
       "Name: count, dtype: int64"
      ]
     },
     "execution_count": 100,
     "metadata": {},
     "output_type": "execute_result"
    }
   ],
   "source": [
    "data.purpose.value_counts().head()"
   ]
  },
  {
   "cell_type": "markdown",
   "id": "a946b370",
   "metadata": {
    "id": "a946b370",
    "papermill": {
     "duration": 0.154896,
     "end_time": "2023-01-31T14:12:43.642185",
     "exception": false,
     "start_time": "2023-01-31T14:12:43.487289",
     "status": "completed"
    },
    "tags": []
   },
   "source": [
    "The title column is simply a string subcategory/description of the purpose column. So we are going to drop the title column."
   ]
  },
  {
   "cell_type": "code",
   "execution_count": 101,
   "id": "87222d20",
   "metadata": {
    "execution": {
     "iopub.execute_input": "2023-01-31T14:12:43.955316Z",
     "iopub.status.busy": "2023-01-31T14:12:43.954293Z",
     "iopub.status.idle": "2023-01-31T14:12:44.029021Z",
     "shell.execute_reply": "2023-01-31T14:12:44.027978Z"
    },
    "executionInfo": {
     "elapsed": 1011,
     "status": "ok",
     "timestamp": 1735823356894,
     "user": {
      "displayName": "NK",
      "userId": "17274431766567944403"
     },
     "user_tz": -330
    },
    "id": "87222d20",
    "papermill": {
     "duration": 0.232715,
     "end_time": "2023-01-31T14:12:44.031617",
     "exception": false,
     "start_time": "2023-01-31T14:12:43.798902",
     "status": "completed"
    },
    "tags": []
   },
   "outputs": [],
   "source": [
    "data.drop('title', axis=1, inplace=True)"
   ]
  },
  {
   "cell_type": "markdown",
   "id": "00fca018",
   "metadata": {
    "id": "00fca018",
    "papermill": {
     "duration": 0.154279,
     "end_time": "2023-01-31T14:12:44.341279",
     "exception": false,
     "start_time": "2023-01-31T14:12:44.187000",
     "status": "completed"
    },
    "tags": []
   },
   "source": [
    "### `mort_acc`\n",
    "\n",
    "There are many ways we could deal with this missing data. We could attempt to build a simple model to fill it in, such as a linear model, we could just fill it in based on the mean of the other columns, or you could even bin the columns into categories and then set NaN as its own category. There is no 100% correct approach!\n",
    "\n",
    "Let's review the other columsn to see which most highly correlates to mort_acc"
   ]
  },
  {
   "cell_type": "code",
   "execution_count": 102,
   "id": "41a0c87b",
   "metadata": {
    "colab": {
     "base_uri": "https://localhost:8080/",
     "height": 1000
    },
    "execution": {
     "iopub.execute_input": "2023-01-31T14:12:44.655052Z",
     "iopub.status.busy": "2023-01-31T14:12:44.653060Z",
     "iopub.status.idle": "2023-01-31T14:12:44.667971Z",
     "shell.execute_reply": "2023-01-31T14:12:44.666899Z"
    },
    "executionInfo": {
     "elapsed": 551,
     "status": "ok",
     "timestamp": 1735823360961,
     "user": {
      "displayName": "NK",
      "userId": "17274431766567944403"
     },
     "user_tz": -330
    },
    "id": "41a0c87b",
    "outputId": "9d8135af-ba64-44db-a71e-8412fd35dae1",
    "papermill": {
     "duration": 0.175319,
     "end_time": "2023-01-31T14:12:44.670092",
     "exception": false,
     "start_time": "2023-01-31T14:12:44.494773",
     "status": "completed"
    },
    "tags": []
   },
   "outputs": [
    {
     "data": {
      "text/html": [
       "<div>\n",
       "<style scoped>\n",
       "    .dataframe tbody tr th:only-of-type {\n",
       "        vertical-align: middle;\n",
       "    }\n",
       "\n",
       "    .dataframe tbody tr th {\n",
       "        vertical-align: top;\n",
       "    }\n",
       "\n",
       "    .dataframe thead th {\n",
       "        text-align: right;\n",
       "    }\n",
       "</style>\n",
       "<table border=\"1\" class=\"dataframe\">\n",
       "  <thead>\n",
       "    <tr style=\"text-align: right;\">\n",
       "      <th></th>\n",
       "      <th>count</th>\n",
       "    </tr>\n",
       "    <tr>\n",
       "      <th>mort_acc</th>\n",
       "      <th></th>\n",
       "    </tr>\n",
       "  </thead>\n",
       "  <tbody>\n",
       "    <tr>\n",
       "      <th>0.00</th>\n",
       "      <td>139777</td>\n",
       "    </tr>\n",
       "    <tr>\n",
       "      <th>1.00</th>\n",
       "      <td>60416</td>\n",
       "    </tr>\n",
       "    <tr>\n",
       "      <th>2.00</th>\n",
       "      <td>49948</td>\n",
       "    </tr>\n",
       "    <tr>\n",
       "      <th>3.00</th>\n",
       "      <td>38049</td>\n",
       "    </tr>\n",
       "    <tr>\n",
       "      <th>4.00</th>\n",
       "      <td>27887</td>\n",
       "    </tr>\n",
       "    <tr>\n",
       "      <th>5.00</th>\n",
       "      <td>18194</td>\n",
       "    </tr>\n",
       "    <tr>\n",
       "      <th>6.00</th>\n",
       "      <td>11069</td>\n",
       "    </tr>\n",
       "    <tr>\n",
       "      <th>7.00</th>\n",
       "      <td>6052</td>\n",
       "    </tr>\n",
       "    <tr>\n",
       "      <th>8.00</th>\n",
       "      <td>3121</td>\n",
       "    </tr>\n",
       "    <tr>\n",
       "      <th>9.00</th>\n",
       "      <td>1656</td>\n",
       "    </tr>\n",
       "    <tr>\n",
       "      <th>10.00</th>\n",
       "      <td>865</td>\n",
       "    </tr>\n",
       "    <tr>\n",
       "      <th>11.00</th>\n",
       "      <td>479</td>\n",
       "    </tr>\n",
       "    <tr>\n",
       "      <th>12.00</th>\n",
       "      <td>264</td>\n",
       "    </tr>\n",
       "    <tr>\n",
       "      <th>13.00</th>\n",
       "      <td>146</td>\n",
       "    </tr>\n",
       "    <tr>\n",
       "      <th>14.00</th>\n",
       "      <td>107</td>\n",
       "    </tr>\n",
       "    <tr>\n",
       "      <th>15.00</th>\n",
       "      <td>61</td>\n",
       "    </tr>\n",
       "    <tr>\n",
       "      <th>16.00</th>\n",
       "      <td>37</td>\n",
       "    </tr>\n",
       "    <tr>\n",
       "      <th>17.00</th>\n",
       "      <td>22</td>\n",
       "    </tr>\n",
       "    <tr>\n",
       "      <th>18.00</th>\n",
       "      <td>18</td>\n",
       "    </tr>\n",
       "    <tr>\n",
       "      <th>19.00</th>\n",
       "      <td>15</td>\n",
       "    </tr>\n",
       "    <tr>\n",
       "      <th>20.00</th>\n",
       "      <td>13</td>\n",
       "    </tr>\n",
       "    <tr>\n",
       "      <th>24.00</th>\n",
       "      <td>10</td>\n",
       "    </tr>\n",
       "    <tr>\n",
       "      <th>22.00</th>\n",
       "      <td>7</td>\n",
       "    </tr>\n",
       "    <tr>\n",
       "      <th>21.00</th>\n",
       "      <td>4</td>\n",
       "    </tr>\n",
       "    <tr>\n",
       "      <th>25.00</th>\n",
       "      <td>4</td>\n",
       "    </tr>\n",
       "    <tr>\n",
       "      <th>27.00</th>\n",
       "      <td>3</td>\n",
       "    </tr>\n",
       "    <tr>\n",
       "      <th>32.00</th>\n",
       "      <td>2</td>\n",
       "    </tr>\n",
       "    <tr>\n",
       "      <th>31.00</th>\n",
       "      <td>2</td>\n",
       "    </tr>\n",
       "    <tr>\n",
       "      <th>23.00</th>\n",
       "      <td>2</td>\n",
       "    </tr>\n",
       "    <tr>\n",
       "      <th>26.00</th>\n",
       "      <td>2</td>\n",
       "    </tr>\n",
       "    <tr>\n",
       "      <th>28.00</th>\n",
       "      <td>1</td>\n",
       "    </tr>\n",
       "    <tr>\n",
       "      <th>30.00</th>\n",
       "      <td>1</td>\n",
       "    </tr>\n",
       "    <tr>\n",
       "      <th>34.00</th>\n",
       "      <td>1</td>\n",
       "    </tr>\n",
       "  </tbody>\n",
       "</table>\n",
       "</div><br><label><b>dtype:</b> int64</label>"
      ],
      "text/plain": [
       "mort_acc\n",
       "0.00     139777\n",
       "1.00      60416\n",
       "2.00      49948\n",
       "3.00      38049\n",
       "4.00      27887\n",
       "5.00      18194\n",
       "6.00      11069\n",
       "7.00       6052\n",
       "8.00       3121\n",
       "9.00       1656\n",
       "10.00       865\n",
       "11.00       479\n",
       "12.00       264\n",
       "13.00       146\n",
       "14.00       107\n",
       "15.00        61\n",
       "16.00        37\n",
       "17.00        22\n",
       "18.00        18\n",
       "19.00        15\n",
       "20.00        13\n",
       "24.00        10\n",
       "22.00         7\n",
       "21.00         4\n",
       "25.00         4\n",
       "27.00         3\n",
       "32.00         2\n",
       "31.00         2\n",
       "23.00         2\n",
       "26.00         2\n",
       "28.00         1\n",
       "30.00         1\n",
       "34.00         1\n",
       "Name: count, dtype: int64"
      ]
     },
     "execution_count": 102,
     "metadata": {},
     "output_type": "execute_result"
    }
   ],
   "source": [
    "data.mort_acc.value_counts()"
   ]
  },
  {
   "cell_type": "code",
   "execution_count": 103,
   "id": "891733d8",
   "metadata": {
    "colab": {
     "base_uri": "https://localhost:8080/"
    },
    "execution": {
     "iopub.execute_input": "2023-01-31T14:12:44.983451Z",
     "iopub.status.busy": "2023-01-31T14:12:44.983069Z",
     "iopub.status.idle": "2023-01-31T14:12:44.991441Z",
     "shell.execute_reply": "2023-01-31T14:12:44.990258Z"
    },
    "executionInfo": {
     "elapsed": 518,
     "status": "ok",
     "timestamp": 1735823369557,
     "user": {
      "displayName": "NK",
      "userId": "17274431766567944403"
     },
     "user_tz": -330
    },
    "id": "891733d8",
    "outputId": "a1164390-a286-447b-8942-9639ae0dc7c3",
    "papermill": {
     "duration": 0.166463,
     "end_time": "2023-01-31T14:12:44.993460",
     "exception": false,
     "start_time": "2023-01-31T14:12:44.826997",
     "status": "completed"
    },
    "tags": []
   },
   "outputs": [
    {
     "data": {
      "text/plain": [
       "37795"
      ]
     },
     "execution_count": 103,
     "metadata": {},
     "output_type": "execute_result"
    }
   ],
   "source": [
    "data.mort_acc.isna().sum()"
   ]
  },
  {
   "cell_type": "code",
   "execution_count": 104,
   "id": "2bc0905e",
   "metadata": {
    "colab": {
     "base_uri": "https://localhost:8080/",
     "height": 327
    },
    "execution": {
     "iopub.execute_input": "2023-01-31T14:12:45.307361Z",
     "iopub.status.busy": "2023-01-31T14:12:45.306247Z",
     "iopub.status.idle": "2023-01-31T14:12:45.608851Z",
     "shell.execute_reply": "2023-01-31T14:12:45.607758Z"
    },
    "executionInfo": {
     "elapsed": 895,
     "status": "ok",
     "timestamp": 1735823372102,
     "user": {
      "displayName": "NK",
      "userId": "17274431766567944403"
     },
     "user_tz": -330
    },
    "id": "2bc0905e",
    "outputId": "c0e67f14-3353-4a9b-f3e7-162238a1e485",
    "papermill": {
     "duration": 0.462107,
     "end_time": "2023-01-31T14:12:45.611758",
     "exception": false,
     "start_time": "2023-01-31T14:12:45.149651",
     "status": "completed"
    },
    "tags": []
   },
   "outputs": [
    {
     "data": {
      "text/html": [
       "<script type=\"esms-options\">{\"shimMode\": true}</script><style>*[data-root-id],\n",
       "*[data-root-id] > * {\n",
       "  box-sizing: border-box;\n",
       "  font-family: var(--jp-ui-font-family);\n",
       "  font-size: var(--jp-ui-font-size1);\n",
       "  color: var(--vscode-editor-foreground, var(--jp-ui-font-color1));\n",
       "}\n",
       "\n",
       "/* Override VSCode background color */\n",
       ".cell-output-ipywidget-background:has(\n",
       "    > .cell-output-ipywidget-background > .lm-Widget > *[data-root-id]\n",
       "  ),\n",
       ".cell-output-ipywidget-background:has(> .lm-Widget > *[data-root-id]) {\n",
       "  background-color: transparent !important;\n",
       "}\n",
       "</style>"
      ]
     },
     "metadata": {},
     "output_type": "display_data"
    },
    {
     "data": {
      "application/javascript": "(function(root) {\n  function now() {\n    return new Date();\n  }\n\n  const force = true;\n  const py_version = '3.6.2'.replace('rc', '-rc.').replace('.dev', '-dev.');\n  const reloading = false;\n  const Bokeh = root.Bokeh;\n\n  // Set a timeout for this load but only if we are not already initializing\n  if (typeof (root._bokeh_timeout) === \"undefined\" || (force || !root._bokeh_is_initializing)) {\n    root._bokeh_timeout = Date.now() + 5000;\n    root._bokeh_failed_load = false;\n  }\n\n  function run_callbacks() {\n    try {\n      root._bokeh_onload_callbacks.forEach(function(callback) {\n        if (callback != null)\n          callback();\n      });\n    } finally {\n      delete root._bokeh_onload_callbacks;\n    }\n    console.debug(\"Bokeh: all callbacks have finished\");\n  }\n\n  function load_libs(css_urls, js_urls, js_modules, js_exports, callback) {\n    if (css_urls == null) css_urls = [];\n    if (js_urls == null) js_urls = [];\n    if (js_modules == null) js_modules = [];\n    if (js_exports == null) js_exports = {};\n\n    root._bokeh_onload_callbacks.push(callback);\n\n    if (root._bokeh_is_loading > 0) {\n      // Don't load bokeh if it is still initializing\n      console.debug(\"Bokeh: BokehJS is being loaded, scheduling callback at\", now());\n      return null;\n    } else if (js_urls.length === 0 && js_modules.length === 0 && Object.keys(js_exports).length === 0) {\n      // There is nothing to load\n      run_callbacks();\n      return null;\n    }\n\n    function on_load() {\n      root._bokeh_is_loading--;\n      if (root._bokeh_is_loading === 0) {\n        console.debug(\"Bokeh: all BokehJS libraries/stylesheets loaded\");\n        run_callbacks()\n      }\n    }\n    window._bokeh_on_load = on_load\n\n    function on_error(e) {\n      const src_el = e.srcElement\n      console.error(\"failed to load \" + (src_el.href || src_el.src));\n    }\n\n    const skip = [];\n    if (window.requirejs) {\n      window.requirejs.config({'packages': {}, 'paths': {}, 'shim': {}});\n      root._bokeh_is_loading = css_urls.length + 0;\n    } else {\n      root._bokeh_is_loading = css_urls.length + js_urls.length + js_modules.length + Object.keys(js_exports).length;\n    }\n\n    const existing_stylesheets = []\n    const links = document.getElementsByTagName('link')\n    for (let i = 0; i < links.length; i++) {\n      const link = links[i]\n      if (link.href != null) {\n        existing_stylesheets.push(link.href)\n      }\n    }\n    for (let i = 0; i < css_urls.length; i++) {\n      const url = css_urls[i];\n      const escaped = encodeURI(url)\n      if (existing_stylesheets.indexOf(escaped) !== -1) {\n        on_load()\n        continue;\n      }\n      const element = document.createElement(\"link\");\n      element.onload = on_load;\n      element.onerror = on_error;\n      element.rel = \"stylesheet\";\n      element.type = \"text/css\";\n      element.href = url;\n      console.debug(\"Bokeh: injecting link tag for BokehJS stylesheet: \", url);\n      document.body.appendChild(element);\n    }    var existing_scripts = []\n    const scripts = document.getElementsByTagName('script')\n    for (let i = 0; i < scripts.length; i++) {\n      var script = scripts[i]\n      if (script.src != null) {\n        existing_scripts.push(script.src)\n      }\n    }\n    for (let i = 0; i < js_urls.length; i++) {\n      const url = js_urls[i];\n      const escaped = encodeURI(url)\n      if (skip.indexOf(escaped) !== -1 || existing_scripts.indexOf(escaped) !== -1) {\n        if (!window.requirejs) {\n          on_load();\n        }\n        continue;\n      }\n      const element = document.createElement('script');\n      element.onload = on_load;\n      element.onerror = on_error;\n      element.async = false;\n      element.src = url;\n      console.debug(\"Bokeh: injecting script tag for BokehJS library: \", url);\n      document.head.appendChild(element);\n    }\n    for (let i = 0; i < js_modules.length; i++) {\n      const url = js_modules[i];\n      const escaped = encodeURI(url)\n      if (skip.indexOf(escaped) !== -1 || existing_scripts.indexOf(escaped) !== -1) {\n        if (!window.requirejs) {\n          on_load();\n        }\n        continue;\n      }\n      var element = document.createElement('script');\n      element.onload = on_load;\n      element.onerror = on_error;\n      element.async = false;\n      element.src = url;\n      element.type = \"module\";\n      console.debug(\"Bokeh: injecting script tag for BokehJS library: \", url);\n      document.head.appendChild(element);\n    }\n    for (const name in js_exports) {\n      const url = js_exports[name];\n      const escaped = encodeURI(url)\n      if (skip.indexOf(escaped) >= 0 || root[name] != null) {\n        if (!window.requirejs) {\n          on_load();\n        }\n        continue;\n      }\n      var element = document.createElement('script');\n      element.onerror = on_error;\n      element.async = false;\n      element.type = \"module\";\n      console.debug(\"Bokeh: injecting script tag for BokehJS library: \", url);\n      element.textContent = `\n      import ${name} from \"${url}\"\n      window.${name} = ${name}\n      window._bokeh_on_load()\n      `\n      document.head.appendChild(element);\n    }\n    if (!js_urls.length && !js_modules.length) {\n      on_load()\n    }\n  };\n\n  function inject_raw_css(css) {\n    const element = document.createElement(\"style\");\n    element.appendChild(document.createTextNode(css));\n    document.body.appendChild(element);\n  }\n\n  const js_urls = [\"https://cdn.holoviz.org/panel/1.5.4/dist/bundled/reactiveesm/es-module-shims@^1.10.0/dist/es-module-shims.min.js\", \"https://cdn.bokeh.org/bokeh/release/bokeh-3.6.2.min.js\", \"https://cdn.bokeh.org/bokeh/release/bokeh-gl-3.6.2.min.js\", \"https://cdn.bokeh.org/bokeh/release/bokeh-widgets-3.6.2.min.js\", \"https://cdn.bokeh.org/bokeh/release/bokeh-tables-3.6.2.min.js\", \"https://cdn.holoviz.org/panel/1.5.4/dist/panel.min.js\"];\n  const js_modules = [];\n  const js_exports = {};\n  const css_urls = [];\n  const inline_js = [    function(Bokeh) {\n      Bokeh.set_log_level(\"info\");\n    },\nfunction(Bokeh) {} // ensure no trailing comma for IE\n  ];\n\n  function run_inline_js() {\n    if ((root.Bokeh !== undefined) || (force === true)) {\n      for (let i = 0; i < inline_js.length; i++) {\n        try {\n          inline_js[i].call(root, root.Bokeh);\n        } catch(e) {\n          if (!reloading) {\n            throw e;\n          }\n        }\n      }\n      // Cache old bokeh versions\n      if (Bokeh != undefined && !reloading) {\n        var NewBokeh = root.Bokeh;\n        if (Bokeh.versions === undefined) {\n          Bokeh.versions = new Map();\n        }\n        if (NewBokeh.version !== Bokeh.version) {\n          Bokeh.versions.set(NewBokeh.version, NewBokeh)\n        }\n        root.Bokeh = Bokeh;\n      }\n    } else if (Date.now() < root._bokeh_timeout) {\n      setTimeout(run_inline_js, 100);\n    } else if (!root._bokeh_failed_load) {\n      console.log(\"Bokeh: BokehJS failed to load within specified timeout.\");\n      root._bokeh_failed_load = true;\n    }\n    root._bokeh_is_initializing = false\n  }\n\n  function load_or_wait() {\n    // Implement a backoff loop that tries to ensure we do not load multiple\n    // versions of Bokeh and its dependencies at the same time.\n    // In recent versions we use the root._bokeh_is_initializing flag\n    // to determine whether there is an ongoing attempt to initialize\n    // bokeh, however for backward compatibility we also try to ensure\n    // that we do not start loading a newer (Panel>=1.0 and Bokeh>3) version\n    // before older versions are fully initialized.\n    if (root._bokeh_is_initializing && Date.now() > root._bokeh_timeout) {\n      // If the timeout and bokeh was not successfully loaded we reset\n      // everything and try loading again\n      root._bokeh_timeout = Date.now() + 5000;\n      root._bokeh_is_initializing = false;\n      root._bokeh_onload_callbacks = undefined;\n      root._bokeh_is_loading = 0\n      console.log(\"Bokeh: BokehJS was loaded multiple times but one version failed to initialize.\");\n      load_or_wait();\n    } else if (root._bokeh_is_initializing || (typeof root._bokeh_is_initializing === \"undefined\" && root._bokeh_onload_callbacks !== undefined)) {\n      setTimeout(load_or_wait, 100);\n    } else {\n      root._bokeh_is_initializing = true\n      root._bokeh_onload_callbacks = []\n      const bokeh_loaded = root.Bokeh != null && (root.Bokeh.version === py_version || (root.Bokeh.versions !== undefined && root.Bokeh.versions.has(py_version)));\n      if (!reloading && !bokeh_loaded) {\n        if (root.Bokeh) {\n          root.Bokeh = undefined;\n        }\n        console.debug(\"Bokeh: BokehJS not loaded, scheduling load and callback at\", now());\n      }\n      load_libs(css_urls, js_urls, js_modules, js_exports, function() {\n        console.debug(\"Bokeh: BokehJS plotting callback run at\", now());\n        run_inline_js();\n      });\n    }\n  }\n  // Give older versions of the autoload script a head-start to ensure\n  // they initialize before we start loading newer version.\n  setTimeout(load_or_wait, 100)\n}(window));",
      "application/vnd.holoviews_load.v0+json": ""
     },
     "metadata": {},
     "output_type": "display_data"
    },
    {
     "data": {
      "application/javascript": "\nif ((window.PyViz === undefined) || (window.PyViz instanceof HTMLElement)) {\n  window.PyViz = {comms: {}, comm_status:{}, kernels:{}, receivers: {}, plot_index: []}\n}\n\n\n    function JupyterCommManager() {\n    }\n\n    JupyterCommManager.prototype.register_target = function(plot_id, comm_id, msg_handler) {\n      if (window.comm_manager || ((window.Jupyter !== undefined) && (Jupyter.notebook.kernel != null))) {\n        var comm_manager = window.comm_manager || Jupyter.notebook.kernel.comm_manager;\n        comm_manager.register_target(comm_id, function(comm) {\n          comm.on_msg(msg_handler);\n        });\n      } else if ((plot_id in window.PyViz.kernels) && (window.PyViz.kernels[plot_id])) {\n        window.PyViz.kernels[plot_id].registerCommTarget(comm_id, function(comm) {\n          comm.onMsg = msg_handler;\n        });\n      } else if (typeof google != 'undefined' && google.colab.kernel != null) {\n        google.colab.kernel.comms.registerTarget(comm_id, (comm) => {\n          var messages = comm.messages[Symbol.asyncIterator]();\n          function processIteratorResult(result) {\n            var message = result.value;\n            console.log(message)\n            var content = {data: message.data, comm_id};\n            var buffers = []\n            for (var buffer of message.buffers || []) {\n              buffers.push(new DataView(buffer))\n            }\n            var metadata = message.metadata || {};\n            var msg = {content, buffers, metadata}\n            msg_handler(msg);\n            return messages.next().then(processIteratorResult);\n          }\n          return messages.next().then(processIteratorResult);\n        })\n      }\n    }\n\n    JupyterCommManager.prototype.get_client_comm = function(plot_id, comm_id, msg_handler) {\n      if (comm_id in window.PyViz.comms) {\n        return window.PyViz.comms[comm_id];\n      } else if (window.comm_manager || ((window.Jupyter !== undefined) && (Jupyter.notebook.kernel != null))) {\n        var comm_manager = window.comm_manager || Jupyter.notebook.kernel.comm_manager;\n        var comm = comm_manager.new_comm(comm_id, {}, {}, {}, comm_id);\n        if (msg_handler) {\n          comm.on_msg(msg_handler);\n        }\n      } else if ((plot_id in window.PyViz.kernels) && (window.PyViz.kernels[plot_id])) {\n        var comm = window.PyViz.kernels[plot_id].connectToComm(comm_id);\n        comm.open();\n        if (msg_handler) {\n          comm.onMsg = msg_handler;\n        }\n      } else if (typeof google != 'undefined' && google.colab.kernel != null) {\n        var comm_promise = google.colab.kernel.comms.open(comm_id)\n        comm_promise.then((comm) => {\n          window.PyViz.comms[comm_id] = comm;\n          if (msg_handler) {\n            var messages = comm.messages[Symbol.asyncIterator]();\n            function processIteratorResult(result) {\n              var message = result.value;\n              var content = {data: message.data};\n              var metadata = message.metadata || {comm_id};\n              var msg = {content, metadata}\n              msg_handler(msg);\n              return messages.next().then(processIteratorResult);\n            }\n            return messages.next().then(processIteratorResult);\n          }\n        }) \n        var sendClosure = (data, metadata, buffers, disposeOnDone) => {\n          return comm_promise.then((comm) => {\n            comm.send(data, metadata, buffers, disposeOnDone);\n          });\n        };\n        var comm = {\n          send: sendClosure\n        };\n      }\n      window.PyViz.comms[comm_id] = comm;\n      return comm;\n    }\n    window.PyViz.comm_manager = new JupyterCommManager();\n    \n\n\nvar JS_MIME_TYPE = 'application/javascript';\nvar HTML_MIME_TYPE = 'text/html';\nvar EXEC_MIME_TYPE = 'application/vnd.holoviews_exec.v0+json';\nvar CLASS_NAME = 'output';\n\n/**\n * Render data to the DOM node\n */\nfunction render(props, node) {\n  var div = document.createElement(\"div\");\n  var script = document.createElement(\"script\");\n  node.appendChild(div);\n  node.appendChild(script);\n}\n\n/**\n * Handle when a new output is added\n */\nfunction handle_add_output(event, handle) {\n  var output_area = handle.output_area;\n  var output = handle.output;\n  if ((output.data == undefined) || (!output.data.hasOwnProperty(EXEC_MIME_TYPE))) {\n    return\n  }\n  var id = output.metadata[EXEC_MIME_TYPE][\"id\"];\n  var toinsert = output_area.element.find(\".\" + CLASS_NAME.split(' ')[0]);\n  if (id !== undefined) {\n    var nchildren = toinsert.length;\n    var html_node = toinsert[nchildren-1].children[0];\n    html_node.innerHTML = output.data[HTML_MIME_TYPE];\n    var scripts = [];\n    var nodelist = html_node.querySelectorAll(\"script\");\n    for (var i in nodelist) {\n      if (nodelist.hasOwnProperty(i)) {\n        scripts.push(nodelist[i])\n      }\n    }\n\n    scripts.forEach( function (oldScript) {\n      var newScript = document.createElement(\"script\");\n      var attrs = [];\n      var nodemap = oldScript.attributes;\n      for (var j in nodemap) {\n        if (nodemap.hasOwnProperty(j)) {\n          attrs.push(nodemap[j])\n        }\n      }\n      attrs.forEach(function(attr) { newScript.setAttribute(attr.name, attr.value) });\n      newScript.appendChild(document.createTextNode(oldScript.innerHTML));\n      oldScript.parentNode.replaceChild(newScript, oldScript);\n    });\n    if (JS_MIME_TYPE in output.data) {\n      toinsert[nchildren-1].children[1].textContent = output.data[JS_MIME_TYPE];\n    }\n    output_area._hv_plot_id = id;\n    if ((window.Bokeh !== undefined) && (id in Bokeh.index)) {\n      window.PyViz.plot_index[id] = Bokeh.index[id];\n    } else {\n      window.PyViz.plot_index[id] = null;\n    }\n  } else if (output.metadata[EXEC_MIME_TYPE][\"server_id\"] !== undefined) {\n    var bk_div = document.createElement(\"div\");\n    bk_div.innerHTML = output.data[HTML_MIME_TYPE];\n    var script_attrs = bk_div.children[0].attributes;\n    for (var i = 0; i < script_attrs.length; i++) {\n      toinsert[toinsert.length - 1].childNodes[1].setAttribute(script_attrs[i].name, script_attrs[i].value);\n    }\n    // store reference to server id on output_area\n    output_area._bokeh_server_id = output.metadata[EXEC_MIME_TYPE][\"server_id\"];\n  }\n}\n\n/**\n * Handle when an output is cleared or removed\n */\nfunction handle_clear_output(event, handle) {\n  var id = handle.cell.output_area._hv_plot_id;\n  var server_id = handle.cell.output_area._bokeh_server_id;\n  if (((id === undefined) || !(id in PyViz.plot_index)) && (server_id !== undefined)) { return; }\n  var comm = window.PyViz.comm_manager.get_client_comm(\"hv-extension-comm\", \"hv-extension-comm\", function () {});\n  if (server_id !== null) {\n    comm.send({event_type: 'server_delete', 'id': server_id});\n    return;\n  } else if (comm !== null) {\n    comm.send({event_type: 'delete', 'id': id});\n  }\n  delete PyViz.plot_index[id];\n  if ((window.Bokeh !== undefined) & (id in window.Bokeh.index)) {\n    var doc = window.Bokeh.index[id].model.document\n    doc.clear();\n    const i = window.Bokeh.documents.indexOf(doc);\n    if (i > -1) {\n      window.Bokeh.documents.splice(i, 1);\n    }\n  }\n}\n\n/**\n * Handle kernel restart event\n */\nfunction handle_kernel_cleanup(event, handle) {\n  delete PyViz.comms[\"hv-extension-comm\"];\n  window.PyViz.plot_index = {}\n}\n\n/**\n * Handle update_display_data messages\n */\nfunction handle_update_output(event, handle) {\n  handle_clear_output(event, {cell: {output_area: handle.output_area}})\n  handle_add_output(event, handle)\n}\n\nfunction register_renderer(events, OutputArea) {\n  function append_mime(data, metadata, element) {\n    // create a DOM node to render to\n    var toinsert = this.create_output_subarea(\n    metadata,\n    CLASS_NAME,\n    EXEC_MIME_TYPE\n    );\n    this.keyboard_manager.register_events(toinsert);\n    // Render to node\n    var props = {data: data, metadata: metadata[EXEC_MIME_TYPE]};\n    render(props, toinsert[0]);\n    element.append(toinsert);\n    return toinsert\n  }\n\n  events.on('output_added.OutputArea', handle_add_output);\n  events.on('output_updated.OutputArea', handle_update_output);\n  events.on('clear_output.CodeCell', handle_clear_output);\n  events.on('delete.Cell', handle_clear_output);\n  events.on('kernel_ready.Kernel', handle_kernel_cleanup);\n\n  OutputArea.prototype.register_mime_type(EXEC_MIME_TYPE, append_mime, {\n    safe: true,\n    index: 0\n  });\n}\n\nif (window.Jupyter !== undefined) {\n  try {\n    var events = require('base/js/events');\n    var OutputArea = require('notebook/js/outputarea').OutputArea;\n    if (OutputArea.prototype.mime_types().indexOf(EXEC_MIME_TYPE) == -1) {\n      register_renderer(events, OutputArea);\n    }\n  } catch(err) {\n  }\n}\n",
      "application/vnd.holoviews_load.v0+json": ""
     },
     "metadata": {},
     "output_type": "display_data"
    },
    {
     "data": {},
     "metadata": {},
     "output_type": "display_data"
    },
    {
     "data": {
      "application/vnd.holoviews_exec.v0+json": "",
      "text/html": [
       "<div id='62cfe00a-25f3-4b34-9d47-432a9fd18ce9'>\n",
       "  <div id=\"af4144f1-90ee-4c12-b349-fb1b098b28df\" data-root-id=\"62cfe00a-25f3-4b34-9d47-432a9fd18ce9\" style=\"display: contents;\"></div>\n",
       "</div>\n",
       "<script type=\"application/javascript\">(function(root) {\n",
       "  var docs_json = {\"3e2cc8ce-d909-4d6b-82be-738aa0371b10\":{\"version\":\"3.6.2\",\"title\":\"Bokeh Application\",\"roots\":[{\"type\":\"object\",\"name\":\"Row\",\"id\":\"62cfe00a-25f3-4b34-9d47-432a9fd18ce9\",\"attributes\":{\"name\":\"Row00350\",\"tags\":[\"embedded\"],\"stylesheets\":[\"\\n:host(.pn-loading):before, .pn-loading:before {\\n  background-color: #c3c3c3;\\n  mask-size: auto calc(min(50%, 400px));\\n  -webkit-mask-size: auto calc(min(50%, 400px));\\n}\",{\"type\":\"object\",\"name\":\"ImportedStyleSheet\",\"id\":\"9239fdcf-c7c9-462d-945b-a9eaf25f4961\",\"attributes\":{\"url\":\"https://cdn.holoviz.org/panel/1.5.4/dist/css/loading.css\"}},{\"type\":\"object\",\"name\":\"ImportedStyleSheet\",\"id\":\"e7e15a67-fb62-4621-b517-656eee8b1afa\",\"attributes\":{\"url\":\"https://cdn.holoviz.org/panel/1.5.4/dist/css/listpanel.css\"}},{\"type\":\"object\",\"name\":\"ImportedStyleSheet\",\"id\":\"141af72d-4362-4bda-95c4-2d62d18da93e\",\"attributes\":{\"url\":\"https://cdn.holoviz.org/panel/1.5.4/dist/bundled/theme/default.css\"}},{\"type\":\"object\",\"name\":\"ImportedStyleSheet\",\"id\":\"13ccd01e-f525-432a-9308-144b224a81ef\",\"attributes\":{\"url\":\"https://cdn.holoviz.org/panel/1.5.4/dist/bundled/theme/native.css\"}}],\"min_width\":700,\"margin\":0,\"sizing_mode\":\"stretch_width\",\"align\":\"start\",\"children\":[{\"type\":\"object\",\"name\":\"Spacer\",\"id\":\"6e57d471-1e62-43a9-ada3-5c4b77833da9\",\"attributes\":{\"name\":\"HSpacer00354\",\"stylesheets\":[\"\\n:host(.pn-loading):before, .pn-loading:before {\\n  background-color: #c3c3c3;\\n  mask-size: auto calc(min(50%, 400px));\\n  -webkit-mask-size: auto calc(min(50%, 400px));\\n}\",{\"id\":\"9239fdcf-c7c9-462d-945b-a9eaf25f4961\"},{\"id\":\"141af72d-4362-4bda-95c4-2d62d18da93e\"},{\"id\":\"13ccd01e-f525-432a-9308-144b224a81ef\"}],\"margin\":0,\"sizing_mode\":\"stretch_width\",\"align\":\"start\"}},{\"type\":\"object\",\"name\":\"Figure\",\"id\":\"b0515021-e465-4727-a7fd-767665cfe5fe\",\"attributes\":{\"width\":700,\"height\":300,\"margin\":[5,10],\"sizing_mode\":\"fixed\",\"align\":\"start\",\"x_range\":{\"type\":\"object\",\"name\":\"Range1d\",\"id\":\"57441209-8410-4446-90a0-ec2c07d5f92a\",\"attributes\":{\"name\":\"mort_acc\",\"tags\":[[[\"mort_acc\",null]],[]],\"start\":-0.128948996939454,\"end\":0.4274373996323957,\"reset_start\":-0.128948996939454,\"reset_end\":0.4274373996323957}},\"y_range\":{\"type\":\"object\",\"name\":\"FactorRange\",\"id\":\"9784c581-8448-431c-b93a-00e41573cc94\",\"attributes\":{\"name\":\"index\",\"tags\":[[[\"index\",null]],{\"type\":\"map\",\"entries\":[[\"invert_yaxis\",false],[\"autorange\",false]]}],\"factors\":[\"int_rate\",\"dti\",\"revol_util\",\"pub_rec\",\"pub_rec_bankruptcies\",\"open_acc\",\"installment\",\"revol_bal\",\"loan_amnt\",\"annual_inc\",\"total_acc\"]}},\"x_scale\":{\"type\":\"object\",\"name\":\"LinearScale\",\"id\":\"698a31a7-256e-4602-bfd8-d90cf6cb0884\"},\"y_scale\":{\"type\":\"object\",\"name\":\"CategoricalScale\",\"id\":\"bb02a94a-1a01-4ef8-a6ca-cee20ad50789\"},\"title\":{\"type\":\"object\",\"name\":\"Title\",\"id\":\"7e532048-6dfa-4322-b7dd-70e4c43844b9\",\"attributes\":{\"text\":\"mort_acc\",\"text_color\":\"black\",\"text_font_size\":\"12pt\"}},\"renderers\":[{\"type\":\"object\",\"name\":\"GlyphRenderer\",\"id\":\"74361852-49de-4fc4-bf1d-cfa99ad7762c\",\"attributes\":{\"data_source\":{\"type\":\"object\",\"name\":\"ColumnDataSource\",\"id\":\"3f160de0-4d67-4db4-b442-5eb855368d9c\",\"attributes\":{\"selected\":{\"type\":\"object\",\"name\":\"Selection\",\"id\":\"c5ae80c3-647b-453f-9a9f-9c627d24ef34\",\"attributes\":{\"indices\":[],\"line_indices\":[]}},\"selection_policy\":{\"type\":\"object\",\"name\":\"UnionRenderers\",\"id\":\"3ae8f0ad-59b6-45e7-a21f-9452fbf2cad1\"},\"data\":{\"type\":\"map\",\"entries\":[[\"index\",[\"int_rate\",\"dti\",\"revol_util\",\"pub_rec\",\"pub_rec_bankruptcies\",\"open_acc\",\"installment\",\"revol_bal\",\"loan_amnt\",\"annual_inc\",\"total_acc\"]],[\"mort_acc\",{\"type\":\"ndarray\",\"array\":{\"type\":\"bytes\",\"data\":\"qQ2bnDAktb/bLnk3mwyavzi6cPUlx34/g7D3PtWohz+bZ3obaeSbP4z5voXd9Ls/cepkbvXKyD+YRmylTvPIPzARm47QdMw/sCUKNr8/zj+WDhpBe2PYPw==\"},\"shape\":[11],\"dtype\":\"float64\",\"order\":\"little\"}]]}}},\"view\":{\"type\":\"object\",\"name\":\"CDSView\",\"id\":\"2d059d6c-7ab1-47a2-b4bb-9cfa7b135810\",\"attributes\":{\"filter\":{\"type\":\"object\",\"name\":\"AllIndices\",\"id\":\"094efc48-8f5d-4030-93f2-6385d4525eb3\"}}},\"glyph\":{\"type\":\"object\",\"name\":\"HBar\",\"id\":\"772833e9-11db-4df7-be2f-1235bf562c03\",\"attributes\":{\"tags\":[\"apply_ranges\"],\"y\":{\"type\":\"field\",\"field\":\"index\"},\"height\":{\"type\":\"value\",\"value\":0.8},\"right\":{\"type\":\"field\",\"field\":\"mort_acc\"},\"fill_color\":{\"type\":\"value\",\"value\":\"#30a2da\"},\"hatch_color\":{\"type\":\"value\",\"value\":\"#30a2da\"}}},\"selection_glyph\":{\"type\":\"object\",\"name\":\"HBar\",\"id\":\"5f26a823-4000-418a-b795-448e83525418\",\"attributes\":{\"tags\":[\"apply_ranges\"],\"y\":{\"type\":\"field\",\"field\":\"index\"},\"height\":{\"type\":\"value\",\"value\":0.8},\"left\":{\"type\":\"value\",\"value\":0},\"right\":{\"type\":\"field\",\"field\":\"mort_acc\"},\"line_color\":{\"type\":\"value\",\"value\":\"black\"},\"line_alpha\":{\"type\":\"value\",\"value\":1.0},\"line_width\":{\"type\":\"value\",\"value\":1},\"line_join\":{\"type\":\"value\",\"value\":\"bevel\"},\"line_cap\":{\"type\":\"value\",\"value\":\"butt\"},\"line_dash\":{\"type\":\"value\",\"value\":[]},\"line_dash_offset\":{\"type\":\"value\",\"value\":0},\"fill_color\":{\"type\":\"value\",\"value\":\"#30a2da\"},\"fill_alpha\":{\"type\":\"value\",\"value\":1.0},\"hatch_color\":{\"type\":\"value\",\"value\":\"#30a2da\"},\"hatch_alpha\":{\"type\":\"value\",\"value\":1.0},\"hatch_scale\":{\"type\":\"value\",\"value\":12.0},\"hatch_pattern\":{\"type\":\"value\",\"value\":null},\"hatch_weight\":{\"type\":\"value\",\"value\":1.0}}},\"nonselection_glyph\":{\"type\":\"object\",\"name\":\"HBar\",\"id\":\"886ba375-183e-41e4-9a32-7227448a8554\",\"attributes\":{\"tags\":[\"apply_ranges\"],\"y\":{\"type\":\"field\",\"field\":\"index\"},\"height\":{\"type\":\"value\",\"value\":0.8},\"right\":{\"type\":\"field\",\"field\":\"mort_acc\"},\"line_alpha\":{\"type\":\"value\",\"value\":0.1},\"fill_color\":{\"type\":\"value\",\"value\":\"#30a2da\"},\"fill_alpha\":{\"type\":\"value\",\"value\":0.1},\"hatch_color\":{\"type\":\"value\",\"value\":\"#30a2da\"},\"hatch_alpha\":{\"type\":\"value\",\"value\":0.1}}},\"muted_glyph\":{\"type\":\"object\",\"name\":\"HBar\",\"id\":\"708e4450-b738-4141-b80d-ffe26a9b165a\",\"attributes\":{\"tags\":[\"apply_ranges\"],\"y\":{\"type\":\"field\",\"field\":\"index\"},\"height\":{\"type\":\"value\",\"value\":0.8},\"right\":{\"type\":\"field\",\"field\":\"mort_acc\"},\"line_alpha\":{\"type\":\"value\",\"value\":0.2},\"fill_color\":{\"type\":\"value\",\"value\":\"#30a2da\"},\"fill_alpha\":{\"type\":\"value\",\"value\":0.2},\"hatch_color\":{\"type\":\"value\",\"value\":\"#30a2da\"},\"hatch_alpha\":{\"type\":\"value\",\"value\":0.2}}}}}],\"toolbar\":{\"type\":\"object\",\"name\":\"Toolbar\",\"id\":\"03a3e41b-099e-4609-ac9f-74b4971af976\",\"attributes\":{\"tools\":[{\"type\":\"object\",\"name\":\"WheelZoomTool\",\"id\":\"7fb0ec86-484d-4296-a0fa-78e8db3aeb6a\",\"attributes\":{\"tags\":[\"hv_created\"],\"renderers\":\"auto\",\"zoom_together\":\"none\"}},{\"type\":\"object\",\"name\":\"HoverTool\",\"id\":\"1a4ade85-e003-439a-9150-07d6e5c2a7e0\",\"attributes\":{\"tags\":[\"hv_created\"],\"renderers\":[{\"id\":\"74361852-49de-4fc4-bf1d-cfa99ad7762c\"}],\"tooltips\":[[\"index\",\"@{index}\"],[\"mort_acc\",\"@{mort_acc}\"]]}},{\"type\":\"object\",\"name\":\"SaveTool\",\"id\":\"57a8e48d-33c5-49f7-80ff-71dea22c382f\"},{\"type\":\"object\",\"name\":\"PanTool\",\"id\":\"a4ba4507-87ff-40d9-960b-867ef798b6d1\"},{\"type\":\"object\",\"name\":\"BoxZoomTool\",\"id\":\"b8a36cdb-4d48-449a-ac92-0a9edd8d7ffd\",\"attributes\":{\"overlay\":{\"type\":\"object\",\"name\":\"BoxAnnotation\",\"id\":\"d1f765dc-4cd1-4689-8afa-c9b24576f652\",\"attributes\":{\"syncable\":false,\"line_color\":\"black\",\"line_alpha\":1.0,\"line_width\":2,\"line_dash\":[4,4],\"fill_color\":\"lightgrey\",\"fill_alpha\":0.5,\"level\":\"overlay\",\"visible\":false,\"left\":{\"type\":\"number\",\"value\":\"nan\"},\"right\":{\"type\":\"number\",\"value\":\"nan\"},\"top\":{\"type\":\"number\",\"value\":\"nan\"},\"bottom\":{\"type\":\"number\",\"value\":\"nan\"},\"left_units\":\"canvas\",\"right_units\":\"canvas\",\"top_units\":\"canvas\",\"bottom_units\":\"canvas\",\"handles\":{\"type\":\"object\",\"name\":\"BoxInteractionHandles\",\"id\":\"ec159f5b-bae9-4eef-9636-e88b6ae3d797\",\"attributes\":{\"all\":{\"type\":\"object\",\"name\":\"AreaVisuals\",\"id\":\"dc305191-ac60-43a2-9600-fc821349c4b0\",\"attributes\":{\"fill_color\":\"white\",\"hover_fill_color\":\"lightgray\"}}}}}}}},{\"type\":\"object\",\"name\":\"ResetTool\",\"id\":\"1fb9d721-6635-41bf-a271-bcdfeb6e1b4c\"}],\"active_drag\":{\"id\":\"a4ba4507-87ff-40d9-960b-867ef798b6d1\"},\"active_scroll\":{\"id\":\"7fb0ec86-484d-4296-a0fa-78e8db3aeb6a\"}}},\"left\":[{\"type\":\"object\",\"name\":\"CategoricalAxis\",\"id\":\"9d372a2c-b823-489e-94a8-5f40035d3415\",\"attributes\":{\"ticker\":{\"type\":\"object\",\"name\":\"CategoricalTicker\",\"id\":\"fd599d1e-99f4-4f6e-a6b2-f0a9beef8023\"},\"formatter\":{\"type\":\"object\",\"name\":\"CategoricalTickFormatter\",\"id\":\"80927ff9-9410-4334-958b-3b315d3bb034\"},\"axis_label\":\"\",\"major_label_policy\":{\"type\":\"object\",\"name\":\"AllLabels\",\"id\":\"7f65c0bd-ecd9-4fd8-bd03-1a72f7a40f18\"}}}],\"below\":[{\"type\":\"object\",\"name\":\"LinearAxis\",\"id\":\"0f3f25fb-b9f0-43b7-bf26-e73eff46cf2e\",\"attributes\":{\"ticker\":{\"type\":\"object\",\"name\":\"BasicTicker\",\"id\":\"857266d0-586b-4b14-9066-8b29829df543\",\"attributes\":{\"mantissas\":[1,2,5]}},\"formatter\":{\"type\":\"object\",\"name\":\"BasicTickFormatter\",\"id\":\"ed2d725b-586c-4e27-ab7e-5640a405e1a9\"},\"axis_label\":\"\",\"major_label_policy\":{\"type\":\"object\",\"name\":\"AllLabels\",\"id\":\"9b295af8-957f-412a-a74e-08f9a4662fea\"}}}],\"center\":[{\"type\":\"object\",\"name\":\"Grid\",\"id\":\"93edad4a-3bf9-4e67-b32d-ed7ffaac548e\",\"attributes\":{\"axis\":{\"id\":\"0f3f25fb-b9f0-43b7-bf26-e73eff46cf2e\"},\"grid_line_color\":null}},{\"type\":\"object\",\"name\":\"Grid\",\"id\":\"bf49beec-6d89-43a7-9b4a-97b90eaa6cf9\",\"attributes\":{\"dimension\":1,\"axis\":{\"id\":\"9d372a2c-b823-489e-94a8-5f40035d3415\"},\"grid_line_color\":null}}],\"min_border_top\":10,\"min_border_bottom\":10,\"min_border_left\":10,\"min_border_right\":10,\"output_backend\":\"webgl\"}},{\"type\":\"object\",\"name\":\"Spacer\",\"id\":\"3e1abb1a-69e4-4ed1-8589-15f61ad1a85e\",\"attributes\":{\"name\":\"HSpacer00355\",\"stylesheets\":[\"\\n:host(.pn-loading):before, .pn-loading:before {\\n  background-color: #c3c3c3;\\n  mask-size: auto calc(min(50%, 400px));\\n  -webkit-mask-size: auto calc(min(50%, 400px));\\n}\",{\"id\":\"9239fdcf-c7c9-462d-945b-a9eaf25f4961\"},{\"id\":\"141af72d-4362-4bda-95c4-2d62d18da93e\"},{\"id\":\"13ccd01e-f525-432a-9308-144b224a81ef\"}],\"margin\":0,\"sizing_mode\":\"stretch_width\",\"align\":\"start\"}}]}}],\"defs\":[{\"type\":\"model\",\"name\":\"ReactiveHTML1\"},{\"type\":\"model\",\"name\":\"FlexBox1\",\"properties\":[{\"name\":\"align_content\",\"kind\":\"Any\",\"default\":\"flex-start\"},{\"name\":\"align_items\",\"kind\":\"Any\",\"default\":\"flex-start\"},{\"name\":\"flex_direction\",\"kind\":\"Any\",\"default\":\"row\"},{\"name\":\"flex_wrap\",\"kind\":\"Any\",\"default\":\"wrap\"},{\"name\":\"gap\",\"kind\":\"Any\",\"default\":\"\"},{\"name\":\"justify_content\",\"kind\":\"Any\",\"default\":\"flex-start\"}]},{\"type\":\"model\",\"name\":\"FloatPanel1\",\"properties\":[{\"name\":\"config\",\"kind\":\"Any\",\"default\":{\"type\":\"map\"}},{\"name\":\"contained\",\"kind\":\"Any\",\"default\":true},{\"name\":\"position\",\"kind\":\"Any\",\"default\":\"right-top\"},{\"name\":\"offsetx\",\"kind\":\"Any\",\"default\":null},{\"name\":\"offsety\",\"kind\":\"Any\",\"default\":null},{\"name\":\"theme\",\"kind\":\"Any\",\"default\":\"primary\"},{\"name\":\"status\",\"kind\":\"Any\",\"default\":\"normalized\"}]},{\"type\":\"model\",\"name\":\"GridStack1\",\"properties\":[{\"name\":\"mode\",\"kind\":\"Any\",\"default\":\"warn\"},{\"name\":\"ncols\",\"kind\":\"Any\",\"default\":null},{\"name\":\"nrows\",\"kind\":\"Any\",\"default\":null},{\"name\":\"allow_resize\",\"kind\":\"Any\",\"default\":true},{\"name\":\"allow_drag\",\"kind\":\"Any\",\"default\":true},{\"name\":\"state\",\"kind\":\"Any\",\"default\":[]}]},{\"type\":\"model\",\"name\":\"drag1\",\"properties\":[{\"name\":\"slider_width\",\"kind\":\"Any\",\"default\":5},{\"name\":\"slider_color\",\"kind\":\"Any\",\"default\":\"black\"},{\"name\":\"value\",\"kind\":\"Any\",\"default\":50}]},{\"type\":\"model\",\"name\":\"click1\",\"properties\":[{\"name\":\"terminal_output\",\"kind\":\"Any\",\"default\":\"\"},{\"name\":\"debug_name\",\"kind\":\"Any\",\"default\":\"\"},{\"name\":\"clears\",\"kind\":\"Any\",\"default\":0}]},{\"type\":\"model\",\"name\":\"FastWrapper1\",\"properties\":[{\"name\":\"object\",\"kind\":\"Any\",\"default\":null},{\"name\":\"style\",\"kind\":\"Any\",\"default\":null}]},{\"type\":\"model\",\"name\":\"NotificationAreaBase1\",\"properties\":[{\"name\":\"js_events\",\"kind\":\"Any\",\"default\":{\"type\":\"map\"}},{\"name\":\"position\",\"kind\":\"Any\",\"default\":\"bottom-right\"},{\"name\":\"_clear\",\"kind\":\"Any\",\"default\":0}]},{\"type\":\"model\",\"name\":\"NotificationArea1\",\"properties\":[{\"name\":\"js_events\",\"kind\":\"Any\",\"default\":{\"type\":\"map\"}},{\"name\":\"notifications\",\"kind\":\"Any\",\"default\":[]},{\"name\":\"position\",\"kind\":\"Any\",\"default\":\"bottom-right\"},{\"name\":\"_clear\",\"kind\":\"Any\",\"default\":0},{\"name\":\"types\",\"kind\":\"Any\",\"default\":[{\"type\":\"map\",\"entries\":[[\"type\",\"warning\"],[\"background\",\"#ffc107\"],[\"icon\",{\"type\":\"map\",\"entries\":[[\"className\",\"fas fa-exclamation-triangle\"],[\"tagName\",\"i\"],[\"color\",\"white\"]]}]]},{\"type\":\"map\",\"entries\":[[\"type\",\"info\"],[\"background\",\"#007bff\"],[\"icon\",{\"type\":\"map\",\"entries\":[[\"className\",\"fas fa-info-circle\"],[\"tagName\",\"i\"],[\"color\",\"white\"]]}]]}]}]},{\"type\":\"model\",\"name\":\"Notification\",\"properties\":[{\"name\":\"background\",\"kind\":\"Any\",\"default\":null},{\"name\":\"duration\",\"kind\":\"Any\",\"default\":3000},{\"name\":\"icon\",\"kind\":\"Any\",\"default\":null},{\"name\":\"message\",\"kind\":\"Any\",\"default\":\"\"},{\"name\":\"notification_type\",\"kind\":\"Any\",\"default\":null},{\"name\":\"_destroyed\",\"kind\":\"Any\",\"default\":false}]},{\"type\":\"model\",\"name\":\"TemplateActions1\",\"properties\":[{\"name\":\"open_modal\",\"kind\":\"Any\",\"default\":0},{\"name\":\"close_modal\",\"kind\":\"Any\",\"default\":0}]},{\"type\":\"model\",\"name\":\"BootstrapTemplateActions1\",\"properties\":[{\"name\":\"open_modal\",\"kind\":\"Any\",\"default\":0},{\"name\":\"close_modal\",\"kind\":\"Any\",\"default\":0}]},{\"type\":\"model\",\"name\":\"TemplateEditor1\",\"properties\":[{\"name\":\"layout\",\"kind\":\"Any\",\"default\":[]}]},{\"type\":\"model\",\"name\":\"MaterialTemplateActions1\",\"properties\":[{\"name\":\"open_modal\",\"kind\":\"Any\",\"default\":0},{\"name\":\"close_modal\",\"kind\":\"Any\",\"default\":0}]},{\"type\":\"model\",\"name\":\"ReactiveESM1\",\"properties\":[{\"name\":\"esm_constants\",\"kind\":\"Any\",\"default\":{\"type\":\"map\"}}]},{\"type\":\"model\",\"name\":\"JSComponent1\",\"properties\":[{\"name\":\"esm_constants\",\"kind\":\"Any\",\"default\":{\"type\":\"map\"}}]},{\"type\":\"model\",\"name\":\"ReactComponent1\",\"properties\":[{\"name\":\"esm_constants\",\"kind\":\"Any\",\"default\":{\"type\":\"map\"}}]},{\"type\":\"model\",\"name\":\"AnyWidgetComponent1\",\"properties\":[{\"name\":\"esm_constants\",\"kind\":\"Any\",\"default\":{\"type\":\"map\"}}]},{\"type\":\"model\",\"name\":\"request_value1\",\"properties\":[{\"name\":\"fill\",\"kind\":\"Any\",\"default\":\"none\"},{\"name\":\"_synced\",\"kind\":\"Any\",\"default\":null},{\"name\":\"_request_sync\",\"kind\":\"Any\",\"default\":0}]}]}};\n",
       "  var render_items = [{\"docid\":\"3e2cc8ce-d909-4d6b-82be-738aa0371b10\",\"roots\":{\"62cfe00a-25f3-4b34-9d47-432a9fd18ce9\":\"af4144f1-90ee-4c12-b349-fb1b098b28df\"},\"root_ids\":[\"62cfe00a-25f3-4b34-9d47-432a9fd18ce9\"]}];\n",
       "  var docs = Object.values(docs_json)\n",
       "  if (!docs) {\n",
       "    return\n",
       "  }\n",
       "  const py_version = docs[0].version.replace('rc', '-rc.').replace('.dev', '-dev.')\n",
       "  async function embed_document(root) {\n",
       "    var Bokeh = get_bokeh(root)\n",
       "    await Bokeh.embed.embed_items_notebook(docs_json, render_items);\n",
       "    for (const render_item of render_items) {\n",
       "      for (const root_id of render_item.root_ids) {\n",
       "\tconst id_el = document.getElementById(root_id)\n",
       "\tif (id_el.children.length && id_el.children[0].hasAttribute('data-root-id')) {\n",
       "\t  const root_el = id_el.children[0]\n",
       "\t  root_el.id = root_el.id + '-rendered'\n",
       "\t  for (const child of root_el.children) {\n",
       "            // Ensure JupyterLab does not capture keyboard shortcuts\n",
       "            // see: https://jupyterlab.readthedocs.io/en/4.1.x/extension/notebook.html#keyboard-interaction-model\n",
       "\t    child.setAttribute('data-lm-suppress-shortcuts', 'true')\n",
       "\t  }\n",
       "\t}\n",
       "      }\n",
       "    }\n",
       "  }\n",
       "  function get_bokeh(root) {\n",
       "    if (root.Bokeh === undefined) {\n",
       "      return null\n",
       "    } else if (root.Bokeh.version !== py_version) {\n",
       "      if (root.Bokeh.versions === undefined || !root.Bokeh.versions.has(py_version)) {\n",
       "\treturn null\n",
       "      }\n",
       "      return root.Bokeh.versions.get(py_version);\n",
       "    } else if (root.Bokeh.version === py_version) {\n",
       "      return root.Bokeh\n",
       "    }\n",
       "    return null\n",
       "  }\n",
       "  function is_loaded(root) {\n",
       "    var Bokeh = get_bokeh(root)\n",
       "    return (Bokeh != null && Bokeh.Panel !== undefined)\n",
       "  }\n",
       "  if (is_loaded(root)) {\n",
       "    embed_document(root);\n",
       "  } else {\n",
       "    var attempts = 0;\n",
       "    var timer = setInterval(function(root) {\n",
       "      if (is_loaded(root)) {\n",
       "        clearInterval(timer);\n",
       "        embed_document(root);\n",
       "      } else if (document.readyState == \"complete\") {\n",
       "        attempts++;\n",
       "        if (attempts > 200) {\n",
       "          clearInterval(timer);\n",
       "\t  var Bokeh = get_bokeh(root)\n",
       "\t  if (Bokeh == null || Bokeh.Panel == null) {\n",
       "            console.warn(\"Panel: ERROR: Unable to run Panel code because Bokeh or Panel library is missing\");\n",
       "\t  } else {\n",
       "\t    console.warn(\"Panel: WARNING: Attempting to render but not all required libraries could be resolved.\")\n",
       "\t    embed_document(root)\n",
       "\t  }\n",
       "        }\n",
       "      }\n",
       "    }, 25, root)\n",
       "  }\n",
       "})(window);</script>"
      ],
      "text/plain": [
       ":Bars   [index]   (mort_acc)"
      ]
     },
     "execution_count": 104,
     "metadata": {
      "application/vnd.holoviews_exec.v0+json": {
       "id": "62cfe00a-25f3-4b34-9d47-432a9fd18ce9"
      }
     },
     "output_type": "execute_result"
    }
   ],
   "source": [
    "data.corr(numeric_only=True)['mort_acc'].drop('mort_acc').sort_values().hvplot.barh()"
   ]
  },
  {
   "cell_type": "markdown",
   "id": "be604f1e",
   "metadata": {
    "id": "be604f1e",
    "papermill": {
     "duration": 0.157466,
     "end_time": "2023-01-31T14:12:45.923922",
     "exception": false,
     "start_time": "2023-01-31T14:12:45.766456",
     "status": "completed"
    },
    "tags": []
   },
   "source": [
    "\n",
    "Looks like the total_acc feature correlates with the mort_acc , this makes sense! Let's try this fillna() approach. We will group the dataframe by the total_acc and calculate the mean value for the mort_acc per total_acc entry. To get the result below:"
   ]
  },
  {
   "cell_type": "code",
   "execution_count": 105,
   "id": "655aa19d",
   "metadata": {
    "colab": {
     "base_uri": "https://localhost:8080/",
     "height": 147
    },
    "execution": {
     "iopub.execute_input": "2023-01-31T14:12:46.237863Z",
     "iopub.status.busy": "2023-01-31T14:12:46.237469Z",
     "iopub.status.idle": "2023-01-31T14:12:46.332340Z",
     "shell.execute_reply": "2023-01-31T14:12:46.331345Z"
    },
    "executionInfo": {
     "elapsed": 798,
     "status": "ok",
     "timestamp": 1735823377276,
     "user": {
      "displayName": "NK",
      "userId": "17274431766567944403"
     },
     "user_tz": -330
    },
    "id": "655aa19d",
    "outputId": "39633969-e15a-4048-a504-74df37e2740b",
    "papermill": {
     "duration": 0.253754,
     "end_time": "2023-01-31T14:12:46.335011",
     "exception": false,
     "start_time": "2023-01-31T14:12:46.081257",
     "status": "completed"
    },
    "tags": []
   },
   "outputs": [
    {
     "data": {
      "text/html": [
       "<div>\n",
       "<style scoped>\n",
       "    .dataframe tbody tr th:only-of-type {\n",
       "        vertical-align: middle;\n",
       "    }\n",
       "\n",
       "    .dataframe tbody tr th {\n",
       "        vertical-align: top;\n",
       "    }\n",
       "\n",
       "    .dataframe thead th {\n",
       "        text-align: right;\n",
       "    }\n",
       "</style>\n",
       "<table border=\"1\" class=\"dataframe\">\n",
       "  <thead>\n",
       "    <tr style=\"text-align: right;\">\n",
       "      <th></th>\n",
       "      <th>0</th>\n",
       "    </tr>\n",
       "  </thead>\n",
       "  <tbody>\n",
       "    <tr>\n",
       "      <th>total_acc</th>\n",
       "      <td>float64</td>\n",
       "    </tr>\n",
       "    <tr>\n",
       "      <th>mort_acc</th>\n",
       "      <td>float64</td>\n",
       "    </tr>\n",
       "  </tbody>\n",
       "</table>\n",
       "</div><br><label><b>dtype:</b> object</label>"
      ],
      "text/plain": [
       "total_acc    float64\n",
       "mort_acc     float64\n",
       "dtype: object"
      ]
     },
     "execution_count": 105,
     "metadata": {},
     "output_type": "execute_result"
    }
   ],
   "source": [
    "data[['total_acc', 'mort_acc']].dtypes"
   ]
  },
  {
   "cell_type": "code",
   "execution_count": 106,
   "id": "BOuxfKEc-b0y",
   "metadata": {
    "executionInfo": {
     "elapsed": 690,
     "status": "ok",
     "timestamp": 1735823382551,
     "user": {
      "displayName": "NK",
      "userId": "17274431766567944403"
     },
     "user_tz": -330
    },
    "id": "BOuxfKEc-b0y"
   },
   "outputs": [],
   "source": [
    "data['total_acc'] = pd.to_numeric(data['total_acc'], errors='coerce')\n",
    "data['mort_acc'] = pd.to_numeric(data['mort_acc'], errors='coerce')"
   ]
  },
  {
   "cell_type": "code",
   "execution_count": 107,
   "id": "rgvAFE8R-gDo",
   "metadata": {
    "executionInfo": {
     "elapsed": 3,
     "status": "ok",
     "timestamp": 1735823384025,
     "user": {
      "displayName": "NK",
      "userId": "17274431766567944403"
     },
     "user_tz": -330
    },
    "id": "rgvAFE8R-gDo"
   },
   "outputs": [],
   "source": [
    "data['total_acc'] = data['total_acc'].fillna(data['total_acc'].mean())\n",
    "data['mort_acc'] = data['mort_acc'].fillna(data['mort_acc'].mean())"
   ]
  },
  {
   "cell_type": "code",
   "execution_count": 108,
   "id": "cLU8fZ8__AzK",
   "metadata": {
    "executionInfo": {
     "elapsed": 830,
     "status": "ok",
     "timestamp": 1735823385594,
     "user": {
      "displayName": "NK",
      "userId": "17274431766567944403"
     },
     "user_tz": -330
    },
    "id": "cLU8fZ8__AzK"
   },
   "outputs": [],
   "source": [
    "total_acc_avg = data.groupby('total_acc')['mort_acc'].mean()"
   ]
  },
  {
   "cell_type": "code",
   "execution_count": 109,
   "id": "b117359c",
   "metadata": {
    "execution": {
     "iopub.execute_input": "2023-01-31T14:12:46.654049Z",
     "iopub.status.busy": "2023-01-31T14:12:46.651882Z",
     "iopub.status.idle": "2023-01-31T14:12:46.658992Z",
     "shell.execute_reply": "2023-01-31T14:12:46.657913Z"
    },
    "executionInfo": {
     "elapsed": 3,
     "status": "ok",
     "timestamp": 1735823386822,
     "user": {
      "displayName": "NK",
      "userId": "17274431766567944403"
     },
     "user_tz": -330
    },
    "id": "b117359c",
    "papermill": {
     "duration": 0.16887,
     "end_time": "2023-01-31T14:12:46.660980",
     "exception": false,
     "start_time": "2023-01-31T14:12:46.492110",
     "status": "completed"
    },
    "tags": []
   },
   "outputs": [],
   "source": [
    "def fill_mort_acc(total_acc, mort_acc):\n",
    "    if np.isnan(mort_acc):\n",
    "        return total_acc_avg[total_acc].round()\n",
    "    else:\n",
    "        return mort_acc"
   ]
  },
  {
   "cell_type": "code",
   "execution_count": 110,
   "id": "75bb4c76",
   "metadata": {
    "execution": {
     "iopub.execute_input": "2023-01-31T14:12:46.991455Z",
     "iopub.status.busy": "2023-01-31T14:12:46.990863Z",
     "iopub.status.idle": "2023-01-31T14:12:57.341490Z",
     "shell.execute_reply": "2023-01-31T14:12:57.340452Z"
    },
    "executionInfo": {
     "elapsed": 5077,
     "status": "ok",
     "timestamp": 1735823392558,
     "user": {
      "displayName": "NK",
      "userId": "17274431766567944403"
     },
     "user_tz": -330
    },
    "id": "75bb4c76",
    "papermill": {
     "duration": 10.520365,
     "end_time": "2023-01-31T14:12:57.343915",
     "exception": false,
     "start_time": "2023-01-31T14:12:46.823550",
     "status": "completed"
    },
    "tags": []
   },
   "outputs": [],
   "source": [
    "data['mort_acc'] = data.apply(lambda x: fill_mort_acc(x['total_acc'], x['mort_acc']), axis=1)"
   ]
  },
  {
   "cell_type": "markdown",
   "id": "bffb4178",
   "metadata": {
    "id": "bffb4178",
    "papermill": {
     "duration": 0.156009,
     "end_time": "2023-01-31T14:12:57.656526",
     "exception": false,
     "start_time": "2023-01-31T14:12:57.500517",
     "status": "completed"
    },
    "tags": []
   },
   "source": [
    "### `revol_util` & `pub_rec_bankruptcies`\n",
    "These two features have missing data points, but they account for less than 0.5% of the total data. So we are going to remove the rows that are missing those values in those columns with dropna()."
   ]
  },
  {
   "cell_type": "code",
   "execution_count": 111,
   "id": "4752a829",
   "metadata": {
    "colab": {
     "base_uri": "https://localhost:8080/"
    },
    "execution": {
     "iopub.execute_input": "2023-01-31T14:12:57.973866Z",
     "iopub.status.busy": "2023-01-31T14:12:57.973485Z",
     "iopub.status.idle": "2023-01-31T14:12:58.107244Z",
     "shell.execute_reply": "2023-01-31T14:12:58.106190Z"
    },
    "executionInfo": {
     "elapsed": 4,
     "status": "ok",
     "timestamp": 1735823392559,
     "user": {
      "displayName": "NK",
      "userId": "17274431766567944403"
     },
     "user_tz": -330
    },
    "id": "4752a829",
    "outputId": "ce9b41d9-ef60-4514-96ad-bdc19b2db678",
    "papermill": {
     "duration": 0.2977,
     "end_time": "2023-01-31T14:12:58.109603",
     "exception": false,
     "start_time": "2023-01-31T14:12:57.811903",
     "status": "completed"
    },
    "tags": []
   },
   "outputs": [
    {
     "name": "stdout",
     "output_type": "stream",
     "text": [
      "'revol_util': number of missing values '276' ==> '0.070%'\n",
      "'pub_rec_bankruptcies': number of missing values '535' ==> '0.135%'\n"
     ]
    }
   ],
   "source": [
    "for column in data.columns:\n",
    "    if data[column].isna().sum() != 0:\n",
    "        missing = data[column].isna().sum()\n",
    "        portion = (missing / data.shape[0]) * 100\n",
    "        print(f\"'{column}': number of missing values '{missing}' ==> '{portion:.3f}%'\")"
   ]
  },
  {
   "cell_type": "code",
   "execution_count": 112,
   "id": "38ed484b",
   "metadata": {
    "execution": {
     "iopub.execute_input": "2023-01-31T14:12:58.425005Z",
     "iopub.status.busy": "2023-01-31T14:12:58.424030Z",
     "iopub.status.idle": "2023-01-31T14:12:58.632168Z",
     "shell.execute_reply": "2023-01-31T14:12:58.631141Z"
    },
    "executionInfo": {
     "elapsed": 793,
     "status": "ok",
     "timestamp": 1735823393349,
     "user": {
      "displayName": "NK",
      "userId": "17274431766567944403"
     },
     "user_tz": -330
    },
    "id": "38ed484b",
    "papermill": {
     "duration": 0.369642,
     "end_time": "2023-01-31T14:12:58.634630",
     "exception": false,
     "start_time": "2023-01-31T14:12:58.264988",
     "status": "completed"
    },
    "tags": []
   },
   "outputs": [],
   "source": [
    "data.dropna(inplace=True)"
   ]
  },
  {
   "cell_type": "code",
   "execution_count": 113,
   "id": "2451fc01",
   "metadata": {
    "colab": {
     "base_uri": "https://localhost:8080/"
    },
    "execution": {
     "iopub.execute_input": "2023-01-31T14:12:58.947973Z",
     "iopub.status.busy": "2023-01-31T14:12:58.947619Z",
     "iopub.status.idle": "2023-01-31T14:12:58.953981Z",
     "shell.execute_reply": "2023-01-31T14:12:58.953057Z"
    },
    "executionInfo": {
     "elapsed": 3,
     "status": "ok",
     "timestamp": 1735823393350,
     "user": {
      "displayName": "NK",
      "userId": "17274431766567944403"
     },
     "user_tz": -330
    },
    "id": "2451fc01",
    "outputId": "a6caee0a-2c9b-46c1-ce70-0314306eb373",
    "papermill": {
     "duration": 0.167537,
     "end_time": "2023-01-31T14:12:58.956153",
     "exception": false,
     "start_time": "2023-01-31T14:12:58.788616",
     "status": "completed"
    },
    "tags": []
   },
   "outputs": [
    {
     "data": {
      "text/plain": [
       "(395219, 24)"
      ]
     },
     "execution_count": 113,
     "metadata": {},
     "output_type": "execute_result"
    }
   ],
   "source": [
    "data.shape"
   ]
  },
  {
   "cell_type": "markdown",
   "id": "dbd71208",
   "metadata": {
    "id": "dbd71208",
    "papermill": {
     "duration": 0.154966,
     "end_time": "2023-01-31T14:12:59.267766",
     "exception": false,
     "start_time": "2023-01-31T14:12:59.112800",
     "status": "completed"
    },
    "tags": []
   },
   "source": [
    "## Categorical Variables and Dummy Variables"
   ]
  },
  {
   "cell_type": "code",
   "execution_count": 114,
   "id": "a9a0443b",
   "metadata": {
    "colab": {
     "base_uri": "https://localhost:8080/"
    },
    "execution": {
     "iopub.execute_input": "2023-01-31T14:12:59.581380Z",
     "iopub.status.busy": "2023-01-31T14:12:59.580307Z",
     "iopub.status.idle": "2023-01-31T14:12:59.587991Z",
     "shell.execute_reply": "2023-01-31T14:12:59.586565Z"
    },
    "executionInfo": {
     "elapsed": 572,
     "status": "ok",
     "timestamp": 1735823397499,
     "user": {
      "displayName": "NK",
      "userId": "17274431766567944403"
     },
     "user_tz": -330
    },
    "id": "a9a0443b",
    "outputId": "fb36876d-bfd9-402b-f6ab-eaa320a2e9fb",
    "papermill": {
     "duration": 0.167857,
     "end_time": "2023-01-31T14:12:59.590494",
     "exception": false,
     "start_time": "2023-01-31T14:12:59.422637",
     "status": "completed"
    },
    "tags": []
   },
   "outputs": [
    {
     "name": "stdout",
     "output_type": "stream",
     "text": [
      "['term', 'grade', 'sub_grade', 'home_ownership', 'verification_status', 'issue_d', 'loan_status', 'purpose', 'earliest_cr_line', 'initial_list_status', 'application_type', 'address']\n"
     ]
    }
   ],
   "source": [
    "print([column for column in data.columns if data[column].dtype == object])"
   ]
  },
  {
   "cell_type": "markdown",
   "id": "20623395",
   "metadata": {
    "id": "20623395",
    "papermill": {
     "duration": 0.156275,
     "end_time": "2023-01-31T14:12:59.902049",
     "exception": false,
     "start_time": "2023-01-31T14:12:59.745774",
     "status": "completed"
    },
    "tags": []
   },
   "source": [
    "### `term`"
   ]
  },
  {
   "cell_type": "code",
   "execution_count": 115,
   "id": "157b0699",
   "metadata": {
    "colab": {
     "base_uri": "https://localhost:8080/"
    },
    "execution": {
     "iopub.execute_input": "2023-01-31T14:13:00.218650Z",
     "iopub.status.busy": "2023-01-31T14:13:00.217514Z",
     "iopub.status.idle": "2023-01-31T14:13:00.247794Z",
     "shell.execute_reply": "2023-01-31T14:13:00.246722Z"
    },
    "executionInfo": {
     "elapsed": 920,
     "status": "ok",
     "timestamp": 1735823399238,
     "user": {
      "displayName": "NK",
      "userId": "17274431766567944403"
     },
     "user_tz": -330
    },
    "id": "157b0699",
    "outputId": "c4963724-5589-465e-880c-88d01a7d99ce",
    "papermill": {
     "duration": 0.189848,
     "end_time": "2023-01-31T14:13:00.249831",
     "exception": false,
     "start_time": "2023-01-31T14:13:00.059983",
     "status": "completed"
    },
    "tags": []
   },
   "outputs": [
    {
     "data": {
      "text/plain": [
       "array([' 36 months', ' 60 months'], dtype=object)"
      ]
     },
     "execution_count": 115,
     "metadata": {},
     "output_type": "execute_result"
    }
   ],
   "source": [
    "data.term.unique()"
   ]
  },
  {
   "cell_type": "code",
   "execution_count": 116,
   "id": "b9a04988",
   "metadata": {
    "execution": {
     "iopub.execute_input": "2023-01-31T14:13:00.563186Z",
     "iopub.status.busy": "2023-01-31T14:13:00.562474Z",
     "iopub.status.idle": "2023-01-31T14:13:00.639156Z",
     "shell.execute_reply": "2023-01-31T14:13:00.638136Z"
    },
    "executionInfo": {
     "elapsed": 835,
     "status": "ok",
     "timestamp": 1735823410465,
     "user": {
      "displayName": "NK",
      "userId": "17274431766567944403"
     },
     "user_tz": -330
    },
    "id": "b9a04988",
    "papermill": {
     "duration": 0.236028,
     "end_time": "2023-01-31T14:13:00.641761",
     "exception": false,
     "start_time": "2023-01-31T14:13:00.405733",
     "status": "completed"
    },
    "tags": []
   },
   "outputs": [],
   "source": [
    "term_values = {' 36 months': 36, ' 60 months': 60}\n",
    "data['term'] = data.term.map(term_values)"
   ]
  },
  {
   "cell_type": "code",
   "execution_count": 117,
   "id": "49aece5a",
   "metadata": {
    "colab": {
     "base_uri": "https://localhost:8080/"
    },
    "execution": {
     "iopub.execute_input": "2023-01-31T14:13:00.954842Z",
     "iopub.status.busy": "2023-01-31T14:13:00.953804Z",
     "iopub.status.idle": "2023-01-31T14:13:00.962843Z",
     "shell.execute_reply": "2023-01-31T14:13:00.961854Z"
    },
    "executionInfo": {
     "elapsed": 616,
     "status": "ok",
     "timestamp": 1735823413724,
     "user": {
      "displayName": "NK",
      "userId": "17274431766567944403"
     },
     "user_tz": -330
    },
    "id": "49aece5a",
    "outputId": "6e8dd4e9-f50b-4dee-cd17-a520b608e1c7",
    "papermill": {
     "duration": 0.167665,
     "end_time": "2023-01-31T14:13:00.964868",
     "exception": false,
     "start_time": "2023-01-31T14:13:00.797203",
     "status": "completed"
    },
    "tags": []
   },
   "outputs": [
    {
     "data": {
      "text/plain": [
       "array([36, 60])"
      ]
     },
     "execution_count": 117,
     "metadata": {},
     "output_type": "execute_result"
    }
   ],
   "source": [
    "data.term.unique()"
   ]
  },
  {
   "cell_type": "markdown",
   "id": "de3a0265",
   "metadata": {
    "id": "de3a0265",
    "papermill": {
     "duration": 0.15528,
     "end_time": "2023-01-31T14:13:01.277139",
     "exception": false,
     "start_time": "2023-01-31T14:13:01.121859",
     "status": "completed"
    },
    "tags": []
   },
   "source": [
    "### `grade` & `sub_grade`\n",
    "\n",
    "We know that `grade` is just a sub feature of `sub_grade`, So we are goinig to drop it."
   ]
  },
  {
   "cell_type": "code",
   "execution_count": 118,
   "id": "ad383419",
   "metadata": {
    "execution": {
     "iopub.execute_input": "2023-01-31T14:13:01.592535Z",
     "iopub.status.busy": "2023-01-31T14:13:01.591599Z",
     "iopub.status.idle": "2023-01-31T14:13:01.656733Z",
     "shell.execute_reply": "2023-01-31T14:13:01.655753Z"
    },
    "executionInfo": {
     "elapsed": 524,
     "status": "ok",
     "timestamp": 1735823419243,
     "user": {
      "displayName": "NK",
      "userId": "17274431766567944403"
     },
     "user_tz": -330
    },
    "id": "ad383419",
    "papermill": {
     "duration": 0.225278,
     "end_time": "2023-01-31T14:13:01.659576",
     "exception": false,
     "start_time": "2023-01-31T14:13:01.434298",
     "status": "completed"
    },
    "tags": []
   },
   "outputs": [],
   "source": [
    "data.drop('grade', axis=1, inplace=True)"
   ]
  },
  {
   "cell_type": "code",
   "execution_count": 119,
   "id": "2439e9cb",
   "metadata": {
    "execution": {
     "iopub.execute_input": "2023-01-31T14:13:01.975911Z",
     "iopub.status.busy": "2023-01-31T14:13:01.975534Z",
     "iopub.status.idle": "2023-01-31T14:13:02.318893Z",
     "shell.execute_reply": "2023-01-31T14:13:02.317872Z"
    },
    "executionInfo": {
     "elapsed": 587,
     "status": "ok",
     "timestamp": 1735823421692,
     "user": {
      "displayName": "NK",
      "userId": "17274431766567944403"
     },
     "user_tz": -330
    },
    "id": "2439e9cb",
    "papermill": {
     "duration": 0.50391,
     "end_time": "2023-01-31T14:13:02.321337",
     "exception": false,
     "start_time": "2023-01-31T14:13:01.817427",
     "status": "completed"
    },
    "tags": []
   },
   "outputs": [],
   "source": [
    "dummies = ['sub_grade', 'verification_status', 'purpose', 'initial_list_status',\n",
    "           'application_type', 'home_ownership']\n",
    "data = pd.get_dummies(data, columns=dummies, drop_first=True)"
   ]
  },
  {
   "cell_type": "markdown",
   "id": "b78ba175",
   "metadata": {
    "id": "b78ba175",
    "papermill": {
     "duration": 0.162961,
     "end_time": "2023-01-31T14:13:02.654421",
     "exception": false,
     "start_time": "2023-01-31T14:13:02.491460",
     "status": "completed"
    },
    "tags": []
   },
   "source": [
    "### `address`\n",
    "We are going to feature engineer a zip code column from the address in the data set. Create a column called 'zip_code' that extracts the zip code from the address column."
   ]
  },
  {
   "cell_type": "code",
   "execution_count": 120,
   "id": "e9b015fc",
   "metadata": {
    "colab": {
     "base_uri": "https://localhost:8080/",
     "height": 241
    },
    "execution": {
     "iopub.execute_input": "2023-01-31T14:13:03.111792Z",
     "iopub.status.busy": "2023-01-31T14:13:03.111236Z",
     "iopub.status.idle": "2023-01-31T14:13:03.119932Z",
     "shell.execute_reply": "2023-01-31T14:13:03.118991Z"
    },
    "executionInfo": {
     "elapsed": 5,
     "status": "ok",
     "timestamp": 1735823423840,
     "user": {
      "displayName": "NK",
      "userId": "17274431766567944403"
     },
     "user_tz": -330
    },
    "id": "e9b015fc",
    "outputId": "9ca73666-fa08-43ec-f4fb-8894e7e47749",
    "papermill": {
     "duration": 0.177794,
     "end_time": "2023-01-31T14:13:03.121926",
     "exception": false,
     "start_time": "2023-01-31T14:13:02.944132",
     "status": "completed"
    },
    "tags": []
   },
   "outputs": [
    {
     "data": {
      "text/html": [
       "<div>\n",
       "<style scoped>\n",
       "    .dataframe tbody tr th:only-of-type {\n",
       "        vertical-align: middle;\n",
       "    }\n",
       "\n",
       "    .dataframe tbody tr th {\n",
       "        vertical-align: top;\n",
       "    }\n",
       "\n",
       "    .dataframe thead th {\n",
       "        text-align: right;\n",
       "    }\n",
       "</style>\n",
       "<table border=\"1\" class=\"dataframe\">\n",
       "  <thead>\n",
       "    <tr style=\"text-align: right;\">\n",
       "      <th></th>\n",
       "      <th>address</th>\n",
       "    </tr>\n",
       "  </thead>\n",
       "  <tbody>\n",
       "    <tr>\n",
       "      <th>0</th>\n",
       "      <td>0174 Michelle Gateway\\r\\nMendozaberg, OK 22690</td>\n",
       "    </tr>\n",
       "    <tr>\n",
       "      <th>1</th>\n",
       "      <td>1076 Carney Fort Apt. 347\\r\\nLoganmouth, SD 05113</td>\n",
       "    </tr>\n",
       "    <tr>\n",
       "      <th>2</th>\n",
       "      <td>87025 Mark Dale Apt. 269\\r\\nNew Sabrina, WV 05113</td>\n",
       "    </tr>\n",
       "    <tr>\n",
       "      <th>3</th>\n",
       "      <td>823 Reid Ford\\r\\nDelacruzside, MA 00813</td>\n",
       "    </tr>\n",
       "    <tr>\n",
       "      <th>4</th>\n",
       "      <td>679 Luna Roads\\r\\nGreggshire, VA 11650</td>\n",
       "    </tr>\n",
       "  </tbody>\n",
       "</table>\n",
       "</div><br><label><b>dtype:</b> object</label>"
      ],
      "text/plain": [
       "0       0174 Michelle Gateway\\r\\nMendozaberg, OK 22690\n",
       "1    1076 Carney Fort Apt. 347\\r\\nLoganmouth, SD 05113\n",
       "2    87025 Mark Dale Apt. 269\\r\\nNew Sabrina, WV 05113\n",
       "3              823 Reid Ford\\r\\nDelacruzside, MA 00813\n",
       "4               679 Luna Roads\\r\\nGreggshire, VA 11650\n",
       "Name: address, dtype: object"
      ]
     },
     "execution_count": 120,
     "metadata": {},
     "output_type": "execute_result"
    }
   ],
   "source": [
    "data.address.head()"
   ]
  },
  {
   "cell_type": "code",
   "execution_count": 121,
   "id": "3cc3188b",
   "metadata": {
    "execution": {
     "iopub.execute_input": "2023-01-31T14:13:03.458992Z",
     "iopub.status.busy": "2023-01-31T14:13:03.458459Z",
     "iopub.status.idle": "2023-01-31T14:13:03.641611Z",
     "shell.execute_reply": "2023-01-31T14:13:03.628414Z"
    },
    "executionInfo": {
     "elapsed": 3,
     "status": "ok",
     "timestamp": 1735823426200,
     "user": {
      "displayName": "NK",
      "userId": "17274431766567944403"
     },
     "user_tz": -330
    },
    "id": "3cc3188b",
    "papermill": {
     "duration": 0.362285,
     "end_time": "2023-01-31T14:13:03.644153",
     "exception": false,
     "start_time": "2023-01-31T14:13:03.281868",
     "status": "completed"
    },
    "tags": []
   },
   "outputs": [],
   "source": [
    "data['zip_code'] = data.address.apply(lambda x: x[-5:])"
   ]
  },
  {
   "cell_type": "code",
   "execution_count": 122,
   "id": "8a04d628",
   "metadata": {
    "colab": {
     "base_uri": "https://localhost:8080/",
     "height": 429
    },
    "execution": {
     "iopub.execute_input": "2023-01-31T14:13:04.068331Z",
     "iopub.status.busy": "2023-01-31T14:13:04.067955Z",
     "iopub.status.idle": "2023-01-31T14:13:04.103983Z",
     "shell.execute_reply": "2023-01-31T14:13:04.102946Z"
    },
    "executionInfo": {
     "elapsed": 733,
     "status": "ok",
     "timestamp": 1735823430147,
     "user": {
      "displayName": "NK",
      "userId": "17274431766567944403"
     },
     "user_tz": -330
    },
    "id": "8a04d628",
    "outputId": "e362c700-1927-4461-d081-0ca393f491bf",
    "papermill": {
     "duration": 0.238062,
     "end_time": "2023-01-31T14:13:04.105979",
     "exception": false,
     "start_time": "2023-01-31T14:13:03.867917",
     "status": "completed"
    },
    "tags": []
   },
   "outputs": [
    {
     "data": {
      "text/html": [
       "<div>\n",
       "<style scoped>\n",
       "    .dataframe tbody tr th:only-of-type {\n",
       "        vertical-align: middle;\n",
       "    }\n",
       "\n",
       "    .dataframe tbody tr th {\n",
       "        vertical-align: top;\n",
       "    }\n",
       "\n",
       "    .dataframe thead th {\n",
       "        text-align: right;\n",
       "    }\n",
       "</style>\n",
       "<table border=\"1\" class=\"dataframe\">\n",
       "  <thead>\n",
       "    <tr style=\"text-align: right;\">\n",
       "      <th></th>\n",
       "      <th>count</th>\n",
       "    </tr>\n",
       "    <tr>\n",
       "      <th>zip_code</th>\n",
       "      <th></th>\n",
       "    </tr>\n",
       "  </thead>\n",
       "  <tbody>\n",
       "    <tr>\n",
       "      <th>70466</th>\n",
       "      <td>56880</td>\n",
       "    </tr>\n",
       "    <tr>\n",
       "      <th>22690</th>\n",
       "      <td>56413</td>\n",
       "    </tr>\n",
       "    <tr>\n",
       "      <th>30723</th>\n",
       "      <td>56402</td>\n",
       "    </tr>\n",
       "    <tr>\n",
       "      <th>48052</th>\n",
       "      <td>55811</td>\n",
       "    </tr>\n",
       "    <tr>\n",
       "      <th>00813</th>\n",
       "      <td>45725</td>\n",
       "    </tr>\n",
       "    <tr>\n",
       "      <th>29597</th>\n",
       "      <td>45393</td>\n",
       "    </tr>\n",
       "    <tr>\n",
       "      <th>05113</th>\n",
       "      <td>45300</td>\n",
       "    </tr>\n",
       "    <tr>\n",
       "      <th>11650</th>\n",
       "      <td>11210</td>\n",
       "    </tr>\n",
       "    <tr>\n",
       "      <th>93700</th>\n",
       "      <td>11126</td>\n",
       "    </tr>\n",
       "    <tr>\n",
       "      <th>86630</th>\n",
       "      <td>10959</td>\n",
       "    </tr>\n",
       "  </tbody>\n",
       "</table>\n",
       "</div><br><label><b>dtype:</b> int64</label>"
      ],
      "text/plain": [
       "zip_code\n",
       "70466    56880\n",
       "22690    56413\n",
       "30723    56402\n",
       "48052    55811\n",
       "00813    45725\n",
       "29597    45393\n",
       "05113    45300\n",
       "11650    11210\n",
       "93700    11126\n",
       "86630    10959\n",
       "Name: count, dtype: int64"
      ]
     },
     "execution_count": 122,
     "metadata": {},
     "output_type": "execute_result"
    }
   ],
   "source": [
    "data.zip_code.value_counts()"
   ]
  },
  {
   "cell_type": "code",
   "execution_count": 123,
   "id": "dee694da",
   "metadata": {
    "execution": {
     "iopub.execute_input": "2023-01-31T14:13:04.419130Z",
     "iopub.status.busy": "2023-01-31T14:13:04.418140Z",
     "iopub.status.idle": "2023-01-31T14:13:04.601909Z",
     "shell.execute_reply": "2023-01-31T14:13:04.600917Z"
    },
    "executionInfo": {
     "elapsed": 3,
     "status": "ok",
     "timestamp": 1735823433904,
     "user": {
      "displayName": "NK",
      "userId": "17274431766567944403"
     },
     "user_tz": -330
    },
    "id": "dee694da",
    "papermill": {
     "duration": 0.34409,
     "end_time": "2023-01-31T14:13:04.604810",
     "exception": false,
     "start_time": "2023-01-31T14:13:04.260720",
     "status": "completed"
    },
    "tags": []
   },
   "outputs": [],
   "source": [
    "data = pd.get_dummies(data, columns=['zip_code'], drop_first=True)"
   ]
  },
  {
   "cell_type": "code",
   "execution_count": 124,
   "id": "dafe46bf",
   "metadata": {
    "execution": {
     "iopub.execute_input": "2023-01-31T14:13:04.919809Z",
     "iopub.status.busy": "2023-01-31T14:13:04.919417Z",
     "iopub.status.idle": "2023-01-31T14:13:04.986378Z",
     "shell.execute_reply": "2023-01-31T14:13:04.985236Z"
    },
    "executionInfo": {
     "elapsed": 750,
     "status": "ok",
     "timestamp": 1735823436236,
     "user": {
      "displayName": "NK",
      "userId": "17274431766567944403"
     },
     "user_tz": -330
    },
    "id": "dafe46bf",
    "papermill": {
     "duration": 0.226129,
     "end_time": "2023-01-31T14:13:04.989199",
     "exception": false,
     "start_time": "2023-01-31T14:13:04.763070",
     "status": "completed"
    },
    "tags": []
   },
   "outputs": [],
   "source": [
    "data.drop('address', axis=1, inplace=True)"
   ]
  },
  {
   "cell_type": "markdown",
   "id": "3be6a8ab",
   "metadata": {
    "id": "3be6a8ab",
    "papermill": {
     "duration": 0.155658,
     "end_time": "2023-01-31T14:13:05.300426",
     "exception": false,
     "start_time": "2023-01-31T14:13:05.144768",
     "status": "completed"
    },
    "tags": []
   },
   "source": [
    "### `issue_d`\n",
    "\n",
    "This would be data leakage, we wouldn't know beforehand whether or not a loan would be issued when using our model, so in theory we wouldn't have an issue_date, drop this feature."
   ]
  },
  {
   "cell_type": "code",
   "execution_count": 125,
   "id": "65dc25e2",
   "metadata": {
    "execution": {
     "iopub.execute_input": "2023-01-31T14:13:05.616027Z",
     "iopub.status.busy": "2023-01-31T14:13:05.614099Z",
     "iopub.status.idle": "2023-01-31T14:13:05.643808Z",
     "shell.execute_reply": "2023-01-31T14:13:05.642851Z"
    },
    "executionInfo": {
     "elapsed": 2,
     "status": "ok",
     "timestamp": 1735823438215,
     "user": {
      "displayName": "NK",
      "userId": "17274431766567944403"
     },
     "user_tz": -330
    },
    "id": "65dc25e2",
    "papermill": {
     "duration": 0.190885,
     "end_time": "2023-01-31T14:13:05.645959",
     "exception": false,
     "start_time": "2023-01-31T14:13:05.455074",
     "status": "completed"
    },
    "tags": []
   },
   "outputs": [],
   "source": [
    "data.drop('issue_d', axis=1, inplace=True)"
   ]
  },
  {
   "cell_type": "markdown",
   "id": "3af9fbb5",
   "metadata": {
    "id": "3af9fbb5",
    "papermill": {
     "duration": 0.158483,
     "end_time": "2023-01-31T14:13:05.959651",
     "exception": false,
     "start_time": "2023-01-31T14:13:05.801168",
     "status": "completed"
    },
    "tags": []
   },
   "source": [
    "### `earliest_cr_line`\n",
    "This appears to be a historical time stamp feature. Extract the year from this feature using a `.apply()` function, then convert it to a numeric feature."
   ]
  },
  {
   "cell_type": "code",
   "execution_count": 126,
   "id": "bWcMsn7N_qv6",
   "metadata": {
    "colab": {
     "base_uri": "https://localhost:8080/"
    },
    "executionInfo": {
     "elapsed": 3,
     "status": "ok",
     "timestamp": 1735823439619,
     "user": {
      "displayName": "NK",
      "userId": "17274431766567944403"
     },
     "user_tz": -330
    },
    "id": "bWcMsn7N_qv6",
    "outputId": "1f90e651-9405-4693-ae25-af3ff6aa6022"
   },
   "outputs": [
    {
     "name": "stdout",
     "output_type": "stream",
     "text": [
      "object\n"
     ]
    }
   ],
   "source": [
    "print(data['earliest_cr_line'].dtype)"
   ]
  },
  {
   "cell_type": "code",
   "execution_count": 127,
   "id": "UR9XI_Z6_uVI",
   "metadata": {
    "colab": {
     "base_uri": "https://localhost:8080/"
    },
    "executionInfo": {
     "elapsed": 4,
     "status": "ok",
     "timestamp": 1735823440970,
     "user": {
      "displayName": "NK",
      "userId": "17274431766567944403"
     },
     "user_tz": -330
    },
    "id": "UR9XI_Z6_uVI",
    "outputId": "6b38d13d-ec86-4b43-8203-eb7e34c4ee1b"
   },
   "outputs": [
    {
     "name": "stderr",
     "output_type": "stream",
     "text": [
      "<ipython-input-127-550dfe84d950>:2: UserWarning: Could not infer format, so each element will be parsed individually, falling back to `dateutil`. To ensure parsing is consistent and as-expected, please specify a format.\n",
      "  data['earliest_cr_line'] = pd.to_datetime(data['earliest_cr_line'])\n"
     ]
    }
   ],
   "source": [
    "if data['earliest_cr_line'].dtype != 'datetime64[ns]':\n",
    "    data['earliest_cr_line'] = pd.to_datetime(data['earliest_cr_line'])"
   ]
  },
  {
   "cell_type": "code",
   "execution_count": 128,
   "id": "9e8e8d21",
   "metadata": {
    "execution": {
     "iopub.execute_input": "2023-01-31T14:13:06.287247Z",
     "iopub.status.busy": "2023-01-31T14:13:06.286161Z",
     "iopub.status.idle": "2023-01-31T14:13:06.337535Z",
     "shell.execute_reply": "2023-01-31T14:13:06.336363Z"
    },
    "executionInfo": {
     "elapsed": 2,
     "status": "ok",
     "timestamp": 1735823442326,
     "user": {
      "displayName": "NK",
      "userId": "17274431766567944403"
     },
     "user_tz": -330
    },
    "id": "9e8e8d21",
    "papermill": {
     "duration": 0.221956,
     "end_time": "2023-01-31T14:13:06.339961",
     "exception": false,
     "start_time": "2023-01-31T14:13:06.118005",
     "status": "completed"
    },
    "tags": []
   },
   "outputs": [],
   "source": [
    "data['earliest_cr_line'] = data.earliest_cr_line.dt.year"
   ]
  },
  {
   "cell_type": "code",
   "execution_count": 129,
   "id": "5e5f8b62",
   "metadata": {
    "colab": {
     "base_uri": "https://localhost:8080/"
    },
    "execution": {
     "iopub.execute_input": "2023-01-31T14:13:06.691630Z",
     "iopub.status.busy": "2023-01-31T14:13:06.690444Z",
     "iopub.status.idle": "2023-01-31T14:13:06.700404Z",
     "shell.execute_reply": "2023-01-31T14:13:06.699300Z"
    },
    "executionInfo": {
     "elapsed": 782,
     "status": "ok",
     "timestamp": 1735823444679,
     "user": {
      "displayName": "NK",
      "userId": "17274431766567944403"
     },
     "user_tz": -330
    },
    "id": "5e5f8b62",
    "outputId": "0a9b76a7-1837-480a-ff27-3f48816c669b",
    "papermill": {
     "duration": 0.185163,
     "end_time": "2023-01-31T14:13:06.702523",
     "exception": false,
     "start_time": "2023-01-31T14:13:06.517360",
     "status": "completed"
    },
    "tags": []
   },
   "outputs": [
    {
     "data": {
      "text/plain": [
       "65"
      ]
     },
     "execution_count": 129,
     "metadata": {},
     "output_type": "execute_result"
    }
   ],
   "source": [
    "data.earliest_cr_line.nunique()"
   ]
  },
  {
   "cell_type": "code",
   "execution_count": 130,
   "id": "9a75d83a",
   "metadata": {
    "colab": {
     "base_uri": "https://localhost:8080/",
     "height": 489
    },
    "execution": {
     "iopub.execute_input": "2023-01-31T14:13:07.028013Z",
     "iopub.status.busy": "2023-01-31T14:13:07.027647Z",
     "iopub.status.idle": "2023-01-31T14:13:07.039637Z",
     "shell.execute_reply": "2023-01-31T14:13:07.038684Z"
    },
    "executionInfo": {
     "elapsed": 5,
     "status": "ok",
     "timestamp": 1735823445293,
     "user": {
      "displayName": "NK",
      "userId": "17274431766567944403"
     },
     "user_tz": -330
    },
    "id": "9a75d83a",
    "outputId": "dd1d7b56-6002-47c0-b171-91d123622d91",
    "papermill": {
     "duration": 0.178651,
     "end_time": "2023-01-31T14:13:07.041641",
     "exception": false,
     "start_time": "2023-01-31T14:13:06.862990",
     "status": "completed"
    },
    "tags": []
   },
   "outputs": [
    {
     "data": {
      "text/html": [
       "<div>\n",
       "<style scoped>\n",
       "    .dataframe tbody tr th:only-of-type {\n",
       "        vertical-align: middle;\n",
       "    }\n",
       "\n",
       "    .dataframe tbody tr th {\n",
       "        vertical-align: top;\n",
       "    }\n",
       "\n",
       "    .dataframe thead th {\n",
       "        text-align: right;\n",
       "    }\n",
       "</style>\n",
       "<table border=\"1\" class=\"dataframe\">\n",
       "  <thead>\n",
       "    <tr style=\"text-align: right;\">\n",
       "      <th></th>\n",
       "      <th>count</th>\n",
       "    </tr>\n",
       "    <tr>\n",
       "      <th>earliest_cr_line</th>\n",
       "      <th></th>\n",
       "    </tr>\n",
       "  </thead>\n",
       "  <tbody>\n",
       "    <tr>\n",
       "      <th>2000</th>\n",
       "      <td>29302</td>\n",
       "    </tr>\n",
       "    <tr>\n",
       "      <th>2001</th>\n",
       "      <td>29031</td>\n",
       "    </tr>\n",
       "    <tr>\n",
       "      <th>1999</th>\n",
       "      <td>26444</td>\n",
       "    </tr>\n",
       "    <tr>\n",
       "      <th>2002</th>\n",
       "      <td>25849</td>\n",
       "    </tr>\n",
       "    <tr>\n",
       "      <th>2003</th>\n",
       "      <td>23623</td>\n",
       "    </tr>\n",
       "    <tr>\n",
       "      <th>...</th>\n",
       "      <td>...</td>\n",
       "    </tr>\n",
       "    <tr>\n",
       "      <th>1951</th>\n",
       "      <td>3</td>\n",
       "    </tr>\n",
       "    <tr>\n",
       "      <th>1950</th>\n",
       "      <td>3</td>\n",
       "    </tr>\n",
       "    <tr>\n",
       "      <th>1953</th>\n",
       "      <td>2</td>\n",
       "    </tr>\n",
       "    <tr>\n",
       "      <th>1944</th>\n",
       "      <td>1</td>\n",
       "    </tr>\n",
       "    <tr>\n",
       "      <th>1948</th>\n",
       "      <td>1</td>\n",
       "    </tr>\n",
       "  </tbody>\n",
       "</table>\n",
       "<p>65 rows × 1 columns</p>\n",
       "</div><br><label><b>dtype:</b> int64</label>"
      ],
      "text/plain": [
       "earliest_cr_line\n",
       "2000    29302\n",
       "2001    29031\n",
       "1999    26444\n",
       "2002    25849\n",
       "2003    23623\n",
       "        ...  \n",
       "1951        3\n",
       "1950        3\n",
       "1953        2\n",
       "1944        1\n",
       "1948        1\n",
       "Name: count, Length: 65, dtype: int64"
      ]
     },
     "execution_count": 130,
     "metadata": {},
     "output_type": "execute_result"
    }
   ],
   "source": [
    "data.earliest_cr_line.value_counts()"
   ]
  },
  {
   "cell_type": "markdown",
   "id": "9cc9538f",
   "metadata": {
    "id": "9cc9538f",
    "papermill": {
     "duration": 0.15725,
     "end_time": "2023-01-31T14:13:08.474044",
     "exception": false,
     "start_time": "2023-01-31T14:13:08.316794",
     "status": "completed"
    },
    "tags": []
   },
   "source": [
    "## Train Test Split"
   ]
  },
  {
   "cell_type": "code",
   "execution_count": 133,
   "id": "2147d4fb",
   "metadata": {
    "colab": {
     "base_uri": "https://localhost:8080/"
    },
    "execution": {
     "iopub.execute_input": "2023-01-31T14:13:08.795018Z",
     "iopub.status.busy": "2023-01-31T14:13:08.792894Z",
     "iopub.status.idle": "2023-01-31T14:13:08.810410Z",
     "shell.execute_reply": "2023-01-31T14:13:08.809154Z"
    },
    "executionInfo": {
     "elapsed": 3,
     "status": "ok",
     "timestamp": 1735823453633,
     "user": {
      "displayName": "NK",
      "userId": "17274431766567944403"
     },
     "user_tz": -330
    },
    "id": "2147d4fb",
    "outputId": "1115e187-44f2-4c46-a8e2-6fb5840c7cab",
    "papermill": {
     "duration": 0.182374,
     "end_time": "2023-01-31T14:13:08.812617",
     "exception": false,
     "start_time": "2023-01-31T14:13:08.630243",
     "status": "completed"
    },
    "tags": []
   },
   "outputs": [
    {
     "name": "stdout",
     "output_type": "stream",
     "text": [
      "Weight of positive values 0.8038479931379817\n",
      "Weight of negative values 0.19615200686201828\n"
     ]
    },
    {
     "name": "stderr",
     "output_type": "stream",
     "text": [
      "<ipython-input-133-1791c04af5de>:1: FutureWarning: Series.__getitem__ treating keys as positions is deprecated. In a future version, integer keys will always be treated as labels (consistent with DataFrame behavior). To access a value by position, use `ser.iloc[pos]`\n",
      "  w_p = data.loan_status.value_counts()[0] / data.shape[0]\n",
      "<ipython-input-133-1791c04af5de>:2: FutureWarning: Series.__getitem__ treating keys as positions is deprecated. In a future version, integer keys will always be treated as labels (consistent with DataFrame behavior). To access a value by position, use `ser.iloc[pos]`\n",
      "  w_n = data.loan_status.value_counts()[1] / data.shape[0]\n"
     ]
    }
   ],
   "source": [
    "w_p = data.loan_status.value_counts()[0] / data.shape[0]\n",
    "w_n = data.loan_status.value_counts()[1] / data.shape[0]\n",
    "\n",
    "print(f\"Weight of positive values {w_p}\")\n",
    "print(f\"Weight of negative values {w_n}\")"
   ]
  },
  {
   "cell_type": "code",
   "execution_count": 134,
   "id": "b7e7224a",
   "metadata": {
    "colab": {
     "base_uri": "https://localhost:8080/"
    },
    "execution": {
     "iopub.execute_input": "2023-01-31T14:13:09.151321Z",
     "iopub.status.busy": "2023-01-31T14:13:09.150947Z",
     "iopub.status.idle": "2023-01-31T14:13:09.390120Z",
     "shell.execute_reply": "2023-01-31T14:13:09.388558Z"
    },
    "executionInfo": {
     "elapsed": 4,
     "status": "ok",
     "timestamp": 1735823455158,
     "user": {
      "displayName": "NK",
      "userId": "17274431766567944403"
     },
     "user_tz": -330
    },
    "id": "b7e7224a",
    "outputId": "1f677242-e036-4623-ccca-d51087cdc4b2",
    "papermill": {
     "duration": 0.398176,
     "end_time": "2023-01-31T14:13:09.393102",
     "exception": false,
     "start_time": "2023-01-31T14:13:08.994926",
     "status": "completed"
    },
    "tags": []
   },
   "outputs": [
    {
     "name": "stdout",
     "output_type": "stream",
     "text": [
      "(264796, 81)\n",
      "(130423, 81)\n"
     ]
    }
   ],
   "source": [
    "train, test = train_test_split(data, test_size=0.33, random_state=42)\n",
    "\n",
    "print(train.shape)\n",
    "print(test.shape)"
   ]
  },
  {
   "cell_type": "markdown",
   "id": "a0efbd91",
   "metadata": {
    "id": "a0efbd91",
    "papermill": {
     "duration": 0.156773,
     "end_time": "2023-01-31T14:13:09.705705",
     "exception": false,
     "start_time": "2023-01-31T14:13:09.548932",
     "status": "completed"
    },
    "tags": []
   },
   "source": [
    "# Removing Outliers"
   ]
  },
  {
   "cell_type": "code",
   "execution_count": 135,
   "id": "57438231",
   "metadata": {
    "colab": {
     "base_uri": "https://localhost:8080/"
    },
    "execution": {
     "iopub.execute_input": "2023-01-31T14:13:10.034755Z",
     "iopub.status.busy": "2023-01-31T14:13:10.034383Z",
     "iopub.status.idle": "2023-01-31T14:13:10.155052Z",
     "shell.execute_reply": "2023-01-31T14:13:10.153889Z"
    },
    "executionInfo": {
     "elapsed": 531,
     "status": "ok",
     "timestamp": 1735823458003,
     "user": {
      "displayName": "NK",
      "userId": "17274431766567944403"
     },
     "user_tz": -330
    },
    "id": "57438231",
    "outputId": "d0502218-3997-47f9-9256-7a9629539236",
    "papermill": {
     "duration": 0.293119,
     "end_time": "2023-01-31T14:13:10.158071",
     "exception": false,
     "start_time": "2023-01-31T14:13:09.864952",
     "status": "completed"
    },
    "tags": []
   },
   "outputs": [
    {
     "name": "stdout",
     "output_type": "stream",
     "text": [
      "(264776, 81)\n",
      "(264796, 81)\n"
     ]
    }
   ],
   "source": [
    "print(train[train['dti'] <= 50].shape)\n",
    "print(train.shape)"
   ]
  },
  {
   "cell_type": "code",
   "execution_count": 136,
   "id": "fabd5d50",
   "metadata": {
    "colab": {
     "base_uri": "https://localhost:8080/"
    },
    "execution": {
     "iopub.execute_input": "2023-01-31T14:13:10.475038Z",
     "iopub.status.busy": "2023-01-31T14:13:10.473784Z",
     "iopub.status.idle": "2023-01-31T14:13:11.100729Z",
     "shell.execute_reply": "2023-01-31T14:13:11.099575Z"
    },
    "executionInfo": {
     "elapsed": 561,
     "status": "ok",
     "timestamp": 1735823459249,
     "user": {
      "displayName": "NK",
      "userId": "17274431766567944403"
     },
     "user_tz": -330
    },
    "id": "fabd5d50",
    "outputId": "40079f4c-6eea-4dd2-af8e-d72244f64669",
    "papermill": {
     "duration": 0.788178,
     "end_time": "2023-01-31T14:13:11.103459",
     "exception": false,
     "start_time": "2023-01-31T14:13:10.315281",
     "status": "completed"
    },
    "tags": []
   },
   "outputs": [
    {
     "name": "stdout",
     "output_type": "stream",
     "text": [
      "(264796, 81)\n",
      "(262143, 81)\n"
     ]
    }
   ],
   "source": [
    "print(train.shape)\n",
    "train = train[train['annual_inc'] <= 250000]\n",
    "train = train[train['dti'] <= 50]\n",
    "train = train[train['open_acc'] <= 40]\n",
    "train = train[train['total_acc'] <= 80]\n",
    "train = train[train['revol_util'] <= 120]\n",
    "train = train[train['revol_bal'] <= 250000]\n",
    "print(train.shape)"
   ]
  },
  {
   "cell_type": "markdown",
   "id": "9dde0a81",
   "metadata": {
    "id": "9dde0a81",
    "papermill": {
     "duration": 0.158827,
     "end_time": "2023-01-31T14:13:11.421049",
     "exception": false,
     "start_time": "2023-01-31T14:13:11.262222",
     "status": "completed"
    },
    "tags": []
   },
   "source": [
    "## Normalizing the data"
   ]
  },
  {
   "cell_type": "code",
   "execution_count": 137,
   "id": "efcd9fb9",
   "metadata": {
    "execution": {
     "iopub.execute_input": "2023-01-31T14:13:11.736172Z",
     "iopub.status.busy": "2023-01-31T14:13:11.735814Z",
     "iopub.status.idle": "2023-01-31T14:13:11.791557Z",
     "shell.execute_reply": "2023-01-31T14:13:11.790554Z"
    },
    "executionInfo": {
     "elapsed": 3,
     "status": "ok",
     "timestamp": 1735823461026,
     "user": {
      "displayName": "NK",
      "userId": "17274431766567944403"
     },
     "user_tz": -330
    },
    "id": "efcd9fb9",
    "papermill": {
     "duration": 0.216203,
     "end_time": "2023-01-31T14:13:11.794054",
     "exception": false,
     "start_time": "2023-01-31T14:13:11.577851",
     "status": "completed"
    },
    "tags": []
   },
   "outputs": [],
   "source": [
    "X_train, y_train = train.drop('loan_status', axis=1), train.loan_status\n",
    "X_test, y_test = test.drop('loan_status', axis=1), test.loan_status"
   ]
  },
  {
   "cell_type": "code",
   "execution_count": 138,
   "id": "b952968a",
   "metadata": {
    "colab": {
     "base_uri": "https://localhost:8080/",
     "height": 458
    },
    "execution": {
     "iopub.execute_input": "2023-01-31T14:13:12.110477Z",
     "iopub.status.busy": "2023-01-31T14:13:12.110103Z",
     "iopub.status.idle": "2023-01-31T14:13:12.118945Z",
     "shell.execute_reply": "2023-01-31T14:13:12.117924Z"
    },
    "executionInfo": {
     "elapsed": 559,
     "status": "ok",
     "timestamp": 1735823463262,
     "user": {
      "displayName": "NK",
      "userId": "17274431766567944403"
     },
     "user_tz": -330
    },
    "id": "b952968a",
    "outputId": "756ac379-916c-45bc-f828-c70e328e9a69",
    "papermill": {
     "duration": 0.169964,
     "end_time": "2023-01-31T14:13:12.121048",
     "exception": false,
     "start_time": "2023-01-31T14:13:11.951084",
     "status": "completed"
    },
    "tags": []
   },
   "outputs": [
    {
     "data": {
      "text/html": [
       "<div>\n",
       "<style scoped>\n",
       "    .dataframe tbody tr th:only-of-type {\n",
       "        vertical-align: middle;\n",
       "    }\n",
       "\n",
       "    .dataframe tbody tr th {\n",
       "        vertical-align: top;\n",
       "    }\n",
       "\n",
       "    .dataframe thead th {\n",
       "        text-align: right;\n",
       "    }\n",
       "</style>\n",
       "<table border=\"1\" class=\"dataframe\">\n",
       "  <thead>\n",
       "    <tr style=\"text-align: right;\">\n",
       "      <th></th>\n",
       "      <th>0</th>\n",
       "    </tr>\n",
       "  </thead>\n",
       "  <tbody>\n",
       "    <tr>\n",
       "      <th>loan_amnt</th>\n",
       "      <td>float64</td>\n",
       "    </tr>\n",
       "    <tr>\n",
       "      <th>term</th>\n",
       "      <td>int64</td>\n",
       "    </tr>\n",
       "    <tr>\n",
       "      <th>int_rate</th>\n",
       "      <td>float64</td>\n",
       "    </tr>\n",
       "    <tr>\n",
       "      <th>installment</th>\n",
       "      <td>float64</td>\n",
       "    </tr>\n",
       "    <tr>\n",
       "      <th>annual_inc</th>\n",
       "      <td>float64</td>\n",
       "    </tr>\n",
       "    <tr>\n",
       "      <th>...</th>\n",
       "      <td>...</td>\n",
       "    </tr>\n",
       "    <tr>\n",
       "      <th>zip_code_30723</th>\n",
       "      <td>bool</td>\n",
       "    </tr>\n",
       "    <tr>\n",
       "      <th>zip_code_48052</th>\n",
       "      <td>bool</td>\n",
       "    </tr>\n",
       "    <tr>\n",
       "      <th>zip_code_70466</th>\n",
       "      <td>bool</td>\n",
       "    </tr>\n",
       "    <tr>\n",
       "      <th>zip_code_86630</th>\n",
       "      <td>bool</td>\n",
       "    </tr>\n",
       "    <tr>\n",
       "      <th>zip_code_93700</th>\n",
       "      <td>bool</td>\n",
       "    </tr>\n",
       "  </tbody>\n",
       "</table>\n",
       "<p>80 rows × 1 columns</p>\n",
       "</div><br><label><b>dtype:</b> object</label>"
      ],
      "text/plain": [
       "loan_amnt         float64\n",
       "term                int64\n",
       "int_rate          float64\n",
       "installment       float64\n",
       "annual_inc        float64\n",
       "                   ...   \n",
       "zip_code_30723       bool\n",
       "zip_code_48052       bool\n",
       "zip_code_70466       bool\n",
       "zip_code_86630       bool\n",
       "zip_code_93700       bool\n",
       "Length: 80, dtype: object"
      ]
     },
     "execution_count": 138,
     "metadata": {},
     "output_type": "execute_result"
    }
   ],
   "source": [
    "X_train.dtypes"
   ]
  },
  {
   "cell_type": "markdown",
   "id": "c55d6f8d",
   "metadata": {},
   "source": [
    "The zip_code shouldn't give bool data type it should int64... gotta work on that"
   ]
  },
  {
   "cell_type": "code",
   "execution_count": 139,
   "id": "39d07e9c",
   "metadata": {
    "execution": {
     "iopub.execute_input": "2023-01-31T14:13:12.452281Z",
     "iopub.status.busy": "2023-01-31T14:13:12.451489Z",
     "iopub.status.idle": "2023-01-31T14:13:12.757747Z",
     "shell.execute_reply": "2023-01-31T14:13:12.756743Z"
    },
    "executionInfo": {
     "elapsed": 2378,
     "status": "ok",
     "timestamp": 1735823471671,
     "user": {
      "displayName": "NK",
      "userId": "17274431766567944403"
     },
     "user_tz": -330
    },
    "id": "39d07e9c",
    "papermill": {
     "duration": 0.483212,
     "end_time": "2023-01-31T14:13:12.760285",
     "exception": false,
     "start_time": "2023-01-31T14:13:12.277073",
     "status": "completed"
    },
    "tags": []
   },
   "outputs": [],
   "source": [
    "scaler = MinMaxScaler()\n",
    "X_train = scaler.fit_transform(X_train)\n",
    "X_test = scaler.transform(X_test)"
   ]
  },
  {
   "cell_type": "markdown",
   "id": "64ddcb0d",
   "metadata": {
    "id": "64ddcb0d",
    "papermill": {
     "duration": 0.162943,
     "end_time": "2023-01-31T14:13:13.083170",
     "exception": false,
     "start_time": "2023-01-31T14:13:12.920227",
     "status": "completed"
    },
    "tags": []
   },
   "source": [
    "# Model Building"
   ]
  },
  {
   "cell_type": "code",
   "execution_count": 140,
   "id": "47a8291a",
   "metadata": {
    "execution": {
     "iopub.execute_input": "2023-01-31T14:13:13.702918Z",
     "iopub.status.busy": "2023-01-31T14:13:13.702551Z",
     "iopub.status.idle": "2023-01-31T14:13:13.709718Z",
     "shell.execute_reply": "2023-01-31T14:13:13.708705Z"
    },
    "executionInfo": {
     "elapsed": 814,
     "status": "ok",
     "timestamp": 1735823475854,
     "user": {
      "displayName": "NK",
      "userId": "17274431766567944403"
     },
     "user_tz": -330
    },
    "id": "47a8291a",
    "papermill": {
     "duration": 0.176326,
     "end_time": "2023-01-31T14:13:13.711748",
     "exception": false,
     "start_time": "2023-01-31T14:13:13.535422",
     "status": "completed"
    },
    "tags": []
   },
   "outputs": [],
   "source": [
    "def print_score(true, pred, train=True):\n",
    "    if train:\n",
    "        clf_report = pd.DataFrame(classification_report(true, pred, output_dict=True))\n",
    "        print(\"Train Result:\\n================================================\")\n",
    "        print(f\"Accuracy Score: {accuracy_score(true, pred) * 100:.2f}%\")\n",
    "        print(\"_______________________________________________\")\n",
    "        print(f\"CLASSIFICATION REPORT:\\n{clf_report}\")\n",
    "        print(\"_______________________________________________\")\n",
    "        print(f\"Confusion Matrix: \\n {confusion_matrix(true, pred)}\\n\")\n",
    "\n",
    "    elif train==False:\n",
    "        clf_report = pd.DataFrame(classification_report(true, pred, output_dict=True))\n",
    "        print(\"Test Result:\\n================================================\")\n",
    "        print(f\"Accuracy Score: {accuracy_score(true, pred) * 100:.2f}%\")\n",
    "        print(\"_______________________________________________\")\n",
    "        print(f\"CLASSIFICATION REPORT:\\n{clf_report}\")\n",
    "        print(\"_______________________________________________\")\n",
    "        print(f\"Confusion Matrix: \\n {confusion_matrix(true, pred)}\\n\")"
   ]
  },
  {
   "cell_type": "code",
   "execution_count": 141,
   "id": "c5496fff",
   "metadata": {
    "execution": {
     "iopub.execute_input": "2023-01-31T14:13:14.033190Z",
     "iopub.status.busy": "2023-01-31T14:13:14.032464Z",
     "iopub.status.idle": "2023-01-31T14:13:14.175279Z",
     "shell.execute_reply": "2023-01-31T14:13:14.174240Z"
    },
    "executionInfo": {
     "elapsed": 522,
     "status": "ok",
     "timestamp": 1735823477748,
     "user": {
      "displayName": "NK",
      "userId": "17274431766567944403"
     },
     "user_tz": -330
    },
    "id": "c5496fff",
    "papermill": {
     "duration": 0.308458,
     "end_time": "2023-01-31T14:13:14.177882",
     "exception": false,
     "start_time": "2023-01-31T14:13:13.869424",
     "status": "completed"
    },
    "tags": []
   },
   "outputs": [],
   "source": [
    "X_train = np.array(X_train).astype(np.float32)\n",
    "X_test = np.array(X_test).astype(np.float32)\n",
    "y_train = y_train.map({'Fully Paid': 1, 'Charged Off': 0}).astype(np.float32)\n",
    "y_test = y_test.map({'Fully Paid': 1, 'Charged Off': 0}).astype(np.float32)"
   ]
  },
  {
   "cell_type": "markdown",
   "id": "181bc15a",
   "metadata": {
    "id": "181bc15a",
    "papermill": {
     "duration": 0.210638,
     "end_time": "2023-01-31T14:13:14.544154",
     "exception": false,
     "start_time": "2023-01-31T14:13:14.333516",
     "status": "completed"
    },
    "tags": []
   },
   "source": [
    "# Artificial Neural Networks (ANNs)"
   ]
  },
  {
   "cell_type": "code",
   "execution_count": 142,
   "id": "352a2656",
   "metadata": {
    "execution": {
     "iopub.execute_input": "2023-01-31T14:13:15.007835Z",
     "iopub.status.busy": "2023-01-31T14:13:15.007404Z",
     "iopub.status.idle": "2023-01-31T14:13:15.022245Z",
     "shell.execute_reply": "2023-01-31T14:13:15.021309Z"
    },
    "executionInfo": {
     "elapsed": 615,
     "status": "ok",
     "timestamp": 1735823480280,
     "user": {
      "displayName": "NK",
      "userId": "17274431766567944403"
     },
     "user_tz": -330
    },
    "id": "352a2656",
    "papermill": {
     "duration": 0.249261,
     "end_time": "2023-01-31T14:13:15.024564",
     "exception": false,
     "start_time": "2023-01-31T14:13:14.775303",
     "status": "completed"
    },
    "tags": []
   },
   "outputs": [],
   "source": [
    "def evaluate_nn(true, pred, train=True):\n",
    "    if train:\n",
    "        clf_report = pd.DataFrame(classification_report(true, pred, output_dict=True))\n",
    "        print(\"Train Result:\\n================================================\")\n",
    "        print(f\"Accuracy Score: {accuracy_score(true, pred) * 100:.2f}%\")\n",
    "        print(\"_______________________________________________\")\n",
    "        print(f\"CLASSIFICATION REPORT:\\n{clf_report}\")\n",
    "        print(\"_______________________________________________\")\n",
    "        print(f\"Confusion Matrix: \\n {confusion_matrix(true, pred)}\\n\")\n",
    "\n",
    "    elif train==False:\n",
    "        clf_report = pd.DataFrame(classification_report(true, pred, output_dict=True))\n",
    "        print(\"Test Result:\\n================================================\")\n",
    "        print(f\"Accuracy Score: {accuracy_score(true, pred) * 100:.2f}%\")\n",
    "        print(\"_______________________________________________\")\n",
    "        print(f\"CLASSIFICATION REPORT:\\n{clf_report}\")\n",
    "        print(\"_______________________________________________\")\n",
    "        print(f\"Confusion Matrix: \\n {confusion_matrix(true, pred)}\\n\")\n",
    "\n",
    "def plot_learning_evolution(r):\n",
    "    plt.figure(figsize=(12, 8))\n",
    "\n",
    "    plt.subplot(2, 2, 1)\n",
    "    plt.plot(r.history['loss'], label='Loss')\n",
    "    plt.plot(r.history['val_loss'], label='val_Loss')\n",
    "    plt.title('Loss evolution during trainig')\n",
    "    plt.legend()\n",
    "\n",
    "    plt.subplot(2, 2, 2)\n",
    "    plt.plot(r.history['AUC'], label='AUC')\n",
    "    plt.plot(r.history['val_AUC'], label='val_AUC')\n",
    "    plt.title('AUC score evolution during trainig')\n",
    "    plt.legend();\n",
    "\n",
    "def nn_model(num_columns, num_labels, hidden_units, dropout_rates, learning_rate):\n",
    "    inp = tf.keras.layers.Input(shape=(num_columns, ))\n",
    "    x = BatchNormalization()(inp)\n",
    "    x = Dropout(dropout_rates[0])(x)\n",
    "    for i in range(len(hidden_units)):\n",
    "        x = Dense(hidden_units[i], activation='relu')(x)\n",
    "        x = BatchNormalization()(x)\n",
    "        x = Dropout(dropout_rates[i + 1])(x)\n",
    "    x = Dense(num_labels, activation='relu')(x)\n",
    "    x = tf.keras.layers.Activation('sigmoid')(x)\n",
    "\n",
    "    model = Model(inputs=inp, outputs=x)\n",
    "    model.compile(optimizer=Adam(learning_rate), loss='binary_crossentropy', metrics=[AUC(name='AUC')])\n",
    "    return model"
   ]
  },
  {
   "cell_type": "code",
   "execution_count": 143,
   "id": "48c81c29",
   "metadata": {
    "_kg_hide-output": true,
    "colab": {
     "base_uri": "https://localhost:8080/"
    },
    "execution": {
     "iopub.execute_input": "2023-01-31T14:13:15.346693Z",
     "iopub.status.busy": "2023-01-31T14:13:15.345817Z",
     "iopub.status.idle": "2023-01-31T14:30:28.284730Z",
     "shell.execute_reply": "2023-01-31T14:30:28.283732Z"
    },
    "executionInfo": {
     "elapsed": 378477,
     "status": "ok",
     "timestamp": 1735823864573,
     "user": {
      "displayName": "NK",
      "userId": "17274431766567944403"
     },
     "user_tz": -330
    },
    "id": "48c81c29",
    "outputId": "c5d67d73-8efb-4bff-e68b-40efd5f37c6e",
    "papermill": {
     "duration": 1033.100957,
     "end_time": "2023-01-31T14:30:28.286962",
     "exception": false,
     "start_time": "2023-01-31T14:13:15.186005",
     "status": "completed"
    },
    "tags": []
   },
   "outputs": [
    {
     "name": "stdout",
     "output_type": "stream",
     "text": [
      "Epoch 1/5\n",
      "\u001b[1m8192/8192\u001b[0m \u001b[32m━━━━━━━━━━━━━━━━━━━━\u001b[0m\u001b[37m\u001b[0m \u001b[1m51s\u001b[0m 6ms/step - AUC: 0.8304 - loss: 0.3770 - val_AUC: 0.8949 - val_loss: 0.3247\n",
      "Epoch 2/5\n",
      "\u001b[1m8192/8192\u001b[0m \u001b[32m━━━━━━━━━━━━━━━━━━━━\u001b[0m\u001b[37m\u001b[0m \u001b[1m81s\u001b[0m 6ms/step - AUC: 0.8719 - loss: 0.3475 - val_AUC: 0.9024 - val_loss: 0.3189\n",
      "Epoch 3/5\n",
      "\u001b[1m8192/8192\u001b[0m \u001b[32m━━━━━━━━━━━━━━━━━━━━\u001b[0m\u001b[37m\u001b[0m \u001b[1m44s\u001b[0m 5ms/step - AUC: 0.8797 - loss: 0.3382 - val_AUC: 0.8995 - val_loss: 0.3194\n",
      "Epoch 4/5\n",
      "\u001b[1m8192/8192\u001b[0m \u001b[32m━━━━━━━━━━━━━━━━━━━━\u001b[0m\u001b[37m\u001b[0m \u001b[1m86s\u001b[0m 6ms/step - AUC: 0.8805 - loss: 0.3380 - val_AUC: 0.9025 - val_loss: 0.3171\n",
      "Epoch 5/5\n",
      "\u001b[1m8192/8192\u001b[0m \u001b[32m━━━━━━━━━━━━━━━━━━━━\u001b[0m\u001b[37m\u001b[0m \u001b[1m77s\u001b[0m 5ms/step - AUC: 0.8829 - loss: 0.3361 - val_AUC: 0.9047 - val_loss: 0.3159\n"
     ]
    }
   ],
   "source": [
    "num_columns = X_train.shape[1]\n",
    "num_labels = 1\n",
    "hidden_units = [150, 150, 150]\n",
    "dropout_rates = [0.1, 0, 0.1, 0]\n",
    "learning_rate = 1e-3\n",
    "\n",
    "\n",
    "model = nn_model(\n",
    "    num_columns=num_columns,\n",
    "    num_labels=num_labels,\n",
    "    hidden_units=hidden_units,\n",
    "    dropout_rates=dropout_rates,\n",
    "    learning_rate=learning_rate\n",
    ")\n",
    "r = model.fit(\n",
    "    X_train, y_train,\n",
    "    validation_data=(X_test, y_test),\n",
    "    epochs=5,\n",
    "    batch_size=32\n",
    ")"
   ]
  },
  {
   "cell_type": "code",
   "execution_count": 144,
   "id": "f69c05d9",
   "metadata": {
    "colab": {
     "base_uri": "https://localhost:8080/",
     "height": 363
    },
    "execution": {
     "iopub.execute_input": "2023-01-31T14:30:30.623791Z",
     "iopub.status.busy": "2023-01-31T14:30:30.623413Z",
     "iopub.status.idle": "2023-01-31T14:30:30.935397Z",
     "shell.execute_reply": "2023-01-31T14:30:30.934469Z"
    },
    "executionInfo": {
     "elapsed": 1172,
     "status": "ok",
     "timestamp": 1735823869274,
     "user": {
      "displayName": "NK",
      "userId": "17274431766567944403"
     },
     "user_tz": -330
    },
    "id": "f69c05d9",
    "outputId": "52fb7870-ef08-4b30-fc54-b88814b095a6",
    "papermill": {
     "duration": 1.379851,
     "end_time": "2023-01-31T14:30:30.937649",
     "exception": false,
     "start_time": "2023-01-31T14:30:29.557798",
     "status": "completed"
    },
    "tags": []
   },
   "outputs": [
    {
     "data": {
      "image/png": "[encoded data removed]",
      "text/plain": [
       "<Figure size 1200x800 with 2 Axes>"
      ]
     },
     "metadata": {},
     "output_type": "display_data"
    }
   ],
   "source": [
    "plot_learning_evolution(r)"
   ]
  },
  {
   "cell_type": "code",
   "execution_count": 145,
   "id": "9dc134ee",
   "metadata": {
    "colab": {
     "base_uri": "https://localhost:8080/"
    },
    "execution": {
     "iopub.execute_input": "2023-01-31T14:30:33.014813Z",
     "iopub.status.busy": "2023-01-31T14:30:33.014432Z",
     "iopub.status.idle": "2023-01-31T14:30:44.349045Z",
     "shell.execute_reply": "2023-01-31T14:30:44.348071Z"
    },
    "executionInfo": {
     "elapsed": 21984,
     "status": "ok",
     "timestamp": 1735823894619,
     "user": {
      "displayName": "NK",
      "userId": "17274431766567944403"
     },
     "user_tz": -330
    },
    "id": "9dc134ee",
    "outputId": "5807355b-12fd-4d63-984c-a70475519175",
    "papermill": {
     "duration": 12.408002,
     "end_time": "2023-01-31T14:30:44.351122",
     "exception": false,
     "start_time": "2023-01-31T14:30:31.943120",
     "status": "completed"
    },
    "tags": []
   },
   "outputs": [
    {
     "name": "stdout",
     "output_type": "stream",
     "text": [
      "\u001b[1m8192/8192\u001b[0m \u001b[32m━━━━━━━━━━━━━━━━━━━━\u001b[0m\u001b[37m\u001b[0m \u001b[1m15s\u001b[0m 2ms/step\n",
      "Train Result:\n",
      "================================================\n",
      "Accuracy Score: 88.83%\n",
      "_______________________________________________\n",
      "CLASSIFICATION REPORT:\n",
      "               0.0       1.0  accuracy  macro avg  weighted avg\n",
      "precision     0.95      0.88      0.89       0.91          0.89\n",
      "recall        0.46      0.99      0.89       0.73          0.89\n",
      "f1-score      0.62      0.93      0.89       0.78          0.87\n",
      "support   51665.00 210478.00      0.89  262143.00     262143.00\n",
      "_______________________________________________\n",
      "Confusion Matrix: \n",
      " [[ 23728  27937]\n",
      " [  1353 209125]]\n",
      "\n"
     ]
    }
   ],
   "source": [
    "y_train_pred = model.predict(X_train)\n",
    "evaluate_nn(y_train, y_train_pred.round(), train=True)"
   ]
  },
  {
   "cell_type": "code",
   "execution_count": 146,
   "id": "810bd61f",
   "metadata": {
    "colab": {
     "base_uri": "https://localhost:8080/"
    },
    "execution": {
     "iopub.execute_input": "2023-01-31T14:30:46.410825Z",
     "iopub.status.busy": "2023-01-31T14:30:46.409936Z",
     "iopub.status.idle": "2023-01-31T14:30:51.558632Z",
     "shell.execute_reply": "2023-01-31T14:30:51.557479Z"
    },
    "executionInfo": {
     "elapsed": 11478,
     "status": "ok",
     "timestamp": 1735823911577,
     "user": {
      "displayName": "NK",
      "userId": "17274431766567944403"
     },
     "user_tz": -330
    },
    "id": "810bd61f",
    "outputId": "37beb6d1-16f6-4ac0-816e-ece92508c44e",
    "papermill": {
     "duration": 6.154345,
     "end_time": "2023-01-31T14:30:51.560766",
     "exception": false,
     "start_time": "2023-01-31T14:30:45.406421",
     "status": "completed"
    },
    "tags": []
   },
   "outputs": [
    {
     "name": "stdout",
     "output_type": "stream",
     "text": [
      "\u001b[1m4076/4076\u001b[0m \u001b[32m━━━━━━━━━━━━━━━━━━━━\u001b[0m\u001b[37m\u001b[0m \u001b[1m8s\u001b[0m 2ms/step\n",
      "Test Result:\n",
      "================================================\n",
      "Accuracy Score: 88.89%\n",
      "_______________________________________________\n",
      "CLASSIFICATION REPORT:\n",
      "               0.0       1.0  accuracy  macro avg  weighted avg\n",
      "precision     0.94      0.88      0.89       0.91          0.89\n",
      "recall        0.46      0.99      0.89       0.73          0.89\n",
      "f1-score      0.62      0.94      0.89       0.78          0.87\n",
      "support   25480.00 104943.00      0.89  130423.00     130423.00\n",
      "_______________________________________________\n",
      "Confusion Matrix: \n",
      " [[ 11730  13750]\n",
      " [   738 104205]]\n",
      "\n"
     ]
    }
   ],
   "source": [
    "y_test_pred = model.predict(X_test)\n",
    "evaluate_nn(y_test, y_test_pred.round(), train=False)"
   ]
  }
 ],
 "metadata": {
  "colab": {
   "provenance": []
  },
  "kernelspec": {
   "display_name": "Python 3",
   "language": "python",
   "name": "python3"
  },
  "language_info": {
   "codemirror_mode": {
    "name": "ipython",
    "version": 3
   },
   "file_extension": ".py",
   "mimetype": "text/x-python",
   "name": "python",
   "nbconvert_exporter": "python",
   "pygments_lexer": "ipython3",
   "version": "3.7.12"
  },
  "papermill": {
   "default_parameters": {},
   "duration": 1434.559462,
   "end_time": "2023-01-31T14:35:09.548746",
   "environment_variables": {},
   "exception": null,
   "input_path": "__notebook__.ipynb",
   "output_path": "__notebook__.ipynb",
   "parameters": {},
   "start_time": "2023-01-31T14:11:14.989284",
   "version": "2.3.4"
  }
 },
 "nbformat": 4,
 "nbformat_minor": 5
}
